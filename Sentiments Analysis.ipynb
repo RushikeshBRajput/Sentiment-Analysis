{
 "cells": [
  {
   "cell_type": "markdown",
   "id": "e40e9346",
   "metadata": {},
   "source": [
    "# SENTIMENT ANALYSIS"
   ]
  },
  {
   "cell_type": "markdown",
   "id": "b2d03f62",
   "metadata": {},
   "source": [
    "# INTRODUCTION"
   ]
  },
  {
   "cell_type": "markdown",
   "id": "9d5fa54d",
   "metadata": {},
   "source": [
    "This is a list of 1,000 hotels and their reviews provided by Datafiniti's Business Database.\n",
    "\n",
    "\n",
    "The dataset includes hotel location, name, rating, review data, title, username, and more."
   ]
  },
  {
   "cell_type": "markdown",
   "id": "7fe29a47",
   "metadata": {},
   "source": [
    "# About Dataset"
   ]
  },
  {
   "cell_type": "markdown",
   "id": "f42850ba",
   "metadata": {},
   "source": [
    "ALTHOUGH ORIGINAL DATASET CONTAINS MANY COLUMNS WE ONLY REQUIRE THESE MANY\n",
    "\n",
    "\n",
    "\n",
    "1>address--------> Address of the Hotel  ('5620 calle real', '5th and san carlos po box 3574',\n",
    "                                         '167 w main st','3101 coliseum dr', '7886 main street',\n",
    "                                         '3505 s main st'...)   \n",
    "\n",
    "\n",
    "\n",
    "\n",
    "   \n",
    "2>city-----------> Cities                ('goleta', 'carmel by the sea', 'lexington', 'russell springs',\n",
    "                                         'hopkinsville', 'carpinteria', 'redwood city', 'new orleans',\n",
    "                                         'estes park', 'rangely', 'longmont', 'colorado springs', 'macomb'.....)\n",
    "\n",
    "\n",
    "\n",
    "\n",
    "\n",
    "\n",
    "                        \n",
    "3>name-----------> Name of Hotels        ('best western plus south coast inn',\n",
    "                                         \"best western carmel's town house lodge\",\n",
    "                                         '21c museum hotel lexington', ...)\n",
    "\n",
    "\n",
    "\n",
    "\n",
    "\n",
    "     \n",
    "      \n",
    "4>reviews.rating--> Ratings given        (1,2,3,4,5)        \n",
    "   \n",
    "    \n",
    "    \n",
    "    \n",
    "    \n",
    "    \n",
    "    \n",
    "    \n",
    "reviews.text------> Reviews given                   \n",
    "            "
   ]
  },
  {
   "cell_type": "markdown",
   "id": "2dee8314",
   "metadata": {},
   "source": [
    "# IMPORTING LIBRARIES"
   ]
  },
  {
   "cell_type": "code",
   "execution_count": 135,
   "id": "2d169360",
   "metadata": {},
   "outputs": [
    {
     "name": "stderr",
     "output_type": "stream",
     "text": [
      "[nltk_data] Downloading package punkt to\n",
      "[nltk_data]     C:\\Users\\PRANAV\\AppData\\Roaming\\nltk_data...\n",
      "[nltk_data]   Package punkt is already up-to-date!\n",
      "[nltk_data] Downloading package stopwords to\n",
      "[nltk_data]     C:\\Users\\PRANAV\\AppData\\Roaming\\nltk_data...\n",
      "[nltk_data]   Package stopwords is already up-to-date!\n"
     ]
    }
   ],
   "source": [
    "import pandas as pd\n",
    "import numpy as np\n",
    "import string\n",
    "import nltk\n",
    "nltk.download('punkt')\n",
    "nltk.download('stopwords')\n",
    "from nltk.corpus import stopwords\n",
    "from nltk.tokenize import word_tokenize"
   ]
  },
  {
   "cell_type": "code",
   "execution_count": 136,
   "id": "e7d9dc43",
   "metadata": {},
   "outputs": [],
   "source": [
    "data=pd.read_csv(r\"C:\\Users\\PRANAV\\Downloads\\archive (16)\\Datafiniti_Hotel_Reviews_Jun19.csv\")         # reading dataset"
   ]
  },
  {
   "cell_type": "code",
   "execution_count": 137,
   "id": "447e221d",
   "metadata": {},
   "outputs": [
    {
     "data": {
      "text/html": [
       "<div>\n",
       "<style scoped>\n",
       "    .dataframe tbody tr th:only-of-type {\n",
       "        vertical-align: middle;\n",
       "    }\n",
       "\n",
       "    .dataframe tbody tr th {\n",
       "        vertical-align: top;\n",
       "    }\n",
       "\n",
       "    .dataframe thead th {\n",
       "        text-align: right;\n",
       "    }\n",
       "</style>\n",
       "<table border=\"1\" class=\"dataframe\">\n",
       "  <thead>\n",
       "    <tr style=\"text-align: right;\">\n",
       "      <th></th>\n",
       "      <th>id</th>\n",
       "      <th>dateAdded</th>\n",
       "      <th>dateUpdated</th>\n",
       "      <th>address</th>\n",
       "      <th>categories</th>\n",
       "      <th>primaryCategories</th>\n",
       "      <th>city</th>\n",
       "      <th>country</th>\n",
       "      <th>keys</th>\n",
       "      <th>latitude</th>\n",
       "      <th>...</th>\n",
       "      <th>reviews.dateSeen</th>\n",
       "      <th>reviews.rating</th>\n",
       "      <th>reviews.sourceURLs</th>\n",
       "      <th>reviews.text</th>\n",
       "      <th>reviews.title</th>\n",
       "      <th>reviews.userCity</th>\n",
       "      <th>reviews.userProvince</th>\n",
       "      <th>reviews.username</th>\n",
       "      <th>sourceURLs</th>\n",
       "      <th>websites</th>\n",
       "    </tr>\n",
       "  </thead>\n",
       "  <tbody>\n",
       "    <tr>\n",
       "      <th>0</th>\n",
       "      <td>AWE2FvX5RxPSIh2RscTK</td>\n",
       "      <td>2018-01-18T18:43:12Z</td>\n",
       "      <td>2019-05-20T23:55:47Z</td>\n",
       "      <td>5620 Calle Real</td>\n",
       "      <td>Hotels,Hotels and motels,Hotel and motel mgmt....</td>\n",
       "      <td>Accommodation &amp; Food Services</td>\n",
       "      <td>Goleta</td>\n",
       "      <td>US</td>\n",
       "      <td>us/ca/goleta/5620callereal/-1127060008</td>\n",
       "      <td>34.44178</td>\n",
       "      <td>...</td>\n",
       "      <td>2018-01-03T00:00:00Z</td>\n",
       "      <td>3</td>\n",
       "      <td>https://www.tripadvisor.com/Hotel_Review-g3243...</td>\n",
       "      <td>This hotel was nice and quiet. Did not know, t...</td>\n",
       "      <td>Best Western Plus Hotel</td>\n",
       "      <td>San Jose</td>\n",
       "      <td>UnitedStates</td>\n",
       "      <td>tatsurok2018</td>\n",
       "      <td>https://www.tripadvisor.com/Hotel_Review-g3243...</td>\n",
       "      <td>https://www.bestwestern.com/en_US/book/hotel-r...</td>\n",
       "    </tr>\n",
       "    <tr>\n",
       "      <th>1</th>\n",
       "      <td>AVwcj_OhkufWRAb5wi9T</td>\n",
       "      <td>2016-11-06T20:21:05Z</td>\n",
       "      <td>2019-05-20T23:31:56Z</td>\n",
       "      <td>5th And San Carlos PO Box 3574</td>\n",
       "      <td>Hotels,Lodging,Hotel</td>\n",
       "      <td>Accommodation &amp; Food Services</td>\n",
       "      <td>Carmel by the Sea</td>\n",
       "      <td>US</td>\n",
       "      <td>us/ca/carmelbythesea/5thandsancarlospobox3574/...</td>\n",
       "      <td>36.55722</td>\n",
       "      <td>...</td>\n",
       "      <td>2016-10-09T00:00:00Z</td>\n",
       "      <td>4</td>\n",
       "      <td>https://www.tripadvisor.com/Hotel_Review-g3217...</td>\n",
       "      <td>We stayed in the king suite with the separatio...</td>\n",
       "      <td>Clean rooms at solid rates in the heart of Carmel</td>\n",
       "      <td>San Francisco</td>\n",
       "      <td>CA</td>\n",
       "      <td>STEPHEN N</td>\n",
       "      <td>http://www.tripadvisor.com/Hotel_Review-g32172...</td>\n",
       "      <td>http://www.bestwestern.com</td>\n",
       "    </tr>\n",
       "    <tr>\n",
       "      <th>2</th>\n",
       "      <td>AVwcj_OhkufWRAb5wi9T</td>\n",
       "      <td>2016-11-06T20:21:05Z</td>\n",
       "      <td>2019-05-20T23:31:56Z</td>\n",
       "      <td>5th And San Carlos PO Box 3574</td>\n",
       "      <td>Hotels,Lodging,Hotel</td>\n",
       "      <td>Accommodation &amp; Food Services</td>\n",
       "      <td>Carmel by the Sea</td>\n",
       "      <td>US</td>\n",
       "      <td>us/ca/carmelbythesea/5thandsancarlospobox3574/...</td>\n",
       "      <td>36.55722</td>\n",
       "      <td>...</td>\n",
       "      <td>2016-10-09T00:00:00Z</td>\n",
       "      <td>3</td>\n",
       "      <td>https://www.tripadvisor.com/Hotel_Review-g3217...</td>\n",
       "      <td>Parking was horrible, somebody ran into my ren...</td>\n",
       "      <td>Business</td>\n",
       "      <td>Prescott Valley</td>\n",
       "      <td>AZ</td>\n",
       "      <td>15Deborah</td>\n",
       "      <td>http://www.tripadvisor.com/Hotel_Review-g32172...</td>\n",
       "      <td>http://www.bestwestern.com</td>\n",
       "    </tr>\n",
       "    <tr>\n",
       "      <th>3</th>\n",
       "      <td>AVwcj_OhkufWRAb5wi9T</td>\n",
       "      <td>2016-11-06T20:21:05Z</td>\n",
       "      <td>2019-05-20T23:31:56Z</td>\n",
       "      <td>5th And San Carlos PO Box 3574</td>\n",
       "      <td>Hotels,Lodging,Hotel</td>\n",
       "      <td>Accommodation &amp; Food Services</td>\n",
       "      <td>Carmel by the Sea</td>\n",
       "      <td>US</td>\n",
       "      <td>us/ca/carmelbythesea/5thandsancarlospobox3574/...</td>\n",
       "      <td>36.55722</td>\n",
       "      <td>...</td>\n",
       "      <td>2016-10-31T00:00:00Z</td>\n",
       "      <td>5</td>\n",
       "      <td>https://www.tripadvisor.com/Hotel_Review-g3217...</td>\n",
       "      <td>Not cheap but excellent location. Price is som...</td>\n",
       "      <td>Very good</td>\n",
       "      <td>Guaynabo</td>\n",
       "      <td>PR</td>\n",
       "      <td>Wilfredo M</td>\n",
       "      <td>http://www.tripadvisor.com/Hotel_Review-g32172...</td>\n",
       "      <td>http://www.bestwestern.com</td>\n",
       "    </tr>\n",
       "    <tr>\n",
       "      <th>4</th>\n",
       "      <td>AVwcj_OhkufWRAb5wi9T</td>\n",
       "      <td>2016-11-06T20:21:05Z</td>\n",
       "      <td>2019-05-20T23:31:56Z</td>\n",
       "      <td>5th And San Carlos PO Box 3574</td>\n",
       "      <td>Hotels,Lodging,Hotel</td>\n",
       "      <td>Accommodation &amp; Food Services</td>\n",
       "      <td>Carmel by the Sea</td>\n",
       "      <td>US</td>\n",
       "      <td>us/ca/carmelbythesea/5thandsancarlospobox3574/...</td>\n",
       "      <td>36.55722</td>\n",
       "      <td>...</td>\n",
       "      <td>2016-10-09T00:00:00Z,2016-03-27T00:00:00Z</td>\n",
       "      <td>2</td>\n",
       "      <td>https://www.tripadvisor.com/Hotel_Review-g3217...</td>\n",
       "      <td>If you get the room that they advertised on th...</td>\n",
       "      <td>Low chance to come back here</td>\n",
       "      <td>Reno</td>\n",
       "      <td>NV</td>\n",
       "      <td>Luc D</td>\n",
       "      <td>http://www.tripadvisor.com/Hotel_Review-g32172...</td>\n",
       "      <td>http://www.bestwestern.com</td>\n",
       "    </tr>\n",
       "  </tbody>\n",
       "</table>\n",
       "<p>5 rows × 26 columns</p>\n",
       "</div>"
      ],
      "text/plain": [
       "                     id             dateAdded           dateUpdated  \\\n",
       "0  AWE2FvX5RxPSIh2RscTK  2018-01-18T18:43:12Z  2019-05-20T23:55:47Z   \n",
       "1  AVwcj_OhkufWRAb5wi9T  2016-11-06T20:21:05Z  2019-05-20T23:31:56Z   \n",
       "2  AVwcj_OhkufWRAb5wi9T  2016-11-06T20:21:05Z  2019-05-20T23:31:56Z   \n",
       "3  AVwcj_OhkufWRAb5wi9T  2016-11-06T20:21:05Z  2019-05-20T23:31:56Z   \n",
       "4  AVwcj_OhkufWRAb5wi9T  2016-11-06T20:21:05Z  2019-05-20T23:31:56Z   \n",
       "\n",
       "                          address  \\\n",
       "0                 5620 Calle Real   \n",
       "1  5th And San Carlos PO Box 3574   \n",
       "2  5th And San Carlos PO Box 3574   \n",
       "3  5th And San Carlos PO Box 3574   \n",
       "4  5th And San Carlos PO Box 3574   \n",
       "\n",
       "                                          categories  \\\n",
       "0  Hotels,Hotels and motels,Hotel and motel mgmt....   \n",
       "1                               Hotels,Lodging,Hotel   \n",
       "2                               Hotels,Lodging,Hotel   \n",
       "3                               Hotels,Lodging,Hotel   \n",
       "4                               Hotels,Lodging,Hotel   \n",
       "\n",
       "               primaryCategories               city country  \\\n",
       "0  Accommodation & Food Services             Goleta      US   \n",
       "1  Accommodation & Food Services  Carmel by the Sea      US   \n",
       "2  Accommodation & Food Services  Carmel by the Sea      US   \n",
       "3  Accommodation & Food Services  Carmel by the Sea      US   \n",
       "4  Accommodation & Food Services  Carmel by the Sea      US   \n",
       "\n",
       "                                                keys  latitude  ...  \\\n",
       "0             us/ca/goleta/5620callereal/-1127060008  34.44178  ...   \n",
       "1  us/ca/carmelbythesea/5thandsancarlospobox3574/...  36.55722  ...   \n",
       "2  us/ca/carmelbythesea/5thandsancarlospobox3574/...  36.55722  ...   \n",
       "3  us/ca/carmelbythesea/5thandsancarlospobox3574/...  36.55722  ...   \n",
       "4  us/ca/carmelbythesea/5thandsancarlospobox3574/...  36.55722  ...   \n",
       "\n",
       "                            reviews.dateSeen reviews.rating  \\\n",
       "0                       2018-01-03T00:00:00Z              3   \n",
       "1                       2016-10-09T00:00:00Z              4   \n",
       "2                       2016-10-09T00:00:00Z              3   \n",
       "3                       2016-10-31T00:00:00Z              5   \n",
       "4  2016-10-09T00:00:00Z,2016-03-27T00:00:00Z              2   \n",
       "\n",
       "                                  reviews.sourceURLs  \\\n",
       "0  https://www.tripadvisor.com/Hotel_Review-g3243...   \n",
       "1  https://www.tripadvisor.com/Hotel_Review-g3217...   \n",
       "2  https://www.tripadvisor.com/Hotel_Review-g3217...   \n",
       "3  https://www.tripadvisor.com/Hotel_Review-g3217...   \n",
       "4  https://www.tripadvisor.com/Hotel_Review-g3217...   \n",
       "\n",
       "                                        reviews.text  \\\n",
       "0  This hotel was nice and quiet. Did not know, t...   \n",
       "1  We stayed in the king suite with the separatio...   \n",
       "2  Parking was horrible, somebody ran into my ren...   \n",
       "3  Not cheap but excellent location. Price is som...   \n",
       "4  If you get the room that they advertised on th...   \n",
       "\n",
       "                                       reviews.title  reviews.userCity  \\\n",
       "0                            Best Western Plus Hotel          San Jose   \n",
       "1  Clean rooms at solid rates in the heart of Carmel     San Francisco   \n",
       "2                                           Business   Prescott Valley   \n",
       "3                                          Very good          Guaynabo   \n",
       "4                       Low chance to come back here              Reno   \n",
       "\n",
       "  reviews.userProvince  reviews.username  \\\n",
       "0         UnitedStates      tatsurok2018   \n",
       "1                   CA         STEPHEN N   \n",
       "2                   AZ         15Deborah   \n",
       "3                   PR        Wilfredo M   \n",
       "4                   NV             Luc D   \n",
       "\n",
       "                                          sourceURLs  \\\n",
       "0  https://www.tripadvisor.com/Hotel_Review-g3243...   \n",
       "1  http://www.tripadvisor.com/Hotel_Review-g32172...   \n",
       "2  http://www.tripadvisor.com/Hotel_Review-g32172...   \n",
       "3  http://www.tripadvisor.com/Hotel_Review-g32172...   \n",
       "4  http://www.tripadvisor.com/Hotel_Review-g32172...   \n",
       "\n",
       "                                            websites  \n",
       "0  https://www.bestwestern.com/en_US/book/hotel-r...  \n",
       "1                         http://www.bestwestern.com  \n",
       "2                         http://www.bestwestern.com  \n",
       "3                         http://www.bestwestern.com  \n",
       "4                         http://www.bestwestern.com  \n",
       "\n",
       "[5 rows x 26 columns]"
      ]
     },
     "execution_count": 137,
     "metadata": {},
     "output_type": "execute_result"
    }
   ],
   "source": [
    "data.head()"
   ]
  },
  {
   "cell_type": "code",
   "execution_count": 138,
   "id": "fe5187f1",
   "metadata": {},
   "outputs": [
    {
     "data": {
      "text/plain": [
       "(10000, 26)"
      ]
     },
     "execution_count": 138,
     "metadata": {},
     "output_type": "execute_result"
    }
   ],
   "source": [
    "data.shape           # Data contains 10,000 records and 26 columns"
   ]
  },
  {
   "cell_type": "code",
   "execution_count": 139,
   "id": "71b30b1e",
   "metadata": {},
   "outputs": [
    {
     "name": "stdout",
     "output_type": "stream",
     "text": [
      "<class 'pandas.core.frame.DataFrame'>\n",
      "RangeIndex: 10000 entries, 0 to 9999\n",
      "Data columns (total 26 columns):\n",
      " #   Column                Non-Null Count  Dtype  \n",
      "---  ------                --------------  -----  \n",
      " 0   id                    10000 non-null  object \n",
      " 1   dateAdded             10000 non-null  object \n",
      " 2   dateUpdated           10000 non-null  object \n",
      " 3   address               10000 non-null  object \n",
      " 4   categories            10000 non-null  object \n",
      " 5   primaryCategories     10000 non-null  object \n",
      " 6   city                  10000 non-null  object \n",
      " 7   country               10000 non-null  object \n",
      " 8   keys                  10000 non-null  object \n",
      " 9   latitude              10000 non-null  float64\n",
      " 10  longitude             10000 non-null  float64\n",
      " 11  name                  10000 non-null  object \n",
      " 12  postalCode            10000 non-null  object \n",
      " 13  province              10000 non-null  object \n",
      " 14  reviews.date          10000 non-null  object \n",
      " 15  reviews.dateAdded     0 non-null      float64\n",
      " 16  reviews.dateSeen      10000 non-null  object \n",
      " 17  reviews.rating        10000 non-null  int64  \n",
      " 18  reviews.sourceURLs    10000 non-null  object \n",
      " 19  reviews.text          10000 non-null  object \n",
      " 20  reviews.title         9999 non-null   object \n",
      " 21  reviews.userCity      10000 non-null  object \n",
      " 22  reviews.userProvince  9998 non-null   object \n",
      " 23  reviews.username      10000 non-null  object \n",
      " 24  sourceURLs            10000 non-null  object \n",
      " 25  websites              10000 non-null  object \n",
      "dtypes: float64(3), int64(1), object(22)\n",
      "memory usage: 2.0+ MB\n"
     ]
    }
   ],
   "source": [
    "data.info()          "
   ]
  },
  {
   "cell_type": "code",
   "execution_count": 140,
   "id": "1b01b88d",
   "metadata": {},
   "outputs": [],
   "source": [
    "data=data.loc[::,['address','city','name','reviews.text','reviews.rating']]           # Selecting only those columns \n",
    "                                                                                      #  which are needed"
   ]
  },
  {
   "cell_type": "code",
   "execution_count": 141,
   "id": "55757a09",
   "metadata": {},
   "outputs": [
    {
     "data": {
      "text/html": [
       "<div>\n",
       "<style scoped>\n",
       "    .dataframe tbody tr th:only-of-type {\n",
       "        vertical-align: middle;\n",
       "    }\n",
       "\n",
       "    .dataframe tbody tr th {\n",
       "        vertical-align: top;\n",
       "    }\n",
       "\n",
       "    .dataframe thead th {\n",
       "        text-align: right;\n",
       "    }\n",
       "</style>\n",
       "<table border=\"1\" class=\"dataframe\">\n",
       "  <thead>\n",
       "    <tr style=\"text-align: right;\">\n",
       "      <th></th>\n",
       "      <th>address</th>\n",
       "      <th>city</th>\n",
       "      <th>name</th>\n",
       "      <th>reviews.text</th>\n",
       "      <th>reviews.rating</th>\n",
       "    </tr>\n",
       "  </thead>\n",
       "  <tbody>\n",
       "    <tr>\n",
       "      <th>0</th>\n",
       "      <td>5620 Calle Real</td>\n",
       "      <td>Goleta</td>\n",
       "      <td>Best Western Plus South Coast Inn</td>\n",
       "      <td>This hotel was nice and quiet. Did not know, t...</td>\n",
       "      <td>3</td>\n",
       "    </tr>\n",
       "    <tr>\n",
       "      <th>1</th>\n",
       "      <td>5th And San Carlos PO Box 3574</td>\n",
       "      <td>Carmel by the Sea</td>\n",
       "      <td>Best Western Carmel's Town House Lodge</td>\n",
       "      <td>We stayed in the king suite with the separatio...</td>\n",
       "      <td>4</td>\n",
       "    </tr>\n",
       "    <tr>\n",
       "      <th>2</th>\n",
       "      <td>5th And San Carlos PO Box 3574</td>\n",
       "      <td>Carmel by the Sea</td>\n",
       "      <td>Best Western Carmel's Town House Lodge</td>\n",
       "      <td>Parking was horrible, somebody ran into my ren...</td>\n",
       "      <td>3</td>\n",
       "    </tr>\n",
       "    <tr>\n",
       "      <th>3</th>\n",
       "      <td>5th And San Carlos PO Box 3574</td>\n",
       "      <td>Carmel by the Sea</td>\n",
       "      <td>Best Western Carmel's Town House Lodge</td>\n",
       "      <td>Not cheap but excellent location. Price is som...</td>\n",
       "      <td>5</td>\n",
       "    </tr>\n",
       "    <tr>\n",
       "      <th>4</th>\n",
       "      <td>5th And San Carlos PO Box 3574</td>\n",
       "      <td>Carmel by the Sea</td>\n",
       "      <td>Best Western Carmel's Town House Lodge</td>\n",
       "      <td>If you get the room that they advertised on th...</td>\n",
       "      <td>2</td>\n",
       "    </tr>\n",
       "    <tr>\n",
       "      <th>...</th>\n",
       "      <td>...</td>\n",
       "      <td>...</td>\n",
       "      <td>...</td>\n",
       "      <td>...</td>\n",
       "      <td>...</td>\n",
       "    </tr>\n",
       "    <tr>\n",
       "      <th>9995</th>\n",
       "      <td>3101 Coliseum Dr</td>\n",
       "      <td>Hampton</td>\n",
       "      <td>Hampton Inn Hampton-newport News</td>\n",
       "      <td>My friends and I took a trip to Hampton for th...</td>\n",
       "      <td>4</td>\n",
       "    </tr>\n",
       "    <tr>\n",
       "      <th>9996</th>\n",
       "      <td>3101 Coliseum Dr</td>\n",
       "      <td>Hampton</td>\n",
       "      <td>Hampton Inn Hampton-newport News</td>\n",
       "      <td>from check in to departure, staff is friendly,...</td>\n",
       "      <td>5</td>\n",
       "    </tr>\n",
       "    <tr>\n",
       "      <th>9997</th>\n",
       "      <td>3101 Coliseum Dr</td>\n",
       "      <td>Hampton</td>\n",
       "      <td>Hampton Inn Hampton-newport News</td>\n",
       "      <td>This Hampton is located on a quiet street acro...</td>\n",
       "      <td>5</td>\n",
       "    </tr>\n",
       "    <tr>\n",
       "      <th>9998</th>\n",
       "      <td>7886 Main Street</td>\n",
       "      <td>Hunter</td>\n",
       "      <td>Roseberry's Inn</td>\n",
       "      <td>Awesome wings (my favorite was garlic parmesan...</td>\n",
       "      <td>5</td>\n",
       "    </tr>\n",
       "    <tr>\n",
       "      <th>9999</th>\n",
       "      <td>3505 S Main St</td>\n",
       "      <td>Lindale</td>\n",
       "      <td>Hampton Inn-lindale/tyler</td>\n",
       "      <td>Clean facility just off freeway ..... staff fr...</td>\n",
       "      <td>4</td>\n",
       "    </tr>\n",
       "  </tbody>\n",
       "</table>\n",
       "<p>10000 rows × 5 columns</p>\n",
       "</div>"
      ],
      "text/plain": [
       "                             address               city  \\\n",
       "0                    5620 Calle Real             Goleta   \n",
       "1     5th And San Carlos PO Box 3574  Carmel by the Sea   \n",
       "2     5th And San Carlos PO Box 3574  Carmel by the Sea   \n",
       "3     5th And San Carlos PO Box 3574  Carmel by the Sea   \n",
       "4     5th And San Carlos PO Box 3574  Carmel by the Sea   \n",
       "...                              ...                ...   \n",
       "9995                3101 Coliseum Dr            Hampton   \n",
       "9996                3101 Coliseum Dr            Hampton   \n",
       "9997                3101 Coliseum Dr            Hampton   \n",
       "9998                7886 Main Street             Hunter   \n",
       "9999                  3505 S Main St            Lindale   \n",
       "\n",
       "                                        name  \\\n",
       "0          Best Western Plus South Coast Inn   \n",
       "1     Best Western Carmel's Town House Lodge   \n",
       "2     Best Western Carmel's Town House Lodge   \n",
       "3     Best Western Carmel's Town House Lodge   \n",
       "4     Best Western Carmel's Town House Lodge   \n",
       "...                                      ...   \n",
       "9995        Hampton Inn Hampton-newport News   \n",
       "9996        Hampton Inn Hampton-newport News   \n",
       "9997        Hampton Inn Hampton-newport News   \n",
       "9998                         Roseberry's Inn   \n",
       "9999               Hampton Inn-lindale/tyler   \n",
       "\n",
       "                                           reviews.text  reviews.rating  \n",
       "0     This hotel was nice and quiet. Did not know, t...               3  \n",
       "1     We stayed in the king suite with the separatio...               4  \n",
       "2     Parking was horrible, somebody ran into my ren...               3  \n",
       "3     Not cheap but excellent location. Price is som...               5  \n",
       "4     If you get the room that they advertised on th...               2  \n",
       "...                                                 ...             ...  \n",
       "9995  My friends and I took a trip to Hampton for th...               4  \n",
       "9996  from check in to departure, staff is friendly,...               5  \n",
       "9997  This Hampton is located on a quiet street acro...               5  \n",
       "9998  Awesome wings (my favorite was garlic parmesan...               5  \n",
       "9999  Clean facility just off freeway ..... staff fr...               4  \n",
       "\n",
       "[10000 rows x 5 columns]"
      ]
     },
     "execution_count": 141,
     "metadata": {},
     "output_type": "execute_result"
    }
   ],
   "source": [
    "data"
   ]
  },
  {
   "cell_type": "markdown",
   "id": "2433a53d",
   "metadata": {},
   "source": [
    "# CONVERTING COLUMNS INTO LOWER CASE"
   ]
  },
  {
   "cell_type": "code",
   "execution_count": 142,
   "id": "6440aad6",
   "metadata": {},
   "outputs": [],
   "source": [
    "data.address=data.address.str.lower()\n",
    "data.city=data.city.str.lower()\n",
    "data.name=data.name.str.lower()\n",
    "data['reviews.text']=data['reviews.text'].str.lower()"
   ]
  },
  {
   "cell_type": "code",
   "execution_count": 143,
   "id": "e08c0c6b",
   "metadata": {},
   "outputs": [
    {
     "data": {
      "text/html": [
       "<div>\n",
       "<style scoped>\n",
       "    .dataframe tbody tr th:only-of-type {\n",
       "        vertical-align: middle;\n",
       "    }\n",
       "\n",
       "    .dataframe tbody tr th {\n",
       "        vertical-align: top;\n",
       "    }\n",
       "\n",
       "    .dataframe thead th {\n",
       "        text-align: right;\n",
       "    }\n",
       "</style>\n",
       "<table border=\"1\" class=\"dataframe\">\n",
       "  <thead>\n",
       "    <tr style=\"text-align: right;\">\n",
       "      <th></th>\n",
       "      <th>address</th>\n",
       "      <th>city</th>\n",
       "      <th>name</th>\n",
       "      <th>reviews.text</th>\n",
       "      <th>reviews.rating</th>\n",
       "    </tr>\n",
       "  </thead>\n",
       "  <tbody>\n",
       "    <tr>\n",
       "      <th>0</th>\n",
       "      <td>5620 calle real</td>\n",
       "      <td>goleta</td>\n",
       "      <td>best western plus south coast inn</td>\n",
       "      <td>this hotel was nice and quiet. did not know, t...</td>\n",
       "      <td>3</td>\n",
       "    </tr>\n",
       "    <tr>\n",
       "      <th>1</th>\n",
       "      <td>5th and san carlos po box 3574</td>\n",
       "      <td>carmel by the sea</td>\n",
       "      <td>best western carmel's town house lodge</td>\n",
       "      <td>we stayed in the king suite with the separatio...</td>\n",
       "      <td>4</td>\n",
       "    </tr>\n",
       "    <tr>\n",
       "      <th>2</th>\n",
       "      <td>5th and san carlos po box 3574</td>\n",
       "      <td>carmel by the sea</td>\n",
       "      <td>best western carmel's town house lodge</td>\n",
       "      <td>parking was horrible, somebody ran into my ren...</td>\n",
       "      <td>3</td>\n",
       "    </tr>\n",
       "    <tr>\n",
       "      <th>3</th>\n",
       "      <td>5th and san carlos po box 3574</td>\n",
       "      <td>carmel by the sea</td>\n",
       "      <td>best western carmel's town house lodge</td>\n",
       "      <td>not cheap but excellent location. price is som...</td>\n",
       "      <td>5</td>\n",
       "    </tr>\n",
       "    <tr>\n",
       "      <th>4</th>\n",
       "      <td>5th and san carlos po box 3574</td>\n",
       "      <td>carmel by the sea</td>\n",
       "      <td>best western carmel's town house lodge</td>\n",
       "      <td>if you get the room that they advertised on th...</td>\n",
       "      <td>2</td>\n",
       "    </tr>\n",
       "  </tbody>\n",
       "</table>\n",
       "</div>"
      ],
      "text/plain": [
       "                          address               city  \\\n",
       "0                 5620 calle real             goleta   \n",
       "1  5th and san carlos po box 3574  carmel by the sea   \n",
       "2  5th and san carlos po box 3574  carmel by the sea   \n",
       "3  5th and san carlos po box 3574  carmel by the sea   \n",
       "4  5th and san carlos po box 3574  carmel by the sea   \n",
       "\n",
       "                                     name  \\\n",
       "0       best western plus south coast inn   \n",
       "1  best western carmel's town house lodge   \n",
       "2  best western carmel's town house lodge   \n",
       "3  best western carmel's town house lodge   \n",
       "4  best western carmel's town house lodge   \n",
       "\n",
       "                                        reviews.text  reviews.rating  \n",
       "0  this hotel was nice and quiet. did not know, t...               3  \n",
       "1  we stayed in the king suite with the separatio...               4  \n",
       "2  parking was horrible, somebody ran into my ren...               3  \n",
       "3  not cheap but excellent location. price is som...               5  \n",
       "4  if you get the room that they advertised on th...               2  "
      ]
     },
     "execution_count": 143,
     "metadata": {},
     "output_type": "execute_result"
    }
   ],
   "source": [
    "data.head()"
   ]
  },
  {
   "cell_type": "code",
   "execution_count": 144,
   "id": "539d025d",
   "metadata": {},
   "outputs": [],
   "source": [
    "abc=list(nltk.corpus.stopwords.words('english'))            # List of 'stopwords'"
   ]
  },
  {
   "cell_type": "code",
   "execution_count": 145,
   "id": "423fc2c7",
   "metadata": {},
   "outputs": [
    {
     "data": {
      "text/plain": [
       "['i',\n",
       " 'me',\n",
       " 'my',\n",
       " 'myself',\n",
       " 'we',\n",
       " 'our',\n",
       " 'ours',\n",
       " 'ourselves',\n",
       " 'you',\n",
       " \"you're\",\n",
       " \"you've\",\n",
       " \"you'll\",\n",
       " \"you'd\",\n",
       " 'your',\n",
       " 'yours',\n",
       " 'yourself',\n",
       " 'yourselves',\n",
       " 'he',\n",
       " 'him',\n",
       " 'his',\n",
       " 'himself',\n",
       " 'she',\n",
       " \"she's\",\n",
       " 'her',\n",
       " 'hers',\n",
       " 'herself',\n",
       " 'it',\n",
       " \"it's\",\n",
       " 'its',\n",
       " 'itself',\n",
       " 'they',\n",
       " 'them',\n",
       " 'their',\n",
       " 'theirs',\n",
       " 'themselves',\n",
       " 'what',\n",
       " 'which',\n",
       " 'who',\n",
       " 'whom',\n",
       " 'this',\n",
       " 'that',\n",
       " \"that'll\",\n",
       " 'these',\n",
       " 'those',\n",
       " 'am',\n",
       " 'is',\n",
       " 'are',\n",
       " 'was',\n",
       " 'were',\n",
       " 'be',\n",
       " 'been',\n",
       " 'being',\n",
       " 'have',\n",
       " 'has',\n",
       " 'had',\n",
       " 'having',\n",
       " 'do',\n",
       " 'does',\n",
       " 'did',\n",
       " 'doing',\n",
       " 'a',\n",
       " 'an',\n",
       " 'the',\n",
       " 'and',\n",
       " 'but',\n",
       " 'if',\n",
       " 'or',\n",
       " 'because',\n",
       " 'as',\n",
       " 'until',\n",
       " 'while',\n",
       " 'of',\n",
       " 'at',\n",
       " 'by',\n",
       " 'for',\n",
       " 'with',\n",
       " 'about',\n",
       " 'against',\n",
       " 'between',\n",
       " 'into',\n",
       " 'through',\n",
       " 'during',\n",
       " 'before',\n",
       " 'after',\n",
       " 'above',\n",
       " 'below',\n",
       " 'to',\n",
       " 'from',\n",
       " 'up',\n",
       " 'down',\n",
       " 'in',\n",
       " 'out',\n",
       " 'on',\n",
       " 'off',\n",
       " 'over',\n",
       " 'under',\n",
       " 'again',\n",
       " 'further',\n",
       " 'then',\n",
       " 'once',\n",
       " 'here',\n",
       " 'there',\n",
       " 'when',\n",
       " 'where',\n",
       " 'why',\n",
       " 'how',\n",
       " 'all',\n",
       " 'any',\n",
       " 'both',\n",
       " 'each',\n",
       " 'few',\n",
       " 'more',\n",
       " 'most',\n",
       " 'other',\n",
       " 'some',\n",
       " 'such',\n",
       " 'no',\n",
       " 'nor',\n",
       " 'not',\n",
       " 'only',\n",
       " 'own',\n",
       " 'same',\n",
       " 'so',\n",
       " 'than',\n",
       " 'too',\n",
       " 'very',\n",
       " 's',\n",
       " 't',\n",
       " 'can',\n",
       " 'will',\n",
       " 'just',\n",
       " 'don',\n",
       " \"don't\",\n",
       " 'should',\n",
       " \"should've\",\n",
       " 'now',\n",
       " 'd',\n",
       " 'll',\n",
       " 'm',\n",
       " 'o',\n",
       " 're',\n",
       " 've',\n",
       " 'y',\n",
       " 'ain',\n",
       " 'aren',\n",
       " \"aren't\",\n",
       " 'couldn',\n",
       " \"couldn't\",\n",
       " 'didn',\n",
       " \"didn't\",\n",
       " 'doesn',\n",
       " \"doesn't\",\n",
       " 'hadn',\n",
       " \"hadn't\",\n",
       " 'hasn',\n",
       " \"hasn't\",\n",
       " 'haven',\n",
       " \"haven't\",\n",
       " 'isn',\n",
       " \"isn't\",\n",
       " 'ma',\n",
       " 'mightn',\n",
       " \"mightn't\",\n",
       " 'mustn',\n",
       " \"mustn't\",\n",
       " 'needn',\n",
       " \"needn't\",\n",
       " 'shan',\n",
       " \"shan't\",\n",
       " 'shouldn',\n",
       " \"shouldn't\",\n",
       " 'wasn',\n",
       " \"wasn't\",\n",
       " 'weren',\n",
       " \"weren't\",\n",
       " 'won',\n",
       " \"won't\",\n",
       " 'wouldn',\n",
       " \"wouldn't\"]"
      ]
     },
     "execution_count": 145,
     "metadata": {},
     "output_type": "execute_result"
    }
   ],
   "source": [
    "abc"
   ]
  },
  {
   "cell_type": "code",
   "execution_count": 146,
   "id": "0a3d9250",
   "metadata": {},
   "outputs": [],
   "source": [
    "import string"
   ]
  },
  {
   "cell_type": "code",
   "execution_count": 147,
   "id": "e5044d05",
   "metadata": {},
   "outputs": [
    {
     "data": {
      "text/plain": [
       "'!\"#$%&\\'()*+,-./:;<=>?@[\\\\]^_`{|}~'"
      ]
     },
     "execution_count": 147,
     "metadata": {},
     "output_type": "execute_result"
    }
   ],
   "source": [
    "string.punctuation"
   ]
  },
  {
   "cell_type": "markdown",
   "id": "f55556cd",
   "metadata": {},
   "source": [
    "CREATING USER DEFINED FUNCTION TO REMOVE DUPLICATES AND STOPWORDS"
   ]
  },
  {
   "cell_type": "code",
   "execution_count": 148,
   "id": "b7d028cc",
   "metadata": {},
   "outputs": [],
   "source": [
    "def text_process(mess):            ### creating a function\n",
    "    \"\"\"                                                        ## a docstring\n",
    "    1. remove the punctuation\n",
    "    2. remove the stopwords\n",
    "    3. return the list of clean textwords\n",
    "    \n",
    "    \"\"\"\n",
    "    nopunc = [char for char in mess if char not in string.punctuation]\n",
    "    nopunc = \"\".join(nopunc)\n",
    "    \n",
    "    return [ word for word in nopunc.split() if word not  in abc]"
   ]
  },
  {
   "cell_type": "code",
   "execution_count": 149,
   "id": "5d4c7046",
   "metadata": {},
   "outputs": [
    {
     "data": {
      "text/plain": [
       "0       [hotel, nice, quiet, know, train, track, near,...\n",
       "1       [stayed, king, suite, separation, bedroom, liv...\n",
       "2       [parking, horrible, somebody, ran, rental, car...\n",
       "3       [cheap, excellent, location, price, somewhat, ...\n",
       "4       [get, room, advertised, website, paid, may, lu...\n",
       "                              ...                        \n",
       "9995    [friends, took, trip, hampton, basslights, sho...\n",
       "9996    [check, departure, staff, friendly, profession...\n",
       "9997    [hampton, located, quiet, street, across, hosp...\n",
       "9998    [awesome, wings, favorite, garlic, parmesan, g...\n",
       "9999    [clean, facility, freeway, staff, friendly, ef...\n",
       "Name: reviews.text, Length: 10000, dtype: object"
      ]
     },
     "execution_count": 149,
     "metadata": {},
     "output_type": "execute_result"
    }
   ],
   "source": [
    "data['reviews.text'].apply(text_process)              # Removing stopwords and punctuations"
   ]
  },
  {
   "cell_type": "code",
   "execution_count": 709,
   "id": "77c8a500",
   "metadata": {},
   "outputs": [],
   "source": [
    "from sklearn.feature_extraction.text import CountVectorizer                "
   ]
  },
  {
   "cell_type": "code",
   "execution_count": 710,
   "id": "3113ec97",
   "metadata": {},
   "outputs": [
    {
     "data": {
      "text/plain": [
       "{'hotel': 14131,\n",
       " 'nice': 19195,\n",
       " 'quiet': 22611,\n",
       " 'know': 16119,\n",
       " 'train': 29060,\n",
       " 'track': 29030,\n",
       " 'near': 18979,\n",
       " 'passed': 20810,\n",
       " 'stay': 26955,\n",
       " 'best': 4164,\n",
       " 'western': 31087,\n",
       " 'changed': 5882,\n",
       " 'classification': 6340,\n",
       " 'plus': 21572,\n",
       " 'category': 5663,\n",
       " 'stayed': 26979,\n",
       " 'king': 16042,\n",
       " 'suite': 27504,\n",
       " 'separation': 25124,\n",
       " 'bedroom': 3977,\n",
       " 'living': 16820,\n",
       " 'space': 26474,\n",
       " 'sofa': 26190,\n",
       " 'bed': 3948,\n",
       " 'wasnt': 30769,\n",
       " 'good': 12721,\n",
       " 'back': 3490,\n",
       " 'discomfort': 8901,\n",
       " 'day': 8060,\n",
       " 'left': 16492,\n",
       " 'three': 28490,\n",
       " 'night': 19270,\n",
       " 'room': 24192,\n",
       " 'clean': 6355,\n",
       " 'comfortable': 6716,\n",
       " 'located': 16890,\n",
       " 'within': 31393,\n",
       " 'walking': 30623,\n",
       " 'distance': 9040,\n",
       " 'places': 21407,\n",
       " 'want': 30688,\n",
       " 'parking': 20697,\n",
       " 'horrible': 14052,\n",
       " 'somebody': 26248,\n",
       " 'ran': 22764,\n",
       " 'rental': 23479,\n",
       " 'car': 5471,\n",
       " 'staying': 26995,\n",
       " 'didnt': 8673,\n",
       " 'get': 12523,\n",
       " 'try': 29356,\n",
       " 'breakfast': 4778,\n",
       " 'business': 5164,\n",
       " 'restaurant': 23697,\n",
       " 'opened': 20073,\n",
       " 'late': 16345,\n",
       " 'world': 31530,\n",
       " 'enjoy': 10119,\n",
       " 'asked': 3061,\n",
       " 'coffee': 6601,\n",
       " 'items': 15361,\n",
       " 'vending': 30255,\n",
       " 'machine': 17307,\n",
       " 'stale': 26846,\n",
       " 'cheap': 5973,\n",
       " 'excellent': 10579,\n",
       " 'location': 16900,\n",
       " 'price': 22039,\n",
       " 'somewhat': 26276,\n",
       " 'standard': 26858,\n",
       " 'hacing': 13218,\n",
       " 'reservations': 23609,\n",
       " 'offer': 19794,\n",
       " 'continental': 7228,\n",
       " 'compensates': 6876,\n",
       " 'front': 12130,\n",
       " 'desk': 8530,\n",
       " 'service': 25166,\n",
       " 'personnel': 21143,\n",
       " 'carmel': 5544,\n",
       " 'ac': 1451,\n",
       " 'rooms': 24272,\n",
       " 'fan': 11033,\n",
       " 'air': 2027,\n",
       " 'circulation': 6253,\n",
       " 'advertised': 1755,\n",
       " 'website': 30885,\n",
       " 'paid': 20571,\n",
       " 'may': 17810,\n",
       " 'luckyif': 17223,\n",
       " 'many': 17571,\n",
       " 'days': 8095,\n",
       " 'give': 12600,\n",
       " 'roomsnobody': 24301,\n",
       " 'wants': 30698,\n",
       " 'low': 17169,\n",
       " 'lightdark': 16659,\n",
       " 'pool': 21680,\n",
       " 'noisy': 19413,\n",
       " 'smelly': 26059,\n",
       " 'bathrooms': 3800,\n",
       " 'difficult': 8734,\n",
       " 'access': 1470,\n",
       " 'onetwo': 20011,\n",
       " 'probably': 22160,\n",
       " 'fun': 12191,\n",
       " 'lovely': 17149,\n",
       " 'attention': 3221,\n",
       " 'detail': 8582,\n",
       " 'impressive': 14691,\n",
       " 'thicker': 28373,\n",
       " 'rimmed': 24009,\n",
       " 'water': 30796,\n",
       " 'glasses': 12628,\n",
       " 'extra': 10871,\n",
       " 'fluffy': 11622,\n",
       " 'towels': 28974,\n",
       " 'loved': 17142,\n",
       " 'vibrant': 30330,\n",
       " 'art': 3011,\n",
       " 'lends': 16539,\n",
       " 'hip': 13852,\n",
       " 'vibe': 30328,\n",
       " 'disappointment': 8877,\n",
       " 'lockbox': 16958,\n",
       " 'menu': 18004,\n",
       " 'trying': 29359,\n",
       " 'hard': 13391,\n",
       " 'fairly': 10980,\n",
       " 'adventurous': 1752,\n",
       " 'eater': 9728,\n",
       " 'recently': 22964,\n",
       " 'trip': 29249,\n",
       " 'lexington': 16601,\n",
       " 'friends': 12080,\n",
       " 'group': 13052,\n",
       " 'shared': 25347,\n",
       " 'feeling': 11214,\n",
       " 'would': 31568,\n",
       " 'routinely': 24402,\n",
       " 'waited': 30575,\n",
       " '10': 28,\n",
       " 'minutes': 18302,\n",
       " 'elevators': 9906,\n",
       " 'workout': 31514,\n",
       " 'tiny': 28681,\n",
       " '2': 405,\n",
       " 'treadmills': 29190,\n",
       " 'elliptical': 9935,\n",
       " 'machines': 17310,\n",
       " 'rocked': 24129,\n",
       " 'floor': 11557,\n",
       " 'use': 29979,\n",
       " 'everything': 10518,\n",
       " 'seemed': 25034,\n",
       " 'reserved': 23621,\n",
       " 'week': 30914,\n",
       " 'advance': 1742,\n",
       " 'knowing': 16122,\n",
       " 'motel': 18660,\n",
       " 'usually': 30045,\n",
       " 'great': 12907,\n",
       " 'accommodations': 1515,\n",
       " 'passing': 20821,\n",
       " 'thru': 28522,\n",
       " 'longest': 17018,\n",
       " 'yard': 31679,\n",
       " 'sale': 24581,\n",
       " 'quoted': 22658,\n",
       " '50': 930,\n",
       " 'phone': 21224,\n",
       " 'given': 12604,\n",
       " 'numbers': 19646,\n",
       " 'confirmation': 7066,\n",
       " 'number': 19642,\n",
       " 'shemore': 25406,\n",
       " 'moremore': 18598,\n",
       " 'hello': 13600,\n",
       " 'traveled': 29135,\n",
       " 'lot': 17088,\n",
       " 'abroad': 1424,\n",
       " 'far': 11060,\n",
       " 'worst': 31556,\n",
       " 'place': 21387,\n",
       " 'ever': 10482,\n",
       " 'booked': 4576,\n",
       " 'got': 12792,\n",
       " 'key': 15953,\n",
       " 'walked': 30615,\n",
       " 'omg': 19954,\n",
       " 'one': 19972,\n",
       " 'hotels': 14221,\n",
       " 'show': 25531,\n",
       " 'horror': 14060,\n",
       " 'movies': 18721,\n",
       " 'kill': 16004,\n",
       " 'people': 21012,\n",
       " 'kid': 15984,\n",
       " 'new': 19146,\n",
       " 'hampton': 13289,\n",
       " 'inn': 14965,\n",
       " 'well': 30978,\n",
       " 'decorated': 8248,\n",
       " 'color': 6676,\n",
       " 'scheme': 24795,\n",
       " 'gives': 12605,\n",
       " 'luxury': 17275,\n",
       " 'restful': 23748,\n",
       " 'beds': 3985,\n",
       " 'black': 4360,\n",
       " 'curtains': 7867,\n",
       " 'keep': 15898,\n",
       " 'dark': 8007,\n",
       " 'nights': 19305,\n",
       " 'sleep': 25915,\n",
       " 'entrance': 10209,\n",
       " 'little': 16803,\n",
       " 'find': 11339,\n",
       " 'look': 17034,\n",
       " 'closely': 6499,\n",
       " 'sign': 25661,\n",
       " 'staff': 26766,\n",
       " 'friendly': 12046,\n",
       " 'explored': 10821,\n",
       " 'nearby': 18980,\n",
       " 'santa': 24662,\n",
       " 'barbara': 3675,\n",
       " 'ok': 19881,\n",
       " 'two': 29473,\n",
       " 'live': 16808,\n",
       " 'excess': 10618,\n",
       " 'noise': 19388,\n",
       " 'coming': 6777,\n",
       " 'freeway': 11962,\n",
       " 'doable': 9135,\n",
       " 'completely': 6926,\n",
       " 'accommodating': 1504,\n",
       " 'reservation': 23603,\n",
       " 'last': 16333,\n",
       " 'minute': 18300,\n",
       " 'used': 29982,\n",
       " 'points': 21619,\n",
       " 'offset': 19839,\n",
       " 'cost': 7446,\n",
       " 'even': 10452,\n",
       " 'called': 5352,\n",
       " 'ask': 3060,\n",
       " 'help': 13606,\n",
       " 'kind': 16021,\n",
       " 'welcoming': 30969,\n",
       " 'especially': 10331,\n",
       " 'construction': 7183,\n",
       " 'thank': 28199,\n",
       " 'hot': 14124,\n",
       " 'theres': 28339,\n",
       " 'cold': 6646,\n",
       " 'awful': 3443,\n",
       " 'food': 11684,\n",
       " 'upscale': 29910,\n",
       " 'offered': 19798,\n",
       " '200': 407,\n",
       " 'snacks': 26103,\n",
       " 'toiletries': 28770,\n",
       " 'menus': 18007,\n",
       " 'drinks': 9464,\n",
       " 'promote': 22266,\n",
       " 'im': 14594,\n",
       " 'sorry': 26416,\n",
       " 'hear': 13517,\n",
       " 'exceed': 10565,\n",
       " 'expectations': 10698,\n",
       " 'bringing': 4915,\n",
       " 'issues': 15316,\n",
       " 'take': 27856,\n",
       " 'feedback': 11192,\n",
       " 'seriously': 25143,\n",
       " 'share': 25346,\n",
       " 'hope': 14025,\n",
       " 'another': 2564,\n",
       " 'opportunity': 20118,\n",
       " 'make': 17399,\n",
       " 'better': 4211,\n",
       " 'impression': 14687,\n",
       " 'return': 23831,\n",
       " 'orleans': 20218,\n",
       " 'feel': 11211,\n",
       " 'free': 11945,\n",
       " 'contact': 7202,\n",
       " 'like': 16680,\n",
       " 'discuss': 8931,\n",
       " 'sincerely': 25719,\n",
       " 'casey': 5627,\n",
       " 'callaisgeneral': 5351,\n",
       " 'manager': 17465,\n",
       " 'housekeeping': 14329,\n",
       " 'always': 2305,\n",
       " 'spot': 26653,\n",
       " 'onwe': 20054,\n",
       " 'never': 19140,\n",
       " 'saw': 24730,\n",
       " 'come': 6697,\n",
       " 'perfect': 21048,\n",
       " 'order': 20162,\n",
       " 'came': 5378,\n",
       " 'close': 6491,\n",
       " 'french': 11981,\n",
       " 'quarter': 22541,\n",
       " 'museums': 18829,\n",
       " 'district': 9074,\n",
       " 'etc': 10381,\n",
       " 'valuehighly': 30163,\n",
       " 'recommend': 23014,\n",
       " 'anyone': 2622,\n",
       " 'visiting': 30442,\n",
       " 'formerly': 11776,\n",
       " 'prestigious': 22001,\n",
       " 'bank': 3660,\n",
       " 'attractive': 3263,\n",
       " 'history': 13868,\n",
       " 'buffs': 5051,\n",
       " 'expensive': 10741,\n",
       " 'visit': 30424,\n",
       " 'small': 26020,\n",
       " 'unattractive': 29567,\n",
       " 'terrible': 28143,\n",
       " 'old': 19914,\n",
       " 'bedding': 3959,\n",
       " 'virtually': 30413,\n",
       " 'without': 31399,\n",
       " 'windows': 31309,\n",
       " 'amenities': 2359,\n",
       " '38day': 771,\n",
       " 'took': 28847,\n",
       " '35': 733,\n",
       " 'min': 18234,\n",
       " 'vehicle': 30244,\n",
       " 'almost': 2243,\n",
       " 'lobby': 16852,\n",
       " 'sitting': 25815,\n",
       " 'area': 2824,\n",
       " 'understaffed': 29627,\n",
       " 'severely': 25252,\n",
       " 'limited': 16710,\n",
       " 'commode': 6817,\n",
       " 'crammed': 7610,\n",
       " 'bathroom': 3788,\n",
       " 'call': 5350,\n",
       " 'bring': 4914,\n",
       " 'beatup': 3922,\n",
       " 'refrigerator': 23170,\n",
       " 'less': 16560,\n",
       " 'avoid': 3382,\n",
       " 'plaguethank': 21424,\n",
       " 'review': 23888,\n",
       " 'information': 14912,\n",
       " 'provide': 22378,\n",
       " 'services': 25200,\n",
       " 'future': 12249,\n",
       " 'giving': 12606,\n",
       " 'us': 29947,\n",
       " 'sincerelycasey': 25726,\n",
       " 'competitive': 6887,\n",
       " 'pricing': 22098,\n",
       " 'downtown': 9343,\n",
       " 'convenient': 7273,\n",
       " 'broken': 4940,\n",
       " 'exercise': 10656,\n",
       " 'equipment': 10270,\n",
       " 'fitness': 11437,\n",
       " 'club': 6538,\n",
       " 'bit': 4344,\n",
       " 'misnomer': 18359,\n",
       " 'else': 9941,\n",
       " 'attractionsthank': 3257,\n",
       " 'much': 18754,\n",
       " 'comments': 6795,\n",
       " 'recent': 22963,\n",
       " 'whitney': 31202,\n",
       " 'working': 31501,\n",
       " 'getting': 12542,\n",
       " 'updated': 29851,\n",
       " 'ready': 22875,\n",
       " 'time': 28602,\n",
       " 'arrived': 2992,\n",
       " 'happy': 13376,\n",
       " 'enjoyable': 10120,\n",
       " 'overall': 20394,\n",
       " 'see': 25023,\n",
       " 'next': 19177,\n",
       " 'orleanssincerely': 20236,\n",
       " 'larger': 16318,\n",
       " 'expected': 10711,\n",
       " 'fridge': 12030,\n",
       " 'needed': 19022,\n",
       " 'basic': 3752,\n",
       " 'included': 14765,\n",
       " 'everyone': 10508,\n",
       " 'thrilled': 28503,\n",
       " 'experience': 10757,\n",
       " 'mentioning': 18001,\n",
       " 'cleanliness': 6397,\n",
       " 'strives': 27315,\n",
       " 'excellence': 10577,\n",
       " 'glad': 12610,\n",
       " 'provided': 22379,\n",
       " 'soon': 26307,\n",
       " 'ideally': 14533,\n",
       " 'sights': 25657,\n",
       " 'say': 24733,\n",
       " 'lay': 16417,\n",
       " 'head': 13496,\n",
       " 'found': 11827,\n",
       " 'poor': 21728,\n",
       " 'terms': 28132,\n",
       " 'choice': 6163,\n",
       " 'quality': 22526,\n",
       " 'work': 31486,\n",
       " 'overlooks': 20449,\n",
       " 'major': 17394,\n",
       " 'road': 24079,\n",
       " 'think': 28401,\n",
       " 'orleansthank': 20240,\n",
       " 'enjoyed': 10129,\n",
       " 'ill': 14581,\n",
       " 'pass': 20806,\n",
       " 'along': 2255,\n",
       " 'telephone': 28062,\n",
       " 'engineering': 10107,\n",
       " 'test': 28167,\n",
       " 'line': 16734,\n",
       " 'behalf': 4045,\n",
       " 'management': 17457,\n",
       " 'please': 21511,\n",
       " 'accept': 1461,\n",
       " 'apologies': 2686,\n",
       " 'sure': 27641,\n",
       " 'copy': 7372,\n",
       " 'candid': 5416,\n",
       " 'assistance': 3093,\n",
       " 'dont': 9208,\n",
       " 'hesitate': 13727,\n",
       " '5': 929,\n",
       " 'walk': 30609,\n",
       " 'bourbon': 4682,\n",
       " 'street': 27250,\n",
       " 'harrahs': 13417,\n",
       " 'casino': 5633,\n",
       " '15': 238,\n",
       " 'caffe': 5317,\n",
       " 'dumonde': 9580,\n",
       " 'market': 17654,\n",
       " 'although': 2295,\n",
       " 'kept': 15938,\n",
       " 'efficient': 9814,\n",
       " 'confortablethank': 7078,\n",
       " 'forward': 11808,\n",
       " 'hosting': 14120,\n",
       " 'directly': 8828,\n",
       " 'getawaysincerely': 12530,\n",
       " 'historic': 13865,\n",
       " 'yet': 31728,\n",
       " 'modern': 18442,\n",
       " 'full': 12171,\n",
       " 'conveniently': 7278,\n",
       " 'heart': 13523,\n",
       " 'blocks': 4443,\n",
       " 'quater': 22560,\n",
       " 'riverfront': 24058,\n",
       " 'courtis': 7538,\n",
       " 'knowledgeable': 16127,\n",
       " 'block': 4436,\n",
       " 'mothers': 18678,\n",
       " 'local': 16882,\n",
       " 'restaurants': 23713,\n",
       " 'totally': 28912,\n",
       " 'wonderful': 31439,\n",
       " 'praise': 21881,\n",
       " 'aptly': 2796,\n",
       " 'named': 18898,\n",
       " 'bankseveral': 3664,\n",
       " 'features': 11172,\n",
       " 'era': 10283,\n",
       " 'seen': 25040,\n",
       " 'strong': 27326,\n",
       " 'doors': 9233,\n",
       " 'related': 23340,\n",
       " 'featuresthis': 11173,\n",
       " 'transportation': 29107,\n",
       " 'buses': 5157,\n",
       " 'streetcarsa': 27257,\n",
       " 'short': 25500,\n",
       " 'takes': 27863,\n",
       " 'eat': 9719,\n",
       " 'drink': 9454,\n",
       " 'shopless': 25470,\n",
       " 'ten': 28093,\n",
       " 'canal': 5399,\n",
       " 'royal': 24416,\n",
       " 'streetpleasant': 27272,\n",
       " 'ambience': 2344,\n",
       " 'con': 6978,\n",
       " 'underlining': 29617,\n",
       " 'concerns': 6989,\n",
       " 'moved': 18713,\n",
       " 'house': 14316,\n",
       " 'breakfastthe': 4818,\n",
       " 'partnership': 20788,\n",
       " 'eatinglicensed': 9734,\n",
       " 'businesses': 5166,\n",
       " 'mardi': 17606,\n",
       " 'gras': 12877,\n",
       " 'worldthank': 31539,\n",
       " 'beautiful': 3927,\n",
       " 'vault': 30226,\n",
       " 'unique': 29712,\n",
       " 'interesting': 15129,\n",
       " 'taking': 27864,\n",
       " 'care': 5500,\n",
       " 'usyour': 30053,\n",
       " 'knowledge': 16126,\n",
       " 'city': 6265,\n",
       " 'helpful': 13613,\n",
       " 'russells': 24493,\n",
       " 'appreciate': 2749,\n",
       " 'anything': 2634,\n",
       " 'let': 16578,\n",
       " 'seeing': 25028,\n",
       " 'soonsincerely': 26357,\n",
       " 'travel': 29130,\n",
       " 'chose': 6194,\n",
       " 'based': 3744,\n",
       " 'user': 29996,\n",
       " 'reviews': 23903,\n",
       " 'really': 22896,\n",
       " 'big': 4275,\n",
       " 'accepts': 1467,\n",
       " 'charges': 5931,\n",
       " 'cash': 5628,\n",
       " 'rule': 24458,\n",
       " 'wont': 31460,\n",
       " 'support': 27626,\n",
       " 'doesnt': 9154,\n",
       " 'credit': 7665,\n",
       " 'cards': 5494,\n",
       " 'payment': 20917,\n",
       " 'valet': 30125,\n",
       " 'across': 1598,\n",
       " 'optionsthank': 20141,\n",
       " 'need': 19019,\n",
       " 'couple': 7513,\n",
       " 'shopping': 25475,\n",
       " 'easy': 9702,\n",
       " 'jackson': 15449,\n",
       " 'square': 26714,\n",
       " 'dinner': 8790,\n",
       " 'fabulousthe': 10915,\n",
       " 'outstandingeven': 20374,\n",
       " 'maintenance': 17388,\n",
       " 'men': 17985,\n",
       " 'held': 13591,\n",
       " 'gave': 12437,\n",
       " 'advice': 1761,\n",
       " 'cant': 5436,\n",
       " 'wait': 30572,\n",
       " 'go': 12680,\n",
       " 'thanks': 28205,\n",
       " 'jason': 15511,\n",
       " 'uswe': 30049,\n",
       " 'needs': 19048,\n",
       " 'numerous': 19647,\n",
       " 'times': 28642,\n",
       " 'could': 7484,\n",
       " 'wrong': 31617,\n",
       " 'love': 17140,\n",
       " 'roll': 24156,\n",
       " 'prefer': 21916,\n",
       " 'quite': 22648,\n",
       " 'warehouse': 30703,\n",
       " 'districtthank': 9081,\n",
       " 'certainly': 5814,\n",
       " 'words': 31478,\n",
       " 'looking': 17038,\n",
       " 'easysincerely': 9715,\n",
       " 'consider': 7139,\n",
       " 'epic': 10250,\n",
       " 'uncomfortable': 29591,\n",
       " 'temperatures': 28082,\n",
       " 'hardest': 13394,\n",
       " 'cheapest': 5977,\n",
       " 'mattress': 17790,\n",
       " 'ive': 15429,\n",
       " 'every': 10495,\n",
       " 'experienced': 10763,\n",
       " 'nonexistent': 19456,\n",
       " 'complaints': 6907,\n",
       " 'listened': 16789,\n",
       " 'checkoutthank': 6009,\n",
       " 'alright': 2269,\n",
       " 'second': 24994,\n",
       " 'first': 11405,\n",
       " 'recieved': 22990,\n",
       " 'comp': 6842,\n",
       " 'rude': 24442,\n",
       " 'bugs': 5061,\n",
       " 'cleaned': 6368,\n",
       " 'things': 28387,\n",
       " 'add': 1649,\n",
       " 'pay': 20909,\n",
       " 'upon': 29902,\n",
       " 'checking': 5997,\n",
       " 'sunday': 27550,\n",
       " 'guest': 13106,\n",
       " 'told': 28781,\n",
       " 'fine': 11346,\n",
       " 'mention': 17997,\n",
       " 'list': 16785,\n",
       " 'also': 2272,\n",
       " 'noted': 19550,\n",
       " 'remove': 23437,\n",
       " 'trash': 29123,\n",
       " 'fresh': 12002,\n",
       " 'early': 9664,\n",
       " 'afternoon': 1821,\n",
       " 'saturday': 24704,\n",
       " 'declining': 8239,\n",
       " 'reported': 23535,\n",
       " 'completion': 6931,\n",
       " 'task': 27932,\n",
       " 'courtesy': 7535,\n",
       " 'made': 17324,\n",
       " 'agent': 1974,\n",
       " 'delivered': 8369,\n",
       " 'satisfaction': 24691,\n",
       " 'disheartening': 8956,\n",
       " 'read': 22864,\n",
       " 'property': 22299,\n",
       " 'though': 28458,\n",
       " 'attempts': 3202,\n",
       " 'verify': 30286,\n",
       " 'confirmed': 7069,\n",
       " 'managercaseycallaiswhitneyhotelcom': 17479,\n",
       " 'locationgood': 16917,\n",
       " 'th': 28194,\n",
       " 'aired': 2042,\n",
       " 'ne': 18977,\n",
       " 'cleanedth': 6372,\n",
       " 'shameth': 25318,\n",
       " 'goodwe': 12770,\n",
       " 'recommanded': 23011,\n",
       " 'server': 25159,\n",
       " 'plastic': 21459,\n",
       " 'platesdear': 21465,\n",
       " 'guestthank': 13145,\n",
       " 'sharing': 25355,\n",
       " 'details': 8586,\n",
       " 'culture': 7826,\n",
       " 'ensure': 10167,\n",
       " 'create': 7652,\n",
       " 'guests': 13123,\n",
       " 'disappointed': 8861,\n",
       " 'meet': 17914,\n",
       " 'upgrading': 29880,\n",
       " 'product': 22205,\n",
       " 'colleagues': 6661,\n",
       " 'address': 1668,\n",
       " 'honest': 13979,\n",
       " 'able': 1392,\n",
       " 'constantly': 7174,\n",
       " 'improve': 14700,\n",
       " 'among': 2406,\n",
       " 'marketplace': 17664,\n",
       " 'exceptional': 10609,\n",
       " '1910': 346,\n",
       " 'building': 5067,\n",
       " 'amazing': 2324,\n",
       " 'queen': 22566,\n",
       " 'visits': 30457,\n",
       " 'informational': 14913,\n",
       " 'locations': 16935,\n",
       " 'priced': 22046,\n",
       " 'truck': 29333,\n",
       " 'promptly': 22274,\n",
       " 'brought': 4956,\n",
       " 'actual': 1626,\n",
       " 'ambiencethank': 2345,\n",
       " 'unfortunately': 29679,\n",
       " 'confidence': 7057,\n",
       " 'children': 6107,\n",
       " 'amount': 2416,\n",
       " 'money': 18515,\n",
       " 'realized': 22892,\n",
       " 'stolen': 27152,\n",
       " 'fact': 10954,\n",
       " 'equally': 10262,\n",
       " 'repudiablethank': 23556,\n",
       " 'enable': 10030,\n",
       " 'additional': 1658,\n",
       " 'training': 29066,\n",
       " 'youll': 31791,\n",
       " 'husband': 14442,\n",
       " '4': 812,\n",
       " '13': 199,\n",
       " 'month': 18553,\n",
       " 'son': 26287,\n",
       " 'disappointing': 8872,\n",
       " 'moment': 18490,\n",
       " 'checked': 5990,\n",
       " 'requested': 23564,\n",
       " 'crib': 7686,\n",
       " 'problem': 22167,\n",
       " 'shocked': 25452,\n",
       " 'packnplay': 20553,\n",
       " 'rather': 22812,\n",
       " 'sheet': 25384,\n",
       " 'demanded': 8391,\n",
       " 'hours': 14301,\n",
       " 'calls': 5361,\n",
       " 'asking': 3064,\n",
       " 'received': 22959,\n",
       " 'size': 25837,\n",
       " 'apparently': 2705,\n",
       " 'single': 25771,\n",
       " 'person': 21120,\n",
       " 'worked': 31491,\n",
       " 'knows': 16135,\n",
       " 'addition': 1657,\n",
       " 'fiasco': 11278,\n",
       " 'carpeting': 5570,\n",
       " 'buckling': 5020,\n",
       " 'tripped': 29277,\n",
       " 'several': 25248,\n",
       " 'sink': 25776,\n",
       " 'holes': 13907,\n",
       " 'seems': 25039,\n",
       " 'undergo': 29610,\n",
       " 'renovation': 23469,\n",
       " 'hopefully': 14028,\n",
       " 'customer': 7885,\n",
       " 'main': 17372,\n",
       " 'reason': 22915,\n",
       " 'potential': 21834,\n",
       " 'boutique': 4684,\n",
       " 'type': 29491,\n",
       " 'updatesthank': 29859,\n",
       " 'initially': 14945,\n",
       " 'weve': 31114,\n",
       " 'softside': 26209,\n",
       " 'steel': 27075,\n",
       " 'framed': 11865,\n",
       " 'ones': 19995,\n",
       " 'requests': 23569,\n",
       " 'understood': 29636,\n",
       " 'agents': 1977,\n",
       " 'retrieved': 23822,\n",
       " 'liking': 16694,\n",
       " 'truly': 29343,\n",
       " 'experiences': 10781,\n",
       " 'weekend': 30921,\n",
       " 'spent': 26583,\n",
       " 'professional': 22216,\n",
       " 'arriving': 3002,\n",
       " 'departure': 8443,\n",
       " 'busy': 5200,\n",
       " 'thing': 28383,\n",
       " 'explore': 10820,\n",
       " 'defiantly': 8295,\n",
       " 'wouldnt': 31570,\n",
       " 'anywhere': 2651,\n",
       " 'still': 27127,\n",
       " 'reminding': 23417,\n",
       " 'banks': 3663,\n",
       " 'part': 20758,\n",
       " 'operating': 20088,\n",
       " 'surprise': 27666,\n",
       " 'rest': 23691,\n",
       " 'party': 20794,\n",
       " 'wanted': 30689,\n",
       " 'eaten': 9725,\n",
       " 'went': 31061,\n",
       " 'meal': 17858,\n",
       " 'highly': 13786,\n",
       " 'locationwere': 16950,\n",
       " 'reservationsthank': 23615,\n",
       " 'courteous': 7528,\n",
       " 'however': 14353,\n",
       " 'hodgepodge': 13892,\n",
       " 'various': 30218,\n",
       " 'updates': 29857,\n",
       " 'years': 31700,\n",
       " 'trained': 29062,\n",
       " 'blame': 4378,\n",
       " 'katrina': 15868,\n",
       " 'clear': 6435,\n",
       " 'owner': 20500,\n",
       " 'sufficiently': 27478,\n",
       " 'maintained': 17379,\n",
       " 'facility': 10944,\n",
       " 'performed': 21072,\n",
       " 'done': 9195,\n",
       " 'matter': 17776,\n",
       " 'unsightly': 29810,\n",
       " 'stretch': 27293,\n",
       " 'imagination': 14600,\n",
       " 'original': 20197,\n",
       " 'thin': 28382,\n",
       " 'properly': 22284,\n",
       " 'open': 20069,\n",
       " 'loud': 17106,\n",
       " 'inconsistent': 14784,\n",
       " 'keeping': 15902,\n",
       " 'steady': 27059,\n",
       " 'temp': 28076,\n",
       " 'using': 30013,\n",
       " 'mercury': 18018,\n",
       " 'thermostat': 28355,\n",
       " 'paltry': 20612,\n",
       " 'compared': 6856,\n",
       " 'others': 20267,\n",
       " 'hotelsdear': 14227,\n",
       " 'josephcarter2018thank': 15708,\n",
       " 'apologize': 2692,\n",
       " 'fell': 11237,\n",
       " 'high': 13767,\n",
       " 'standards': 26860,\n",
       " 'critical': 7702,\n",
       " 'success': 27440,\n",
       " 'pride': 22100,\n",
       " 'levels': 16592,\n",
       " 'case': 5620,\n",
       " 'greatly': 12943,\n",
       " 'important': 14666,\n",
       " 'continue': 7237,\n",
       " 'improvements': 14713,\n",
       " 'assured': 3114,\n",
       " 'heard': 13518,\n",
       " 'senior': 25098,\n",
       " 'welcome': 30961,\n",
       " 'wife': 31235,\n",
       " 'midway': 18178,\n",
       " 'wwii': 31638,\n",
       " 'ogden': 19866,\n",
       " 'charles': 5940,\n",
       " 'st': 26749,\n",
       " 'trolley': 29299,\n",
       " 'garden': 12382,\n",
       " 'districtour': 9078,\n",
       " '6th': 1127,\n",
       " 'kingbed': 16043,\n",
       " 'cramped': 7612,\n",
       " 'smallness': 26033,\n",
       " 'inconvenience': 14785,\n",
       " 'lack': 16207,\n",
       " 'stand': 26856,\n",
       " 'light': 16655,\n",
       " 'side': 25628,\n",
       " 'pillows': 21306,\n",
       " 'bath': 3775,\n",
       " 'ample': 2422,\n",
       " 'toiletry': 28772,\n",
       " 'bags': 3590,\n",
       " 'tubshower': 29387,\n",
       " 'shampoo': 25319,\n",
       " 'products': 22208,\n",
       " 'qualitysince': 22533,\n",
       " 'poydras': 21862,\n",
       " 'thoroughfare': 28454,\n",
       " 'coincided': 6635,\n",
       " 'saints': 24570,\n",
       " 'nfl': 19181,\n",
       " 'game': 12355,\n",
       " 'subsided': 27417,\n",
       " 'pm': 21593,\n",
       " 'traffic': 29049,\n",
       " 'cleared': 6438,\n",
       " 'subsequent': 27414,\n",
       " 'pleasantly': 21501,\n",
       " 'quietthis': 22634,\n",
       " 'smaller': 26024,\n",
       " 'mammoth': 17451,\n",
       " 'sheraton': 25412,\n",
       " 'available': 3339,\n",
       " 'pleasant': 21495,\n",
       " 'premises': 21936,\n",
       " 'ranges': 22778,\n",
       " '510': 956,\n",
       " 'felt': 11240,\n",
       " 'value': 30156,\n",
       " 'gladly': 12613,\n",
       " 'againwere': 1958,\n",
       " 'proximity': 22396,\n",
       " 'centre': 5792,\n",
       " 'disabled': 8851,\n",
       " 'facilities': 10936,\n",
       " 'superior': 27601,\n",
       " 'amtrak': 2428,\n",
       " 'york': 31752,\n",
       " '36hrs': 758,\n",
       " '2130': 492,\n",
       " 'tired': 28696,\n",
       " 'expecting': 10719,\n",
       " 'decent': 8207,\n",
       " 'double': 9275,\n",
       " 'shower': 25537,\n",
       " '7th': 1213,\n",
       " 'floorthey': 11583,\n",
       " 'correct': 7412,\n",
       " 'acceptable': 1462,\n",
       " 'said': 24562,\n",
       " 'yes': 31725,\n",
       " 'informed': 14916,\n",
       " 'per': 21037,\n",
       " '12': 160,\n",
       " 'extras': 10879,\n",
       " 'breakfastwe': 4821,\n",
       " 'hit': 13871,\n",
       " 'card': 5482,\n",
       " '3000': 661,\n",
       " 'leaving': 16479,\n",
       " 'london': 17004,\n",
       " 'agreed': 1998,\n",
       " 'company': 6850,\n",
       " 'transaction': 29083,\n",
       " '2800': 609,\n",
       " 'stolenlost': 27153,\n",
       " 'past': 20830,\n",
       " 'forgotten': 11762,\n",
       " 'limit': 16706,\n",
       " 'receptionist': 22972,\n",
       " 'rejected': 23332,\n",
       " 'happened': 13360,\n",
       " '1': 27,\n",
       " 'intention': 15108,\n",
       " 'sort': 26420,\n",
       " 'morning': 18612,\n",
       " 'delighted': 8356,\n",
       " 'adequate': 1685,\n",
       " 'upset': 29915,\n",
       " 'problems': 22179,\n",
       " 'reminded': 23414,\n",
       " 'set': 25228,\n",
       " 'safe': 24538,\n",
       " 'decided': 8223,\n",
       " 'deal': 8148,\n",
       " 'following': 11671,\n",
       " 'reception': 22970,\n",
       " 'presume': 22004,\n",
       " 'allowed': 2217,\n",
       " 'bill': 4297,\n",
       " 'account': 1545,\n",
       " 'saying': 24740,\n",
       " 'anbot': 2451,\n",
       " '2200': 504,\n",
       " 'split': 26627,\n",
       " '3ft': 792,\n",
       " 'large': 16312,\n",
       " 'hampered': 13288,\n",
       " 'thought': 28469,\n",
       " 'watch': 30787,\n",
       " 'movie': 18718,\n",
       " 'tv': 29442,\n",
       " 'refused': 23196,\n",
       " 'rang': 22774,\n",
       " 'connected': 7104,\n",
       " 'european': 10429,\n",
       " 'bamk': 3645,\n",
       " 'connection': 7108,\n",
       " 'lasted': 16334,\n",
       " '3': 658,\n",
       " 'daysand': 8097,\n",
       " '1798': 308,\n",
       " '3minute': 796,\n",
       " 'spite': 26619,\n",
       " 'disability': 8849,\n",
       " 'afford': 1801,\n",
       " 'move': 18712,\n",
       " 'stuck': 27347,\n",
       " 'finally': 11331,\n",
       " 'helped': 13608,\n",
       " 'luggage': 17233,\n",
       " 'write': 31610,\n",
       " 'trouble': 29317,\n",
       " 'around': 2953,\n",
       " '5000': 932,\n",
       " 'hold': 13900,\n",
       " 'incidentals': 14754,\n",
       " 'waived': 30597,\n",
       " 'due': 9566,\n",
       " 'monetary': 18514,\n",
       " 'limits': 16715,\n",
       " 'effort': 9823,\n",
       " 'placed': 21393,\n",
       " 'smallest': 26025,\n",
       " 'additionally': 1659,\n",
       " 'disconnect': 8903,\n",
       " 'international': 15145,\n",
       " 'sounds': 26443,\n",
       " 'beyond': 4243,\n",
       " 'serve': 25154,\n",
       " 'satisfied': 24697,\n",
       " 'special': 26543,\n",
       " ...}"
      ]
     },
     "execution_count": 710,
     "metadata": {},
     "output_type": "execute_result"
    }
   ],
   "source": [
    "bow=CountVectorizer(analyzer=text_process).fit(data['reviews.text'])\n",
    "bow.vocabulary_                                                                        # frequency of words"
   ]
  },
  {
   "cell_type": "code",
   "execution_count": 711,
   "id": "32e6bd8a",
   "metadata": {},
   "outputs": [],
   "source": [
    "tdm=bow.transform(data['reviews.text'])                            # Term Document Matrix"
   ]
  },
  {
   "cell_type": "code",
   "execution_count": 712,
   "id": "a5dcb3b4",
   "metadata": {},
   "outputs": [],
   "source": [
    "from sklearn.model_selection import train_test_split"
   ]
  },
  {
   "cell_type": "code",
   "execution_count": 713,
   "id": "21d97351",
   "metadata": {},
   "outputs": [],
   "source": [
    "train_x,test_x,train_y,test_y=train_test_split(tdm,data['reviews.rating'],test_size=0.2)"
   ]
  },
  {
   "cell_type": "code",
   "execution_count": 714,
   "id": "b1afce95",
   "metadata": {},
   "outputs": [],
   "source": [
    "from sklearn.tree import DecisionTreeClassifier\n",
    "dt = DecisionTreeClassifier()"
   ]
  },
  {
   "cell_type": "code",
   "execution_count": 715,
   "id": "0766518c",
   "metadata": {},
   "outputs": [
    {
     "data": {
      "text/html": [
       "<style>#sk-container-id-43 {color: black;background-color: white;}#sk-container-id-43 pre{padding: 0;}#sk-container-id-43 div.sk-toggleable {background-color: white;}#sk-container-id-43 label.sk-toggleable__label {cursor: pointer;display: block;width: 100%;margin-bottom: 0;padding: 0.3em;box-sizing: border-box;text-align: center;}#sk-container-id-43 label.sk-toggleable__label-arrow:before {content: \"▸\";float: left;margin-right: 0.25em;color: #696969;}#sk-container-id-43 label.sk-toggleable__label-arrow:hover:before {color: black;}#sk-container-id-43 div.sk-estimator:hover label.sk-toggleable__label-arrow:before {color: black;}#sk-container-id-43 div.sk-toggleable__content {max-height: 0;max-width: 0;overflow: hidden;text-align: left;background-color: #f0f8ff;}#sk-container-id-43 div.sk-toggleable__content pre {margin: 0.2em;color: black;border-radius: 0.25em;background-color: #f0f8ff;}#sk-container-id-43 input.sk-toggleable__control:checked~div.sk-toggleable__content {max-height: 200px;max-width: 100%;overflow: auto;}#sk-container-id-43 input.sk-toggleable__control:checked~label.sk-toggleable__label-arrow:before {content: \"▾\";}#sk-container-id-43 div.sk-estimator input.sk-toggleable__control:checked~label.sk-toggleable__label {background-color: #d4ebff;}#sk-container-id-43 div.sk-label input.sk-toggleable__control:checked~label.sk-toggleable__label {background-color: #d4ebff;}#sk-container-id-43 input.sk-hidden--visually {border: 0;clip: rect(1px 1px 1px 1px);clip: rect(1px, 1px, 1px, 1px);height: 1px;margin: -1px;overflow: hidden;padding: 0;position: absolute;width: 1px;}#sk-container-id-43 div.sk-estimator {font-family: monospace;background-color: #f0f8ff;border: 1px dotted black;border-radius: 0.25em;box-sizing: border-box;margin-bottom: 0.5em;}#sk-container-id-43 div.sk-estimator:hover {background-color: #d4ebff;}#sk-container-id-43 div.sk-parallel-item::after {content: \"\";width: 100%;border-bottom: 1px solid gray;flex-grow: 1;}#sk-container-id-43 div.sk-label:hover label.sk-toggleable__label {background-color: #d4ebff;}#sk-container-id-43 div.sk-serial::before {content: \"\";position: absolute;border-left: 1px solid gray;box-sizing: border-box;top: 0;bottom: 0;left: 50%;z-index: 0;}#sk-container-id-43 div.sk-serial {display: flex;flex-direction: column;align-items: center;background-color: white;padding-right: 0.2em;padding-left: 0.2em;position: relative;}#sk-container-id-43 div.sk-item {position: relative;z-index: 1;}#sk-container-id-43 div.sk-parallel {display: flex;align-items: stretch;justify-content: center;background-color: white;position: relative;}#sk-container-id-43 div.sk-item::before, #sk-container-id-43 div.sk-parallel-item::before {content: \"\";position: absolute;border-left: 1px solid gray;box-sizing: border-box;top: 0;bottom: 0;left: 50%;z-index: -1;}#sk-container-id-43 div.sk-parallel-item {display: flex;flex-direction: column;z-index: 1;position: relative;background-color: white;}#sk-container-id-43 div.sk-parallel-item:first-child::after {align-self: flex-end;width: 50%;}#sk-container-id-43 div.sk-parallel-item:last-child::after {align-self: flex-start;width: 50%;}#sk-container-id-43 div.sk-parallel-item:only-child::after {width: 0;}#sk-container-id-43 div.sk-dashed-wrapped {border: 1px dashed gray;margin: 0 0.4em 0.5em 0.4em;box-sizing: border-box;padding-bottom: 0.4em;background-color: white;}#sk-container-id-43 div.sk-label label {font-family: monospace;font-weight: bold;display: inline-block;line-height: 1.2em;}#sk-container-id-43 div.sk-label-container {text-align: center;}#sk-container-id-43 div.sk-container {/* jupyter's `normalize.less` sets `[hidden] { display: none; }` but bootstrap.min.css set `[hidden] { display: none !important; }` so we also need the `!important` here to be able to override the default hidden behavior on the sphinx rendered scikit-learn.org. See: https://github.com/scikit-learn/scikit-learn/issues/21755 */display: inline-block !important;position: relative;}#sk-container-id-43 div.sk-text-repr-fallback {display: none;}</style><div id=\"sk-container-id-43\" class=\"sk-top-container\"><div class=\"sk-text-repr-fallback\"><pre>DecisionTreeClassifier()</pre><b>In a Jupyter environment, please rerun this cell to show the HTML representation or trust the notebook. <br />On GitHub, the HTML representation is unable to render, please try loading this page with nbviewer.org.</b></div><div class=\"sk-container\" hidden><div class=\"sk-item\"><div class=\"sk-estimator sk-toggleable\"><input class=\"sk-toggleable__control sk-hidden--visually\" id=\"sk-estimator-id-43\" type=\"checkbox\" checked><label for=\"sk-estimator-id-43\" class=\"sk-toggleable__label sk-toggleable__label-arrow\">DecisionTreeClassifier</label><div class=\"sk-toggleable__content\"><pre>DecisionTreeClassifier()</pre></div></div></div></div></div>"
      ],
      "text/plain": [
       "DecisionTreeClassifier()"
      ]
     },
     "execution_count": 715,
     "metadata": {},
     "output_type": "execute_result"
    }
   ],
   "source": [
    "dt.fit(train_x, train_y)"
   ]
  },
  {
   "cell_type": "code",
   "execution_count": 716,
   "id": "3ef87444",
   "metadata": {},
   "outputs": [],
   "source": [
    "pred_test=dt.predict(test_x)"
   ]
  },
  {
   "cell_type": "code",
   "execution_count": 717,
   "id": "c289103e",
   "metadata": {},
   "outputs": [],
   "source": [
    "from sklearn.metrics import *"
   ]
  },
  {
   "cell_type": "code",
   "execution_count": 718,
   "id": "d54e942f",
   "metadata": {},
   "outputs": [
    {
     "data": {
      "text/plain": [
       "array([[ 29,  21,  28,  16,  23],\n",
       "       [ 18,  19,  25,  28,  28],\n",
       "       [ 25,  21,  54,  77,  64],\n",
       "       [ 11,  14,  57, 231, 291],\n",
       "       [ 16,  11,  40, 224, 629]], dtype=int64)"
      ]
     },
     "execution_count": 718,
     "metadata": {},
     "output_type": "execute_result"
    }
   ],
   "source": [
    "tab=confusion_matrix(test_y,pred_test)\n",
    "tab"
   ]
  },
  {
   "cell_type": "code",
   "execution_count": 719,
   "id": "cbc1d658",
   "metadata": {},
   "outputs": [
    {
     "data": {
      "text/plain": [
       "48.1"
      ]
     },
     "execution_count": 719,
     "metadata": {},
     "output_type": "execute_result"
    }
   ],
   "source": [
    "accuracy_dt=accuracy_score(test_y,pred_test)*100\n",
    "accuracy_dt"
   ]
  },
  {
   "cell_type": "code",
   "execution_count": 720,
   "id": "5bface06",
   "metadata": {},
   "outputs": [
    {
     "name": "stdout",
     "output_type": "stream",
     "text": [
      "              precision    recall  f1-score   support\n",
      "\n",
      "           1       0.29      0.25      0.27       117\n",
      "           2       0.22      0.16      0.19       118\n",
      "           3       0.26      0.22      0.24       241\n",
      "           4       0.40      0.38      0.39       604\n",
      "           5       0.61      0.68      0.64       920\n",
      "\n",
      "    accuracy                           0.48      2000\n",
      "   macro avg       0.36      0.34      0.35      2000\n",
      "weighted avg       0.46      0.48      0.47      2000\n",
      "\n"
     ]
    }
   ],
   "source": [
    "print(classification_report(test_y,pred_test))"
   ]
  },
  {
   "cell_type": "markdown",
   "id": "06b2a753",
   "metadata": {},
   "source": [
    "# CHANGING CATEGORIES OF REVIEWS FROM 5 TO 3"
   ]
  },
  {
   "cell_type": "code",
   "execution_count": 150,
   "id": "d9ad8736",
   "metadata": {},
   "outputs": [],
   "source": [
    "data['reviews.rating'].replace({2:1,3:2,4:3,5:3},inplace=True)          # Now only 3 Categories are there"
   ]
  },
  {
   "cell_type": "code",
   "execution_count": 774,
   "id": "6338d544",
   "metadata": {},
   "outputs": [],
   "source": [
    "from sklearn.feature_extraction.text import CountVectorizer\n"
   ]
  },
  {
   "cell_type": "code",
   "execution_count": 775,
   "id": "50bb0c7e",
   "metadata": {},
   "outputs": [],
   "source": [
    "bow=CountVectorizer(analyzer=text_process).fit(data['reviews.text'])"
   ]
  },
  {
   "cell_type": "code",
   "execution_count": 776,
   "id": "bc6940d6",
   "metadata": {},
   "outputs": [],
   "source": [
    "tdm=bow.transform(data['reviews.text'])"
   ]
  },
  {
   "cell_type": "code",
   "execution_count": 777,
   "id": "4306e610",
   "metadata": {},
   "outputs": [],
   "source": [
    "from sklearn.model_selection import train_test_split\n",
    "\n",
    "train_x,test_x,train_y,test_y=train_test_split(tdm,data['reviews.rating'],test_size=0.2)\n"
   ]
  },
  {
   "cell_type": "code",
   "execution_count": 650,
   "id": "bb14e710",
   "metadata": {},
   "outputs": [],
   "source": [
    "from sklearn.tree import DecisionTreeClassifier\n",
    "dt = DecisionTreeClassifier()"
   ]
  },
  {
   "cell_type": "code",
   "execution_count": 651,
   "id": "c02d11f4",
   "metadata": {},
   "outputs": [
    {
     "data": {
      "text/html": [
       "<style>#sk-container-id-41 {color: black;background-color: white;}#sk-container-id-41 pre{padding: 0;}#sk-container-id-41 div.sk-toggleable {background-color: white;}#sk-container-id-41 label.sk-toggleable__label {cursor: pointer;display: block;width: 100%;margin-bottom: 0;padding: 0.3em;box-sizing: border-box;text-align: center;}#sk-container-id-41 label.sk-toggleable__label-arrow:before {content: \"▸\";float: left;margin-right: 0.25em;color: #696969;}#sk-container-id-41 label.sk-toggleable__label-arrow:hover:before {color: black;}#sk-container-id-41 div.sk-estimator:hover label.sk-toggleable__label-arrow:before {color: black;}#sk-container-id-41 div.sk-toggleable__content {max-height: 0;max-width: 0;overflow: hidden;text-align: left;background-color: #f0f8ff;}#sk-container-id-41 div.sk-toggleable__content pre {margin: 0.2em;color: black;border-radius: 0.25em;background-color: #f0f8ff;}#sk-container-id-41 input.sk-toggleable__control:checked~div.sk-toggleable__content {max-height: 200px;max-width: 100%;overflow: auto;}#sk-container-id-41 input.sk-toggleable__control:checked~label.sk-toggleable__label-arrow:before {content: \"▾\";}#sk-container-id-41 div.sk-estimator input.sk-toggleable__control:checked~label.sk-toggleable__label {background-color: #d4ebff;}#sk-container-id-41 div.sk-label input.sk-toggleable__control:checked~label.sk-toggleable__label {background-color: #d4ebff;}#sk-container-id-41 input.sk-hidden--visually {border: 0;clip: rect(1px 1px 1px 1px);clip: rect(1px, 1px, 1px, 1px);height: 1px;margin: -1px;overflow: hidden;padding: 0;position: absolute;width: 1px;}#sk-container-id-41 div.sk-estimator {font-family: monospace;background-color: #f0f8ff;border: 1px dotted black;border-radius: 0.25em;box-sizing: border-box;margin-bottom: 0.5em;}#sk-container-id-41 div.sk-estimator:hover {background-color: #d4ebff;}#sk-container-id-41 div.sk-parallel-item::after {content: \"\";width: 100%;border-bottom: 1px solid gray;flex-grow: 1;}#sk-container-id-41 div.sk-label:hover label.sk-toggleable__label {background-color: #d4ebff;}#sk-container-id-41 div.sk-serial::before {content: \"\";position: absolute;border-left: 1px solid gray;box-sizing: border-box;top: 0;bottom: 0;left: 50%;z-index: 0;}#sk-container-id-41 div.sk-serial {display: flex;flex-direction: column;align-items: center;background-color: white;padding-right: 0.2em;padding-left: 0.2em;position: relative;}#sk-container-id-41 div.sk-item {position: relative;z-index: 1;}#sk-container-id-41 div.sk-parallel {display: flex;align-items: stretch;justify-content: center;background-color: white;position: relative;}#sk-container-id-41 div.sk-item::before, #sk-container-id-41 div.sk-parallel-item::before {content: \"\";position: absolute;border-left: 1px solid gray;box-sizing: border-box;top: 0;bottom: 0;left: 50%;z-index: -1;}#sk-container-id-41 div.sk-parallel-item {display: flex;flex-direction: column;z-index: 1;position: relative;background-color: white;}#sk-container-id-41 div.sk-parallel-item:first-child::after {align-self: flex-end;width: 50%;}#sk-container-id-41 div.sk-parallel-item:last-child::after {align-self: flex-start;width: 50%;}#sk-container-id-41 div.sk-parallel-item:only-child::after {width: 0;}#sk-container-id-41 div.sk-dashed-wrapped {border: 1px dashed gray;margin: 0 0.4em 0.5em 0.4em;box-sizing: border-box;padding-bottom: 0.4em;background-color: white;}#sk-container-id-41 div.sk-label label {font-family: monospace;font-weight: bold;display: inline-block;line-height: 1.2em;}#sk-container-id-41 div.sk-label-container {text-align: center;}#sk-container-id-41 div.sk-container {/* jupyter's `normalize.less` sets `[hidden] { display: none; }` but bootstrap.min.css set `[hidden] { display: none !important; }` so we also need the `!important` here to be able to override the default hidden behavior on the sphinx rendered scikit-learn.org. See: https://github.com/scikit-learn/scikit-learn/issues/21755 */display: inline-block !important;position: relative;}#sk-container-id-41 div.sk-text-repr-fallback {display: none;}</style><div id=\"sk-container-id-41\" class=\"sk-top-container\"><div class=\"sk-text-repr-fallback\"><pre>DecisionTreeClassifier()</pre><b>In a Jupyter environment, please rerun this cell to show the HTML representation or trust the notebook. <br />On GitHub, the HTML representation is unable to render, please try loading this page with nbviewer.org.</b></div><div class=\"sk-container\" hidden><div class=\"sk-item\"><div class=\"sk-estimator sk-toggleable\"><input class=\"sk-toggleable__control sk-hidden--visually\" id=\"sk-estimator-id-41\" type=\"checkbox\" checked><label for=\"sk-estimator-id-41\" class=\"sk-toggleable__label sk-toggleable__label-arrow\">DecisionTreeClassifier</label><div class=\"sk-toggleable__content\"><pre>DecisionTreeClassifier()</pre></div></div></div></div></div>"
      ],
      "text/plain": [
       "DecisionTreeClassifier()"
      ]
     },
     "execution_count": 651,
     "metadata": {},
     "output_type": "execute_result"
    }
   ],
   "source": [
    "dt.fit(train_x,train_y)"
   ]
  },
  {
   "cell_type": "code",
   "execution_count": 438,
   "id": "1839f899",
   "metadata": {},
   "outputs": [],
   "source": [
    "pred_test=dt.predict(test_x)"
   ]
  },
  {
   "cell_type": "code",
   "execution_count": 439,
   "id": "d9059e5a",
   "metadata": {},
   "outputs": [],
   "source": [
    "from sklearn.metrics import *"
   ]
  },
  {
   "cell_type": "code",
   "execution_count": 440,
   "id": "1ff68086",
   "metadata": {},
   "outputs": [
    {
     "data": {
      "text/plain": [
       "array([[ 104,   38,   72],\n",
       "       [  42,   50,  146],\n",
       "       [  53,   89, 1406]], dtype=int64)"
      ]
     },
     "execution_count": 440,
     "metadata": {},
     "output_type": "execute_result"
    }
   ],
   "source": [
    "tab=confusion_matrix(test_y,pred_test)\n",
    "tab"
   ]
  },
  {
   "cell_type": "code",
   "execution_count": 441,
   "id": "01c05ac4",
   "metadata": {},
   "outputs": [
    {
     "data": {
      "text/plain": [
       "78.0"
      ]
     },
     "execution_count": 441,
     "metadata": {},
     "output_type": "execute_result"
    }
   ],
   "source": [
    "\n",
    "accuracy_dt=accuracy_score(test_y,pred_test)*100\n",
    "accuracy_dt"
   ]
  },
  {
   "cell_type": "code",
   "execution_count": 442,
   "id": "f2c8fba2",
   "metadata": {},
   "outputs": [
    {
     "name": "stdout",
     "output_type": "stream",
     "text": [
      "              precision    recall  f1-score   support\n",
      "\n",
      "           1       0.52      0.49      0.50       214\n",
      "           2       0.28      0.21      0.24       238\n",
      "           3       0.87      0.91      0.89      1548\n",
      "\n",
      "    accuracy                           0.78      2000\n",
      "   macro avg       0.56      0.53      0.54      2000\n",
      "weighted avg       0.76      0.78      0.77      2000\n",
      "\n"
     ]
    }
   ],
   "source": [
    "print(classification_report(test_y,pred_test))"
   ]
  },
  {
   "cell_type": "markdown",
   "id": "70e590cf",
   "metadata": {},
   "source": [
    "SO IT IS GIVING BETTER RESULTS FOR 3 CATEGORIES AND COULD BE SEEN THAT CLASS IMBALANCE PROBLEM IS PRESENT"
   ]
  },
  {
   "cell_type": "markdown",
   "id": "af56757c",
   "metadata": {},
   "source": [
    "# HYPERPARAMETER TUNING"
   ]
  },
  {
   "cell_type": "markdown",
   "id": "180210a3",
   "metadata": {},
   "source": [
    "HYPERPARMETERS-----------> THESE ARE THOSE PARAMETERS WHICH ARE NOT PART ORIGINAL DATA AND USER CAN CONTROL IT\n",
    "\n",
    "FOR EX--> CRITERIA ,  MAX_DEPTH , MIN_SAMPLE_SPLIT\n",
    "\n",
    "\n",
    "SO WE NEED TO FIND THE BEST COMBINATIION OF THSES , TO GET THE OPTIMUM MODEL"
   ]
  },
  {
   "cell_type": "code",
   "execution_count": 519,
   "id": "83cdc75a",
   "metadata": {},
   "outputs": [],
   "source": [
    "from sklearn.model_selection import GridSearchCV\n",
    "\n",
    "search_dict = {\"criterion\": ['gini','entropy'],\n",
    "              \"max_depth\": range(6,10),\n",
    "              \"min_samples_split\": (25, 50, 75,100,150) }"
   ]
  },
  {
   "cell_type": "code",
   "execution_count": 520,
   "id": "ad916c46",
   "metadata": {},
   "outputs": [],
   "source": [
    "from sklearn.tree import DecisionTreeClassifier\n",
    "dt = DecisionTreeClassifier()\n",
    "\n",
    "dt_GridSearchCV = GridSearchCV(dt, param_grid= search_dict) \n",
    "# this will build build multiple models and select the best model"
   ]
  },
  {
   "cell_type": "code",
   "execution_count": 521,
   "id": "9e9ba8e0",
   "metadata": {},
   "outputs": [
    {
     "data": {
      "text/html": [
       "<style>#sk-container-id-28 {color: black;background-color: white;}#sk-container-id-28 pre{padding: 0;}#sk-container-id-28 div.sk-toggleable {background-color: white;}#sk-container-id-28 label.sk-toggleable__label {cursor: pointer;display: block;width: 100%;margin-bottom: 0;padding: 0.3em;box-sizing: border-box;text-align: center;}#sk-container-id-28 label.sk-toggleable__label-arrow:before {content: \"▸\";float: left;margin-right: 0.25em;color: #696969;}#sk-container-id-28 label.sk-toggleable__label-arrow:hover:before {color: black;}#sk-container-id-28 div.sk-estimator:hover label.sk-toggleable__label-arrow:before {color: black;}#sk-container-id-28 div.sk-toggleable__content {max-height: 0;max-width: 0;overflow: hidden;text-align: left;background-color: #f0f8ff;}#sk-container-id-28 div.sk-toggleable__content pre {margin: 0.2em;color: black;border-radius: 0.25em;background-color: #f0f8ff;}#sk-container-id-28 input.sk-toggleable__control:checked~div.sk-toggleable__content {max-height: 200px;max-width: 100%;overflow: auto;}#sk-container-id-28 input.sk-toggleable__control:checked~label.sk-toggleable__label-arrow:before {content: \"▾\";}#sk-container-id-28 div.sk-estimator input.sk-toggleable__control:checked~label.sk-toggleable__label {background-color: #d4ebff;}#sk-container-id-28 div.sk-label input.sk-toggleable__control:checked~label.sk-toggleable__label {background-color: #d4ebff;}#sk-container-id-28 input.sk-hidden--visually {border: 0;clip: rect(1px 1px 1px 1px);clip: rect(1px, 1px, 1px, 1px);height: 1px;margin: -1px;overflow: hidden;padding: 0;position: absolute;width: 1px;}#sk-container-id-28 div.sk-estimator {font-family: monospace;background-color: #f0f8ff;border: 1px dotted black;border-radius: 0.25em;box-sizing: border-box;margin-bottom: 0.5em;}#sk-container-id-28 div.sk-estimator:hover {background-color: #d4ebff;}#sk-container-id-28 div.sk-parallel-item::after {content: \"\";width: 100%;border-bottom: 1px solid gray;flex-grow: 1;}#sk-container-id-28 div.sk-label:hover label.sk-toggleable__label {background-color: #d4ebff;}#sk-container-id-28 div.sk-serial::before {content: \"\";position: absolute;border-left: 1px solid gray;box-sizing: border-box;top: 0;bottom: 0;left: 50%;z-index: 0;}#sk-container-id-28 div.sk-serial {display: flex;flex-direction: column;align-items: center;background-color: white;padding-right: 0.2em;padding-left: 0.2em;position: relative;}#sk-container-id-28 div.sk-item {position: relative;z-index: 1;}#sk-container-id-28 div.sk-parallel {display: flex;align-items: stretch;justify-content: center;background-color: white;position: relative;}#sk-container-id-28 div.sk-item::before, #sk-container-id-28 div.sk-parallel-item::before {content: \"\";position: absolute;border-left: 1px solid gray;box-sizing: border-box;top: 0;bottom: 0;left: 50%;z-index: -1;}#sk-container-id-28 div.sk-parallel-item {display: flex;flex-direction: column;z-index: 1;position: relative;background-color: white;}#sk-container-id-28 div.sk-parallel-item:first-child::after {align-self: flex-end;width: 50%;}#sk-container-id-28 div.sk-parallel-item:last-child::after {align-self: flex-start;width: 50%;}#sk-container-id-28 div.sk-parallel-item:only-child::after {width: 0;}#sk-container-id-28 div.sk-dashed-wrapped {border: 1px dashed gray;margin: 0 0.4em 0.5em 0.4em;box-sizing: border-box;padding-bottom: 0.4em;background-color: white;}#sk-container-id-28 div.sk-label label {font-family: monospace;font-weight: bold;display: inline-block;line-height: 1.2em;}#sk-container-id-28 div.sk-label-container {text-align: center;}#sk-container-id-28 div.sk-container {/* jupyter's `normalize.less` sets `[hidden] { display: none; }` but bootstrap.min.css set `[hidden] { display: none !important; }` so we also need the `!important` here to be able to override the default hidden behavior on the sphinx rendered scikit-learn.org. See: https://github.com/scikit-learn/scikit-learn/issues/21755 */display: inline-block !important;position: relative;}#sk-container-id-28 div.sk-text-repr-fallback {display: none;}</style><div id=\"sk-container-id-28\" class=\"sk-top-container\"><div class=\"sk-text-repr-fallback\"><pre>GridSearchCV(estimator=DecisionTreeClassifier(),\n",
       "             param_grid={&#x27;criterion&#x27;: [&#x27;gini&#x27;, &#x27;entropy&#x27;],\n",
       "                         &#x27;max_depth&#x27;: range(6, 10),\n",
       "                         &#x27;min_samples_split&#x27;: (25, 50, 75, 100, 150)})</pre><b>In a Jupyter environment, please rerun this cell to show the HTML representation or trust the notebook. <br />On GitHub, the HTML representation is unable to render, please try loading this page with nbviewer.org.</b></div><div class=\"sk-container\" hidden><div class=\"sk-item sk-dashed-wrapped\"><div class=\"sk-label-container\"><div class=\"sk-label sk-toggleable\"><input class=\"sk-toggleable__control sk-hidden--visually\" id=\"sk-estimator-id-32\" type=\"checkbox\" ><label for=\"sk-estimator-id-32\" class=\"sk-toggleable__label sk-toggleable__label-arrow\">GridSearchCV</label><div class=\"sk-toggleable__content\"><pre>GridSearchCV(estimator=DecisionTreeClassifier(),\n",
       "             param_grid={&#x27;criterion&#x27;: [&#x27;gini&#x27;, &#x27;entropy&#x27;],\n",
       "                         &#x27;max_depth&#x27;: range(6, 10),\n",
       "                         &#x27;min_samples_split&#x27;: (25, 50, 75, 100, 150)})</pre></div></div></div><div class=\"sk-parallel\"><div class=\"sk-parallel-item\"><div class=\"sk-item\"><div class=\"sk-label-container\"><div class=\"sk-label sk-toggleable\"><input class=\"sk-toggleable__control sk-hidden--visually\" id=\"sk-estimator-id-33\" type=\"checkbox\" ><label for=\"sk-estimator-id-33\" class=\"sk-toggleable__label sk-toggleable__label-arrow\">estimator: DecisionTreeClassifier</label><div class=\"sk-toggleable__content\"><pre>DecisionTreeClassifier()</pre></div></div></div><div class=\"sk-serial\"><div class=\"sk-item\"><div class=\"sk-estimator sk-toggleable\"><input class=\"sk-toggleable__control sk-hidden--visually\" id=\"sk-estimator-id-34\" type=\"checkbox\" ><label for=\"sk-estimator-id-34\" class=\"sk-toggleable__label sk-toggleable__label-arrow\">DecisionTreeClassifier</label><div class=\"sk-toggleable__content\"><pre>DecisionTreeClassifier()</pre></div></div></div></div></div></div></div></div></div></div>"
      ],
      "text/plain": [
       "GridSearchCV(estimator=DecisionTreeClassifier(),\n",
       "             param_grid={'criterion': ['gini', 'entropy'],\n",
       "                         'max_depth': range(6, 10),\n",
       "                         'min_samples_split': (25, 50, 75, 100, 150)})"
      ]
     },
     "execution_count": 521,
     "metadata": {},
     "output_type": "execute_result"
    }
   ],
   "source": [
    "dt_GridSearchCV.fit(train_x, train_y)\n"
   ]
  },
  {
   "cell_type": "code",
   "execution_count": 523,
   "id": "456898a4",
   "metadata": {},
   "outputs": [
    {
     "data": {
      "text/plain": [
       "{'criterion': 'gini', 'max_depth': 8, 'min_samples_split': 25}"
      ]
     },
     "execution_count": 523,
     "metadata": {},
     "output_type": "execute_result"
    }
   ],
   "source": [
    "dt_GridSearchCV.best_params_"
   ]
  },
  {
   "cell_type": "markdown",
   "id": "56abf226",
   "metadata": {},
   "source": [
    "SO NOW WE WILL BE BUILDING MODEL WITH THIS COMBINATION ONLY"
   ]
  },
  {
   "cell_type": "markdown",
   "id": "1118e1df",
   "metadata": {},
   "source": [
    "# TDM"
   ]
  },
  {
   "cell_type": "code",
   "execution_count": 783,
   "id": "a8438488",
   "metadata": {},
   "outputs": [
    {
     "data": {
      "text/plain": [
       "0       [hotel, nice, quiet, know, train, track, near,...\n",
       "1       [stayed, king, suite, separation, bedroom, liv...\n",
       "2       [parking, horrible, somebody, ran, rental, car...\n",
       "3       [cheap, excellent, location, price, somewhat, ...\n",
       "4       [get, room, advertised, website, paid, may, lu...\n",
       "                              ...                        \n",
       "9995    [friends, took, trip, hampton, basslights, sho...\n",
       "9996    [check, departure, staff, friendly, profession...\n",
       "9997    [hampton, located, quiet, street, across, hosp...\n",
       "9998    [awesome, wings, favorite, garlic, parmesan, g...\n",
       "9999    [clean, facility, freeway, staff, friendly, ef...\n",
       "Name: reviews.text, Length: 10000, dtype: object"
      ]
     },
     "execution_count": 783,
     "metadata": {},
     "output_type": "execute_result"
    }
   ],
   "source": [
    "data['reviews.text'].apply(text_process)"
   ]
  },
  {
   "cell_type": "code",
   "execution_count": 784,
   "id": "418834cc",
   "metadata": {},
   "outputs": [],
   "source": [
    "from sklearn.feature_extraction.text import CountVectorizer"
   ]
  },
  {
   "cell_type": "code",
   "execution_count": 785,
   "id": "edf67103",
   "metadata": {},
   "outputs": [],
   "source": [
    "bow=CountVectorizer(analyzer=text_process).fit(data['reviews.text'])"
   ]
  },
  {
   "cell_type": "code",
   "execution_count": 786,
   "id": "6bb32c88",
   "metadata": {
    "scrolled": true
   },
   "outputs": [
    {
     "data": {
      "text/html": [
       "<style>#sk-container-id-49 {color: black;background-color: white;}#sk-container-id-49 pre{padding: 0;}#sk-container-id-49 div.sk-toggleable {background-color: white;}#sk-container-id-49 label.sk-toggleable__label {cursor: pointer;display: block;width: 100%;margin-bottom: 0;padding: 0.3em;box-sizing: border-box;text-align: center;}#sk-container-id-49 label.sk-toggleable__label-arrow:before {content: \"▸\";float: left;margin-right: 0.25em;color: #696969;}#sk-container-id-49 label.sk-toggleable__label-arrow:hover:before {color: black;}#sk-container-id-49 div.sk-estimator:hover label.sk-toggleable__label-arrow:before {color: black;}#sk-container-id-49 div.sk-toggleable__content {max-height: 0;max-width: 0;overflow: hidden;text-align: left;background-color: #f0f8ff;}#sk-container-id-49 div.sk-toggleable__content pre {margin: 0.2em;color: black;border-radius: 0.25em;background-color: #f0f8ff;}#sk-container-id-49 input.sk-toggleable__control:checked~div.sk-toggleable__content {max-height: 200px;max-width: 100%;overflow: auto;}#sk-container-id-49 input.sk-toggleable__control:checked~label.sk-toggleable__label-arrow:before {content: \"▾\";}#sk-container-id-49 div.sk-estimator input.sk-toggleable__control:checked~label.sk-toggleable__label {background-color: #d4ebff;}#sk-container-id-49 div.sk-label input.sk-toggleable__control:checked~label.sk-toggleable__label {background-color: #d4ebff;}#sk-container-id-49 input.sk-hidden--visually {border: 0;clip: rect(1px 1px 1px 1px);clip: rect(1px, 1px, 1px, 1px);height: 1px;margin: -1px;overflow: hidden;padding: 0;position: absolute;width: 1px;}#sk-container-id-49 div.sk-estimator {font-family: monospace;background-color: #f0f8ff;border: 1px dotted black;border-radius: 0.25em;box-sizing: border-box;margin-bottom: 0.5em;}#sk-container-id-49 div.sk-estimator:hover {background-color: #d4ebff;}#sk-container-id-49 div.sk-parallel-item::after {content: \"\";width: 100%;border-bottom: 1px solid gray;flex-grow: 1;}#sk-container-id-49 div.sk-label:hover label.sk-toggleable__label {background-color: #d4ebff;}#sk-container-id-49 div.sk-serial::before {content: \"\";position: absolute;border-left: 1px solid gray;box-sizing: border-box;top: 0;bottom: 0;left: 50%;z-index: 0;}#sk-container-id-49 div.sk-serial {display: flex;flex-direction: column;align-items: center;background-color: white;padding-right: 0.2em;padding-left: 0.2em;position: relative;}#sk-container-id-49 div.sk-item {position: relative;z-index: 1;}#sk-container-id-49 div.sk-parallel {display: flex;align-items: stretch;justify-content: center;background-color: white;position: relative;}#sk-container-id-49 div.sk-item::before, #sk-container-id-49 div.sk-parallel-item::before {content: \"\";position: absolute;border-left: 1px solid gray;box-sizing: border-box;top: 0;bottom: 0;left: 50%;z-index: -1;}#sk-container-id-49 div.sk-parallel-item {display: flex;flex-direction: column;z-index: 1;position: relative;background-color: white;}#sk-container-id-49 div.sk-parallel-item:first-child::after {align-self: flex-end;width: 50%;}#sk-container-id-49 div.sk-parallel-item:last-child::after {align-self: flex-start;width: 50%;}#sk-container-id-49 div.sk-parallel-item:only-child::after {width: 0;}#sk-container-id-49 div.sk-dashed-wrapped {border: 1px dashed gray;margin: 0 0.4em 0.5em 0.4em;box-sizing: border-box;padding-bottom: 0.4em;background-color: white;}#sk-container-id-49 div.sk-label label {font-family: monospace;font-weight: bold;display: inline-block;line-height: 1.2em;}#sk-container-id-49 div.sk-label-container {text-align: center;}#sk-container-id-49 div.sk-container {/* jupyter's `normalize.less` sets `[hidden] { display: none; }` but bootstrap.min.css set `[hidden] { display: none !important; }` so we also need the `!important` here to be able to override the default hidden behavior on the sphinx rendered scikit-learn.org. See: https://github.com/scikit-learn/scikit-learn/issues/21755 */display: inline-block !important;position: relative;}#sk-container-id-49 div.sk-text-repr-fallback {display: none;}</style><div id=\"sk-container-id-49\" class=\"sk-top-container\"><div class=\"sk-text-repr-fallback\"><pre>CountVectorizer(analyzer=&lt;function text_process at 0x0000018AB5BED480&gt;)</pre><b>In a Jupyter environment, please rerun this cell to show the HTML representation or trust the notebook. <br />On GitHub, the HTML representation is unable to render, please try loading this page with nbviewer.org.</b></div><div class=\"sk-container\" hidden><div class=\"sk-item\"><div class=\"sk-estimator sk-toggleable\"><input class=\"sk-toggleable__control sk-hidden--visually\" id=\"sk-estimator-id-49\" type=\"checkbox\" checked><label for=\"sk-estimator-id-49\" class=\"sk-toggleable__label sk-toggleable__label-arrow\">CountVectorizer</label><div class=\"sk-toggleable__content\"><pre>CountVectorizer(analyzer=&lt;function text_process at 0x0000018AB5BED480&gt;)</pre></div></div></div></div></div>"
      ],
      "text/plain": [
       "CountVectorizer(analyzer=<function text_process at 0x0000018AB5BED480>)"
      ]
     },
     "execution_count": 786,
     "metadata": {},
     "output_type": "execute_result"
    }
   ],
   "source": [
    "bow"
   ]
  },
  {
   "cell_type": "code",
   "execution_count": 787,
   "id": "01c05c9d",
   "metadata": {},
   "outputs": [],
   "source": [
    "tdm=bow.transform(data['reviews.text'])"
   ]
  },
  {
   "cell_type": "code",
   "execution_count": 788,
   "id": "97e81104",
   "metadata": {},
   "outputs": [],
   "source": [
    "from sklearn.model_selection import train_test_split"
   ]
  },
  {
   "cell_type": "code",
   "execution_count": 789,
   "id": "daa64091",
   "metadata": {},
   "outputs": [],
   "source": [
    "train_x,test_x,train_y,test_y=train_test_split(tdm,data['reviews.rating'],test_size=0.2)"
   ]
  },
  {
   "cell_type": "code",
   "execution_count": 790,
   "id": "df6df5f9",
   "metadata": {},
   "outputs": [],
   "source": [
    "from sklearn.tree import DecisionTreeClassifier\n",
    "dt = DecisionTreeClassifier(criterion= 'gini',max_depth=8,min_samples_split=25,)"
   ]
  },
  {
   "cell_type": "code",
   "execution_count": 791,
   "id": "77821b19",
   "metadata": {},
   "outputs": [
    {
     "data": {
      "text/html": [
       "<style>#sk-container-id-50 {color: black;background-color: white;}#sk-container-id-50 pre{padding: 0;}#sk-container-id-50 div.sk-toggleable {background-color: white;}#sk-container-id-50 label.sk-toggleable__label {cursor: pointer;display: block;width: 100%;margin-bottom: 0;padding: 0.3em;box-sizing: border-box;text-align: center;}#sk-container-id-50 label.sk-toggleable__label-arrow:before {content: \"▸\";float: left;margin-right: 0.25em;color: #696969;}#sk-container-id-50 label.sk-toggleable__label-arrow:hover:before {color: black;}#sk-container-id-50 div.sk-estimator:hover label.sk-toggleable__label-arrow:before {color: black;}#sk-container-id-50 div.sk-toggleable__content {max-height: 0;max-width: 0;overflow: hidden;text-align: left;background-color: #f0f8ff;}#sk-container-id-50 div.sk-toggleable__content pre {margin: 0.2em;color: black;border-radius: 0.25em;background-color: #f0f8ff;}#sk-container-id-50 input.sk-toggleable__control:checked~div.sk-toggleable__content {max-height: 200px;max-width: 100%;overflow: auto;}#sk-container-id-50 input.sk-toggleable__control:checked~label.sk-toggleable__label-arrow:before {content: \"▾\";}#sk-container-id-50 div.sk-estimator input.sk-toggleable__control:checked~label.sk-toggleable__label {background-color: #d4ebff;}#sk-container-id-50 div.sk-label input.sk-toggleable__control:checked~label.sk-toggleable__label {background-color: #d4ebff;}#sk-container-id-50 input.sk-hidden--visually {border: 0;clip: rect(1px 1px 1px 1px);clip: rect(1px, 1px, 1px, 1px);height: 1px;margin: -1px;overflow: hidden;padding: 0;position: absolute;width: 1px;}#sk-container-id-50 div.sk-estimator {font-family: monospace;background-color: #f0f8ff;border: 1px dotted black;border-radius: 0.25em;box-sizing: border-box;margin-bottom: 0.5em;}#sk-container-id-50 div.sk-estimator:hover {background-color: #d4ebff;}#sk-container-id-50 div.sk-parallel-item::after {content: \"\";width: 100%;border-bottom: 1px solid gray;flex-grow: 1;}#sk-container-id-50 div.sk-label:hover label.sk-toggleable__label {background-color: #d4ebff;}#sk-container-id-50 div.sk-serial::before {content: \"\";position: absolute;border-left: 1px solid gray;box-sizing: border-box;top: 0;bottom: 0;left: 50%;z-index: 0;}#sk-container-id-50 div.sk-serial {display: flex;flex-direction: column;align-items: center;background-color: white;padding-right: 0.2em;padding-left: 0.2em;position: relative;}#sk-container-id-50 div.sk-item {position: relative;z-index: 1;}#sk-container-id-50 div.sk-parallel {display: flex;align-items: stretch;justify-content: center;background-color: white;position: relative;}#sk-container-id-50 div.sk-item::before, #sk-container-id-50 div.sk-parallel-item::before {content: \"\";position: absolute;border-left: 1px solid gray;box-sizing: border-box;top: 0;bottom: 0;left: 50%;z-index: -1;}#sk-container-id-50 div.sk-parallel-item {display: flex;flex-direction: column;z-index: 1;position: relative;background-color: white;}#sk-container-id-50 div.sk-parallel-item:first-child::after {align-self: flex-end;width: 50%;}#sk-container-id-50 div.sk-parallel-item:last-child::after {align-self: flex-start;width: 50%;}#sk-container-id-50 div.sk-parallel-item:only-child::after {width: 0;}#sk-container-id-50 div.sk-dashed-wrapped {border: 1px dashed gray;margin: 0 0.4em 0.5em 0.4em;box-sizing: border-box;padding-bottom: 0.4em;background-color: white;}#sk-container-id-50 div.sk-label label {font-family: monospace;font-weight: bold;display: inline-block;line-height: 1.2em;}#sk-container-id-50 div.sk-label-container {text-align: center;}#sk-container-id-50 div.sk-container {/* jupyter's `normalize.less` sets `[hidden] { display: none; }` but bootstrap.min.css set `[hidden] { display: none !important; }` so we also need the `!important` here to be able to override the default hidden behavior on the sphinx rendered scikit-learn.org. See: https://github.com/scikit-learn/scikit-learn/issues/21755 */display: inline-block !important;position: relative;}#sk-container-id-50 div.sk-text-repr-fallback {display: none;}</style><div id=\"sk-container-id-50\" class=\"sk-top-container\"><div class=\"sk-text-repr-fallback\"><pre>DecisionTreeClassifier(max_depth=8, min_samples_split=25)</pre><b>In a Jupyter environment, please rerun this cell to show the HTML representation or trust the notebook. <br />On GitHub, the HTML representation is unable to render, please try loading this page with nbviewer.org.</b></div><div class=\"sk-container\" hidden><div class=\"sk-item\"><div class=\"sk-estimator sk-toggleable\"><input class=\"sk-toggleable__control sk-hidden--visually\" id=\"sk-estimator-id-50\" type=\"checkbox\" checked><label for=\"sk-estimator-id-50\" class=\"sk-toggleable__label sk-toggleable__label-arrow\">DecisionTreeClassifier</label><div class=\"sk-toggleable__content\"><pre>DecisionTreeClassifier(max_depth=8, min_samples_split=25)</pre></div></div></div></div></div>"
      ],
      "text/plain": [
       "DecisionTreeClassifier(max_depth=8, min_samples_split=25)"
      ]
     },
     "execution_count": 791,
     "metadata": {},
     "output_type": "execute_result"
    }
   ],
   "source": [
    "dt.fit(train_x, train_y)"
   ]
  },
  {
   "cell_type": "code",
   "execution_count": 792,
   "id": "3813f40d",
   "metadata": {},
   "outputs": [],
   "source": [
    "pred_test = dt.predict(test_x)\n"
   ]
  },
  {
   "cell_type": "code",
   "execution_count": 793,
   "id": "4f3df007",
   "metadata": {},
   "outputs": [],
   "source": [
    "from sklearn.metrics import *"
   ]
  },
  {
   "cell_type": "code",
   "execution_count": 794,
   "id": "05e29345",
   "metadata": {},
   "outputs": [],
   "source": [
    "tab=confusion_matrix(test_y,pred_test)"
   ]
  },
  {
   "cell_type": "code",
   "execution_count": 795,
   "id": "86e79800",
   "metadata": {},
   "outputs": [
    {
     "data": {
      "text/plain": [
       "array([[  80,   12,  128],\n",
       "       [  29,   18,  185],\n",
       "       [  32,   11, 1505]], dtype=int64)"
      ]
     },
     "execution_count": 795,
     "metadata": {},
     "output_type": "execute_result"
    }
   ],
   "source": [
    "tab"
   ]
  },
  {
   "cell_type": "code",
   "execution_count": 796,
   "id": "b0e8a418",
   "metadata": {},
   "outputs": [
    {
     "data": {
      "text/plain": [
       "80.15"
      ]
     },
     "execution_count": 796,
     "metadata": {},
     "output_type": "execute_result"
    }
   ],
   "source": [
    "accuracy_tdm=accuracy_score(test_y,pred_test)*100\n",
    "accuracy_tdm"
   ]
  },
  {
   "cell_type": "code",
   "execution_count": 797,
   "id": "84d70160",
   "metadata": {},
   "outputs": [
    {
     "name": "stdout",
     "output_type": "stream",
     "text": [
      "              precision    recall  f1-score   support\n",
      "\n",
      "           1       0.57      0.36      0.44       220\n",
      "           2       0.44      0.08      0.13       232\n",
      "           3       0.83      0.97      0.89      1548\n",
      "\n",
      "    accuracy                           0.80      2000\n",
      "   macro avg       0.61      0.47      0.49      2000\n",
      "weighted avg       0.75      0.80      0.76      2000\n",
      "\n"
     ]
    }
   ],
   "source": [
    "print(classification_report(test_y,pred_test))"
   ]
  },
  {
   "cell_type": "markdown",
   "id": "d3280f4f",
   "metadata": {},
   "source": [
    "# TF-IDF"
   ]
  },
  {
   "cell_type": "markdown",
   "id": "48d025c4",
   "metadata": {},
   "source": [
    "TF-IDF ---------> TERM FREQUENCY INVERSE DOCUMENT FREQUENCY\n",
    "\n",
    "\n",
    "\n",
    "IT MAY HAPPEN THAN THE FREQUENCY OF A WORD MAY BE HIGH AND IT IS ALSO NOT A STOP WORD BUT \n",
    "\n",
    "\n",
    "\n",
    "\n",
    "STILL IT IS NOT ADDING ANY MEANING.SO FOR THESE SCENARIOS WE USE TF-IDF"
   ]
  },
  {
   "cell_type": "code",
   "execution_count": 803,
   "id": "f33108fd",
   "metadata": {},
   "outputs": [
    {
     "data": {
      "text/plain": [
       "0       [hotel, nice, quiet, know, train, track, near,...\n",
       "1       [stayed, king, suite, separation, bedroom, liv...\n",
       "2       [parking, horrible, somebody, ran, rental, car...\n",
       "3       [cheap, excellent, location, price, somewhat, ...\n",
       "4       [get, room, advertised, website, paid, may, lu...\n",
       "                              ...                        \n",
       "9995    [friends, took, trip, hampton, basslights, sho...\n",
       "9996    [check, departure, staff, friendly, profession...\n",
       "9997    [hampton, located, quiet, street, across, hosp...\n",
       "9998    [awesome, wings, favorite, garlic, parmesan, g...\n",
       "9999    [clean, facility, freeway, staff, friendly, ef...\n",
       "Name: reviews.text, Length: 10000, dtype: object"
      ]
     },
     "execution_count": 803,
     "metadata": {},
     "output_type": "execute_result"
    }
   ],
   "source": [
    "data['reviews.text'].apply(text_process)"
   ]
  },
  {
   "cell_type": "code",
   "execution_count": 804,
   "id": "80764d96",
   "metadata": {},
   "outputs": [],
   "source": [
    "from sklearn.feature_extraction.text import TfidfVectorizer"
   ]
  },
  {
   "cell_type": "code",
   "execution_count": 805,
   "id": "9e4be800",
   "metadata": {},
   "outputs": [],
   "source": [
    "tfidf=TfidfVectorizer()"
   ]
  },
  {
   "cell_type": "code",
   "execution_count": 806,
   "id": "3b5f5f3f",
   "metadata": {},
   "outputs": [],
   "source": [
    "tfidf_metrics=tfidf.fit_transform(data['reviews.text'])"
   ]
  },
  {
   "cell_type": "code",
   "execution_count": 807,
   "id": "cd8844b7",
   "metadata": {},
   "outputs": [
    {
     "data": {
      "text/plain": [
       "<10000x22112 sparse matrix of type '<class 'numpy.float64'>'\n",
       "\twith 763158 stored elements in Compressed Sparse Row format>"
      ]
     },
     "execution_count": 807,
     "metadata": {},
     "output_type": "execute_result"
    }
   ],
   "source": [
    "tfidf_metrics"
   ]
  },
  {
   "cell_type": "code",
   "execution_count": 808,
   "id": "2b6bd75c",
   "metadata": {},
   "outputs": [],
   "source": [
    "from sklearn.model_selection import train_test_split"
   ]
  },
  {
   "cell_type": "code",
   "execution_count": 809,
   "id": "41785f95",
   "metadata": {},
   "outputs": [],
   "source": [
    "train_x,test_x,train_y,test_y=train_test_split(tfidf_metrics,data['reviews.rating'],test_size=0.2)"
   ]
  },
  {
   "cell_type": "code",
   "execution_count": 810,
   "id": "bc876dd9",
   "metadata": {},
   "outputs": [],
   "source": [
    "from sklearn.tree import DecisionTreeClassifier\n",
    "dt = DecisionTreeClassifier(criterion= 'gini', max_depth= 8, min_samples_split= 25)"
   ]
  },
  {
   "cell_type": "code",
   "execution_count": 811,
   "id": "f919267f",
   "metadata": {},
   "outputs": [
    {
     "data": {
      "text/html": [
       "<style>#sk-container-id-52 {color: black;background-color: white;}#sk-container-id-52 pre{padding: 0;}#sk-container-id-52 div.sk-toggleable {background-color: white;}#sk-container-id-52 label.sk-toggleable__label {cursor: pointer;display: block;width: 100%;margin-bottom: 0;padding: 0.3em;box-sizing: border-box;text-align: center;}#sk-container-id-52 label.sk-toggleable__label-arrow:before {content: \"▸\";float: left;margin-right: 0.25em;color: #696969;}#sk-container-id-52 label.sk-toggleable__label-arrow:hover:before {color: black;}#sk-container-id-52 div.sk-estimator:hover label.sk-toggleable__label-arrow:before {color: black;}#sk-container-id-52 div.sk-toggleable__content {max-height: 0;max-width: 0;overflow: hidden;text-align: left;background-color: #f0f8ff;}#sk-container-id-52 div.sk-toggleable__content pre {margin: 0.2em;color: black;border-radius: 0.25em;background-color: #f0f8ff;}#sk-container-id-52 input.sk-toggleable__control:checked~div.sk-toggleable__content {max-height: 200px;max-width: 100%;overflow: auto;}#sk-container-id-52 input.sk-toggleable__control:checked~label.sk-toggleable__label-arrow:before {content: \"▾\";}#sk-container-id-52 div.sk-estimator input.sk-toggleable__control:checked~label.sk-toggleable__label {background-color: #d4ebff;}#sk-container-id-52 div.sk-label input.sk-toggleable__control:checked~label.sk-toggleable__label {background-color: #d4ebff;}#sk-container-id-52 input.sk-hidden--visually {border: 0;clip: rect(1px 1px 1px 1px);clip: rect(1px, 1px, 1px, 1px);height: 1px;margin: -1px;overflow: hidden;padding: 0;position: absolute;width: 1px;}#sk-container-id-52 div.sk-estimator {font-family: monospace;background-color: #f0f8ff;border: 1px dotted black;border-radius: 0.25em;box-sizing: border-box;margin-bottom: 0.5em;}#sk-container-id-52 div.sk-estimator:hover {background-color: #d4ebff;}#sk-container-id-52 div.sk-parallel-item::after {content: \"\";width: 100%;border-bottom: 1px solid gray;flex-grow: 1;}#sk-container-id-52 div.sk-label:hover label.sk-toggleable__label {background-color: #d4ebff;}#sk-container-id-52 div.sk-serial::before {content: \"\";position: absolute;border-left: 1px solid gray;box-sizing: border-box;top: 0;bottom: 0;left: 50%;z-index: 0;}#sk-container-id-52 div.sk-serial {display: flex;flex-direction: column;align-items: center;background-color: white;padding-right: 0.2em;padding-left: 0.2em;position: relative;}#sk-container-id-52 div.sk-item {position: relative;z-index: 1;}#sk-container-id-52 div.sk-parallel {display: flex;align-items: stretch;justify-content: center;background-color: white;position: relative;}#sk-container-id-52 div.sk-item::before, #sk-container-id-52 div.sk-parallel-item::before {content: \"\";position: absolute;border-left: 1px solid gray;box-sizing: border-box;top: 0;bottom: 0;left: 50%;z-index: -1;}#sk-container-id-52 div.sk-parallel-item {display: flex;flex-direction: column;z-index: 1;position: relative;background-color: white;}#sk-container-id-52 div.sk-parallel-item:first-child::after {align-self: flex-end;width: 50%;}#sk-container-id-52 div.sk-parallel-item:last-child::after {align-self: flex-start;width: 50%;}#sk-container-id-52 div.sk-parallel-item:only-child::after {width: 0;}#sk-container-id-52 div.sk-dashed-wrapped {border: 1px dashed gray;margin: 0 0.4em 0.5em 0.4em;box-sizing: border-box;padding-bottom: 0.4em;background-color: white;}#sk-container-id-52 div.sk-label label {font-family: monospace;font-weight: bold;display: inline-block;line-height: 1.2em;}#sk-container-id-52 div.sk-label-container {text-align: center;}#sk-container-id-52 div.sk-container {/* jupyter's `normalize.less` sets `[hidden] { display: none; }` but bootstrap.min.css set `[hidden] { display: none !important; }` so we also need the `!important` here to be able to override the default hidden behavior on the sphinx rendered scikit-learn.org. See: https://github.com/scikit-learn/scikit-learn/issues/21755 */display: inline-block !important;position: relative;}#sk-container-id-52 div.sk-text-repr-fallback {display: none;}</style><div id=\"sk-container-id-52\" class=\"sk-top-container\"><div class=\"sk-text-repr-fallback\"><pre>DecisionTreeClassifier(max_depth=8, min_samples_split=25)</pre><b>In a Jupyter environment, please rerun this cell to show the HTML representation or trust the notebook. <br />On GitHub, the HTML representation is unable to render, please try loading this page with nbviewer.org.</b></div><div class=\"sk-container\" hidden><div class=\"sk-item\"><div class=\"sk-estimator sk-toggleable\"><input class=\"sk-toggleable__control sk-hidden--visually\" id=\"sk-estimator-id-52\" type=\"checkbox\" checked><label for=\"sk-estimator-id-52\" class=\"sk-toggleable__label sk-toggleable__label-arrow\">DecisionTreeClassifier</label><div class=\"sk-toggleable__content\"><pre>DecisionTreeClassifier(max_depth=8, min_samples_split=25)</pre></div></div></div></div></div>"
      ],
      "text/plain": [
       "DecisionTreeClassifier(max_depth=8, min_samples_split=25)"
      ]
     },
     "execution_count": 811,
     "metadata": {},
     "output_type": "execute_result"
    }
   ],
   "source": [
    "dt.fit(train_x,train_y)"
   ]
  },
  {
   "cell_type": "code",
   "execution_count": 812,
   "id": "c22ec307",
   "metadata": {},
   "outputs": [],
   "source": [
    "pred_test=dt.predict(test_x)"
   ]
  },
  {
   "cell_type": "code",
   "execution_count": 813,
   "id": "9bc164b1",
   "metadata": {},
   "outputs": [],
   "source": [
    "from sklearn.metrics import *"
   ]
  },
  {
   "cell_type": "code",
   "execution_count": 814,
   "id": "3e2a826d",
   "metadata": {},
   "outputs": [
    {
     "data": {
      "text/plain": [
       "array([[  51,   17,  154],\n",
       "       [  23,   18,  184],\n",
       "       [  13,   24, 1516]], dtype=int64)"
      ]
     },
     "execution_count": 814,
     "metadata": {},
     "output_type": "execute_result"
    }
   ],
   "source": [
    "tab=confusion_matrix(test_y,pred_test)\n",
    "tab"
   ]
  },
  {
   "cell_type": "code",
   "execution_count": 815,
   "id": "80119864",
   "metadata": {},
   "outputs": [
    {
     "data": {
      "text/plain": [
       "79.25"
      ]
     },
     "execution_count": 815,
     "metadata": {},
     "output_type": "execute_result"
    }
   ],
   "source": [
    "accuracy_tf_idf=accuracy_score(test_y,pred_test)*100\n",
    "accuracy_tf_idf"
   ]
  },
  {
   "cell_type": "code",
   "execution_count": 816,
   "id": "537727f7",
   "metadata": {},
   "outputs": [
    {
     "name": "stdout",
     "output_type": "stream",
     "text": [
      "              precision    recall  f1-score   support\n",
      "\n",
      "           1       0.59      0.23      0.33       222\n",
      "           2       0.31      0.08      0.13       225\n",
      "           3       0.82      0.98      0.89      1553\n",
      "\n",
      "    accuracy                           0.79      2000\n",
      "   macro avg       0.57      0.43      0.45      2000\n",
      "weighted avg       0.73      0.79      0.74      2000\n",
      "\n"
     ]
    }
   ],
   "source": [
    "print(classification_report(test_y,pred_test))"
   ]
  },
  {
   "cell_type": "markdown",
   "id": "4e3c635c",
   "metadata": {},
   "source": [
    "SO TF-IDF and TDM are giving same results\n",
    "\n",
    "\n",
    "\n",
    "accuracy_tdm= 80.15%\n",
    "\n",
    "\n",
    "\n",
    "\n",
    "accuracy_tf_idf= 79.25%\n"
   ]
  },
  {
   "cell_type": "markdown",
   "id": "90fe91b2",
   "metadata": {},
   "source": [
    "# NAIVE BAYES"
   ]
  },
  {
   "cell_type": "code",
   "execution_count": 379,
   "id": "ada9e523",
   "metadata": {},
   "outputs": [
    {
     "data": {
      "text/plain": [
       "0       [hotel, nice, quiet, know, train, track, near,...\n",
       "1       [stayed, king, suite, separation, bedroom, liv...\n",
       "2       [parking, horrible, somebody, ran, rental, car...\n",
       "3       [cheap, excellent, location, price, somewhat, ...\n",
       "4       [get, room, advertised, website, paid, may, lu...\n",
       "                              ...                        \n",
       "9995    [friends, took, trip, hampton, basslights, sho...\n",
       "9996    [check, departure, staff, friendly, profession...\n",
       "9997    [hampton, located, quiet, street, across, hosp...\n",
       "9998    [awesome, wings, favorite, garlic, parmesan, g...\n",
       "9999    [clean, facility, freeway, staff, friendly, ef...\n",
       "Name: reviews.text, Length: 10000, dtype: object"
      ]
     },
     "execution_count": 379,
     "metadata": {},
     "output_type": "execute_result"
    }
   ],
   "source": [
    "data['reviews.text'].apply(text_process)"
   ]
  },
  {
   "cell_type": "code",
   "execution_count": 380,
   "id": "be76f17f",
   "metadata": {},
   "outputs": [],
   "source": [
    "from sklearn.feature_extraction.text import CountVectorizer"
   ]
  },
  {
   "cell_type": "code",
   "execution_count": 381,
   "id": "b07c0a09",
   "metadata": {},
   "outputs": [],
   "source": [
    "bow=CountVectorizer(analyzer=text_process).fit(data['reviews.text'])"
   ]
  },
  {
   "cell_type": "code",
   "execution_count": 382,
   "id": "8e707841",
   "metadata": {},
   "outputs": [],
   "source": [
    "\n",
    "tdm=bow.transform(data['reviews.text'])"
   ]
  },
  {
   "cell_type": "code",
   "execution_count": 383,
   "id": "a573fec5",
   "metadata": {},
   "outputs": [],
   "source": [
    "from sklearn.model_selection import train_test_split"
   ]
  },
  {
   "cell_type": "code",
   "execution_count": 384,
   "id": "40488762",
   "metadata": {},
   "outputs": [],
   "source": [
    "train_x,test_x,train_y,test_y=train_test_split(tdm,data['reviews.rating'],test_size=0.2)"
   ]
  },
  {
   "cell_type": "code",
   "execution_count": 427,
   "id": "a809b25b",
   "metadata": {},
   "outputs": [],
   "source": [
    "from sklearn.naive_bayes import MultinomialNB\n",
    "ml=MultinomialNB(alpha=0.9)"
   ]
  },
  {
   "cell_type": "code",
   "execution_count": 428,
   "id": "8438b64c",
   "metadata": {},
   "outputs": [
    {
     "data": {
      "text/html": [
       "<style>#sk-container-id-12 {color: black;background-color: white;}#sk-container-id-12 pre{padding: 0;}#sk-container-id-12 div.sk-toggleable {background-color: white;}#sk-container-id-12 label.sk-toggleable__label {cursor: pointer;display: block;width: 100%;margin-bottom: 0;padding: 0.3em;box-sizing: border-box;text-align: center;}#sk-container-id-12 label.sk-toggleable__label-arrow:before {content: \"▸\";float: left;margin-right: 0.25em;color: #696969;}#sk-container-id-12 label.sk-toggleable__label-arrow:hover:before {color: black;}#sk-container-id-12 div.sk-estimator:hover label.sk-toggleable__label-arrow:before {color: black;}#sk-container-id-12 div.sk-toggleable__content {max-height: 0;max-width: 0;overflow: hidden;text-align: left;background-color: #f0f8ff;}#sk-container-id-12 div.sk-toggleable__content pre {margin: 0.2em;color: black;border-radius: 0.25em;background-color: #f0f8ff;}#sk-container-id-12 input.sk-toggleable__control:checked~div.sk-toggleable__content {max-height: 200px;max-width: 100%;overflow: auto;}#sk-container-id-12 input.sk-toggleable__control:checked~label.sk-toggleable__label-arrow:before {content: \"▾\";}#sk-container-id-12 div.sk-estimator input.sk-toggleable__control:checked~label.sk-toggleable__label {background-color: #d4ebff;}#sk-container-id-12 div.sk-label input.sk-toggleable__control:checked~label.sk-toggleable__label {background-color: #d4ebff;}#sk-container-id-12 input.sk-hidden--visually {border: 0;clip: rect(1px 1px 1px 1px);clip: rect(1px, 1px, 1px, 1px);height: 1px;margin: -1px;overflow: hidden;padding: 0;position: absolute;width: 1px;}#sk-container-id-12 div.sk-estimator {font-family: monospace;background-color: #f0f8ff;border: 1px dotted black;border-radius: 0.25em;box-sizing: border-box;margin-bottom: 0.5em;}#sk-container-id-12 div.sk-estimator:hover {background-color: #d4ebff;}#sk-container-id-12 div.sk-parallel-item::after {content: \"\";width: 100%;border-bottom: 1px solid gray;flex-grow: 1;}#sk-container-id-12 div.sk-label:hover label.sk-toggleable__label {background-color: #d4ebff;}#sk-container-id-12 div.sk-serial::before {content: \"\";position: absolute;border-left: 1px solid gray;box-sizing: border-box;top: 0;bottom: 0;left: 50%;z-index: 0;}#sk-container-id-12 div.sk-serial {display: flex;flex-direction: column;align-items: center;background-color: white;padding-right: 0.2em;padding-left: 0.2em;position: relative;}#sk-container-id-12 div.sk-item {position: relative;z-index: 1;}#sk-container-id-12 div.sk-parallel {display: flex;align-items: stretch;justify-content: center;background-color: white;position: relative;}#sk-container-id-12 div.sk-item::before, #sk-container-id-12 div.sk-parallel-item::before {content: \"\";position: absolute;border-left: 1px solid gray;box-sizing: border-box;top: 0;bottom: 0;left: 50%;z-index: -1;}#sk-container-id-12 div.sk-parallel-item {display: flex;flex-direction: column;z-index: 1;position: relative;background-color: white;}#sk-container-id-12 div.sk-parallel-item:first-child::after {align-self: flex-end;width: 50%;}#sk-container-id-12 div.sk-parallel-item:last-child::after {align-self: flex-start;width: 50%;}#sk-container-id-12 div.sk-parallel-item:only-child::after {width: 0;}#sk-container-id-12 div.sk-dashed-wrapped {border: 1px dashed gray;margin: 0 0.4em 0.5em 0.4em;box-sizing: border-box;padding-bottom: 0.4em;background-color: white;}#sk-container-id-12 div.sk-label label {font-family: monospace;font-weight: bold;display: inline-block;line-height: 1.2em;}#sk-container-id-12 div.sk-label-container {text-align: center;}#sk-container-id-12 div.sk-container {/* jupyter's `normalize.less` sets `[hidden] { display: none; }` but bootstrap.min.css set `[hidden] { display: none !important; }` so we also need the `!important` here to be able to override the default hidden behavior on the sphinx rendered scikit-learn.org. See: https://github.com/scikit-learn/scikit-learn/issues/21755 */display: inline-block !important;position: relative;}#sk-container-id-12 div.sk-text-repr-fallback {display: none;}</style><div id=\"sk-container-id-12\" class=\"sk-top-container\"><div class=\"sk-text-repr-fallback\"><pre>MultinomialNB(alpha=0.9)</pre><b>In a Jupyter environment, please rerun this cell to show the HTML representation or trust the notebook. <br />On GitHub, the HTML representation is unable to render, please try loading this page with nbviewer.org.</b></div><div class=\"sk-container\" hidden><div class=\"sk-item\"><div class=\"sk-estimator sk-toggleable\"><input class=\"sk-toggleable__control sk-hidden--visually\" id=\"sk-estimator-id-12\" type=\"checkbox\" checked><label for=\"sk-estimator-id-12\" class=\"sk-toggleable__label sk-toggleable__label-arrow\">MultinomialNB</label><div class=\"sk-toggleable__content\"><pre>MultinomialNB(alpha=0.9)</pre></div></div></div></div></div>"
      ],
      "text/plain": [
       "MultinomialNB(alpha=0.9)"
      ]
     },
     "execution_count": 428,
     "metadata": {},
     "output_type": "execute_result"
    }
   ],
   "source": [
    "ml.fit(train_x,train_y)"
   ]
  },
  {
   "cell_type": "code",
   "execution_count": 419,
   "id": "55f517f3",
   "metadata": {},
   "outputs": [],
   "source": [
    "pred_test=ml.predict(train_x)"
   ]
  },
  {
   "cell_type": "code",
   "execution_count": 420,
   "id": "5c01d123",
   "metadata": {},
   "outputs": [],
   "source": [
    "from sklearn.metrics import *\n"
   ]
  },
  {
   "cell_type": "code",
   "execution_count": 397,
   "id": "99a82f9c",
   "metadata": {},
   "outputs": [
    {
     "data": {
      "text/plain": [
       "array([[ 785,   15,  109],\n",
       "       [  37,  491,  402],\n",
       "       [  46,   32, 6083]], dtype=int64)"
      ]
     },
     "execution_count": 397,
     "metadata": {},
     "output_type": "execute_result"
    }
   ],
   "source": [
    "tab=confusion_matrix(train_y,pred_test)\n",
    "tab"
   ]
  },
  {
   "cell_type": "code",
   "execution_count": 402,
   "id": "1f9f1ffe",
   "metadata": {},
   "outputs": [
    {
     "data": {
      "text/plain": [
       "91.9875"
      ]
     },
     "execution_count": 402,
     "metadata": {},
     "output_type": "execute_result"
    }
   ],
   "source": [
    "accuracy_Naiye_Bayes_train=accuracy_score(train_y,pred_test)*100\n",
    "accuracy_Naiye_Bayes_train"
   ]
  },
  {
   "cell_type": "code",
   "execution_count": 401,
   "id": "21cd9ff2",
   "metadata": {},
   "outputs": [
    {
     "name": "stdout",
     "output_type": "stream",
     "text": [
      "              precision    recall  f1-score   support\n",
      "\n",
      "           1       0.90      0.86      0.88       909\n",
      "           2       0.91      0.53      0.67       930\n",
      "           3       0.92      0.99      0.95      6161\n",
      "\n",
      "    accuracy                           0.92      8000\n",
      "   macro avg       0.91      0.79      0.84      8000\n",
      "weighted avg       0.92      0.92      0.91      8000\n",
      "\n"
     ]
    }
   ],
   "source": [
    "print(classification_report(train_y,pred_test))"
   ]
  },
  {
   "cell_type": "code",
   "execution_count": 429,
   "id": "20501349",
   "metadata": {},
   "outputs": [],
   "source": [
    "pred_test=ml.predict(test_x)"
   ]
  },
  {
   "cell_type": "code",
   "execution_count": 430,
   "id": "7bcf45cf",
   "metadata": {},
   "outputs": [],
   "source": [
    "from sklearn.metrics import *\n"
   ]
  },
  {
   "cell_type": "code",
   "execution_count": 431,
   "id": "18e007fb",
   "metadata": {},
   "outputs": [
    {
     "data": {
      "text/plain": [
       "array([[ 156,   21,   35],\n",
       "       [  36,   57,  167],\n",
       "       [  18,   24, 1486]], dtype=int64)"
      ]
     },
     "execution_count": 431,
     "metadata": {},
     "output_type": "execute_result"
    }
   ],
   "source": [
    "tab=confusion_matrix(test_y,pred_test)\n",
    "tab"
   ]
  },
  {
   "cell_type": "code",
   "execution_count": 432,
   "id": "1bbdf8a0",
   "metadata": {},
   "outputs": [
    {
     "data": {
      "text/plain": [
       "84.95"
      ]
     },
     "execution_count": 432,
     "metadata": {},
     "output_type": "execute_result"
    }
   ],
   "source": [
    "accuracy_Naiye_Bayes=accuracy_score(test_y,pred_test)*100\n",
    "accuracy_Naiye_Bayes"
   ]
  },
  {
   "cell_type": "code",
   "execution_count": 433,
   "id": "c6595854",
   "metadata": {},
   "outputs": [
    {
     "name": "stdout",
     "output_type": "stream",
     "text": [
      "              precision    recall  f1-score   support\n",
      "\n",
      "           1       0.74      0.74      0.74       212\n",
      "           2       0.56      0.22      0.31       260\n",
      "           3       0.88      0.97      0.92      1528\n",
      "\n",
      "    accuracy                           0.85      2000\n",
      "   macro avg       0.73      0.64      0.66      2000\n",
      "weighted avg       0.82      0.85      0.83      2000\n",
      "\n"
     ]
    }
   ],
   "source": [
    "print(classification_report(test_y,pred_test))"
   ]
  },
  {
   "cell_type": "markdown",
   "id": "b007b501",
   "metadata": {},
   "source": [
    "SO IN BETWEEN Logistic AND NAIYE BAYES , NAIYE BAYES IS GIVING BETTER RESULTS"
   ]
  },
  {
   "cell_type": "markdown",
   "id": "e30979e1",
   "metadata": {},
   "source": [
    "accuracy_tdm= 80.15%\n",
    "\n",
    "\n",
    "\n",
    "\n",
    "accuracy_tf_idf= 79.25%\n",
    "\n",
    "\n",
    "\n",
    "\n",
    "\n",
    "\n",
    "accuracy_Naiye_Bayes=85%"
   ]
  },
  {
   "cell_type": "markdown",
   "id": "be7f5cb1",
   "metadata": {},
   "source": [
    "# LSTM"
   ]
  },
  {
   "cell_type": "code",
   "execution_count": 21,
   "id": "7a61dc18",
   "metadata": {},
   "outputs": [],
   "source": [
    "import numpy as np\n",
    "import pandas as pd\n",
    "from tensorflow.keras.preprocessing.text import Tokenizer\n",
    "from tensorflow.keras.utils import to_categorical\n",
    "from tensorflow.keras.preprocessing.sequence import pad_sequences\n",
    "from tensorflow.keras.models import Sequential\n",
    "from tensorflow.keras.layers import Embedding, LSTM, Dense"
   ]
  },
  {
   "cell_type": "code",
   "execution_count": 894,
   "id": "e04a9ec0",
   "metadata": {},
   "outputs": [
    {
     "data": {
      "text/html": [
       "<div>\n",
       "<style scoped>\n",
       "    .dataframe tbody tr th:only-of-type {\n",
       "        vertical-align: middle;\n",
       "    }\n",
       "\n",
       "    .dataframe tbody tr th {\n",
       "        vertical-align: top;\n",
       "    }\n",
       "\n",
       "    .dataframe thead th {\n",
       "        text-align: right;\n",
       "    }\n",
       "</style>\n",
       "<table border=\"1\" class=\"dataframe\">\n",
       "  <thead>\n",
       "    <tr style=\"text-align: right;\">\n",
       "      <th></th>\n",
       "      <th>id</th>\n",
       "      <th>dateAdded</th>\n",
       "      <th>dateUpdated</th>\n",
       "      <th>address</th>\n",
       "      <th>categories</th>\n",
       "      <th>primaryCategories</th>\n",
       "      <th>city</th>\n",
       "      <th>country</th>\n",
       "      <th>keys</th>\n",
       "      <th>latitude</th>\n",
       "      <th>...</th>\n",
       "      <th>reviews.dateSeen</th>\n",
       "      <th>reviews.rating</th>\n",
       "      <th>reviews.sourceURLs</th>\n",
       "      <th>reviews.text</th>\n",
       "      <th>reviews.title</th>\n",
       "      <th>reviews.userCity</th>\n",
       "      <th>reviews.userProvince</th>\n",
       "      <th>reviews.username</th>\n",
       "      <th>sourceURLs</th>\n",
       "      <th>websites</th>\n",
       "    </tr>\n",
       "  </thead>\n",
       "  <tbody>\n",
       "    <tr>\n",
       "      <th>0</th>\n",
       "      <td>AWE2FvX5RxPSIh2RscTK</td>\n",
       "      <td>2018-01-18T18:43:12Z</td>\n",
       "      <td>2019-05-20T23:55:47Z</td>\n",
       "      <td>5620 Calle Real</td>\n",
       "      <td>Hotels,Hotels and motels,Hotel and motel mgmt....</td>\n",
       "      <td>Accommodation &amp; Food Services</td>\n",
       "      <td>Goleta</td>\n",
       "      <td>US</td>\n",
       "      <td>us/ca/goleta/5620callereal/-1127060008</td>\n",
       "      <td>34.44178</td>\n",
       "      <td>...</td>\n",
       "      <td>2018-01-03T00:00:00Z</td>\n",
       "      <td>3</td>\n",
       "      <td>https://www.tripadvisor.com/Hotel_Review-g3243...</td>\n",
       "      <td>This hotel was nice and quiet. Did not know, t...</td>\n",
       "      <td>Best Western Plus Hotel</td>\n",
       "      <td>San Jose</td>\n",
       "      <td>UnitedStates</td>\n",
       "      <td>tatsurok2018</td>\n",
       "      <td>https://www.tripadvisor.com/Hotel_Review-g3243...</td>\n",
       "      <td>https://www.bestwestern.com/en_US/book/hotel-r...</td>\n",
       "    </tr>\n",
       "    <tr>\n",
       "      <th>1</th>\n",
       "      <td>AVwcj_OhkufWRAb5wi9T</td>\n",
       "      <td>2016-11-06T20:21:05Z</td>\n",
       "      <td>2019-05-20T23:31:56Z</td>\n",
       "      <td>5th And San Carlos PO Box 3574</td>\n",
       "      <td>Hotels,Lodging,Hotel</td>\n",
       "      <td>Accommodation &amp; Food Services</td>\n",
       "      <td>Carmel by the Sea</td>\n",
       "      <td>US</td>\n",
       "      <td>us/ca/carmelbythesea/5thandsancarlospobox3574/...</td>\n",
       "      <td>36.55722</td>\n",
       "      <td>...</td>\n",
       "      <td>2016-10-09T00:00:00Z</td>\n",
       "      <td>4</td>\n",
       "      <td>https://www.tripadvisor.com/Hotel_Review-g3217...</td>\n",
       "      <td>We stayed in the king suite with the separatio...</td>\n",
       "      <td>Clean rooms at solid rates in the heart of Carmel</td>\n",
       "      <td>San Francisco</td>\n",
       "      <td>CA</td>\n",
       "      <td>STEPHEN N</td>\n",
       "      <td>http://www.tripadvisor.com/Hotel_Review-g32172...</td>\n",
       "      <td>http://www.bestwestern.com</td>\n",
       "    </tr>\n",
       "    <tr>\n",
       "      <th>2</th>\n",
       "      <td>AVwcj_OhkufWRAb5wi9T</td>\n",
       "      <td>2016-11-06T20:21:05Z</td>\n",
       "      <td>2019-05-20T23:31:56Z</td>\n",
       "      <td>5th And San Carlos PO Box 3574</td>\n",
       "      <td>Hotels,Lodging,Hotel</td>\n",
       "      <td>Accommodation &amp; Food Services</td>\n",
       "      <td>Carmel by the Sea</td>\n",
       "      <td>US</td>\n",
       "      <td>us/ca/carmelbythesea/5thandsancarlospobox3574/...</td>\n",
       "      <td>36.55722</td>\n",
       "      <td>...</td>\n",
       "      <td>2016-10-09T00:00:00Z</td>\n",
       "      <td>3</td>\n",
       "      <td>https://www.tripadvisor.com/Hotel_Review-g3217...</td>\n",
       "      <td>Parking was horrible, somebody ran into my ren...</td>\n",
       "      <td>Business</td>\n",
       "      <td>Prescott Valley</td>\n",
       "      <td>AZ</td>\n",
       "      <td>15Deborah</td>\n",
       "      <td>http://www.tripadvisor.com/Hotel_Review-g32172...</td>\n",
       "      <td>http://www.bestwestern.com</td>\n",
       "    </tr>\n",
       "    <tr>\n",
       "      <th>3</th>\n",
       "      <td>AVwcj_OhkufWRAb5wi9T</td>\n",
       "      <td>2016-11-06T20:21:05Z</td>\n",
       "      <td>2019-05-20T23:31:56Z</td>\n",
       "      <td>5th And San Carlos PO Box 3574</td>\n",
       "      <td>Hotels,Lodging,Hotel</td>\n",
       "      <td>Accommodation &amp; Food Services</td>\n",
       "      <td>Carmel by the Sea</td>\n",
       "      <td>US</td>\n",
       "      <td>us/ca/carmelbythesea/5thandsancarlospobox3574/...</td>\n",
       "      <td>36.55722</td>\n",
       "      <td>...</td>\n",
       "      <td>2016-10-31T00:00:00Z</td>\n",
       "      <td>5</td>\n",
       "      <td>https://www.tripadvisor.com/Hotel_Review-g3217...</td>\n",
       "      <td>Not cheap but excellent location. Price is som...</td>\n",
       "      <td>Very good</td>\n",
       "      <td>Guaynabo</td>\n",
       "      <td>PR</td>\n",
       "      <td>Wilfredo M</td>\n",
       "      <td>http://www.tripadvisor.com/Hotel_Review-g32172...</td>\n",
       "      <td>http://www.bestwestern.com</td>\n",
       "    </tr>\n",
       "    <tr>\n",
       "      <th>4</th>\n",
       "      <td>AVwcj_OhkufWRAb5wi9T</td>\n",
       "      <td>2016-11-06T20:21:05Z</td>\n",
       "      <td>2019-05-20T23:31:56Z</td>\n",
       "      <td>5th And San Carlos PO Box 3574</td>\n",
       "      <td>Hotels,Lodging,Hotel</td>\n",
       "      <td>Accommodation &amp; Food Services</td>\n",
       "      <td>Carmel by the Sea</td>\n",
       "      <td>US</td>\n",
       "      <td>us/ca/carmelbythesea/5thandsancarlospobox3574/...</td>\n",
       "      <td>36.55722</td>\n",
       "      <td>...</td>\n",
       "      <td>2016-10-09T00:00:00Z,2016-03-27T00:00:00Z</td>\n",
       "      <td>2</td>\n",
       "      <td>https://www.tripadvisor.com/Hotel_Review-g3217...</td>\n",
       "      <td>If you get the room that they advertised on th...</td>\n",
       "      <td>Low chance to come back here</td>\n",
       "      <td>Reno</td>\n",
       "      <td>NV</td>\n",
       "      <td>Luc D</td>\n",
       "      <td>http://www.tripadvisor.com/Hotel_Review-g32172...</td>\n",
       "      <td>http://www.bestwestern.com</td>\n",
       "    </tr>\n",
       "  </tbody>\n",
       "</table>\n",
       "<p>5 rows × 26 columns</p>\n",
       "</div>"
      ],
      "text/plain": [
       "                     id             dateAdded           dateUpdated  \\\n",
       "0  AWE2FvX5RxPSIh2RscTK  2018-01-18T18:43:12Z  2019-05-20T23:55:47Z   \n",
       "1  AVwcj_OhkufWRAb5wi9T  2016-11-06T20:21:05Z  2019-05-20T23:31:56Z   \n",
       "2  AVwcj_OhkufWRAb5wi9T  2016-11-06T20:21:05Z  2019-05-20T23:31:56Z   \n",
       "3  AVwcj_OhkufWRAb5wi9T  2016-11-06T20:21:05Z  2019-05-20T23:31:56Z   \n",
       "4  AVwcj_OhkufWRAb5wi9T  2016-11-06T20:21:05Z  2019-05-20T23:31:56Z   \n",
       "\n",
       "                          address  \\\n",
       "0                 5620 Calle Real   \n",
       "1  5th And San Carlos PO Box 3574   \n",
       "2  5th And San Carlos PO Box 3574   \n",
       "3  5th And San Carlos PO Box 3574   \n",
       "4  5th And San Carlos PO Box 3574   \n",
       "\n",
       "                                          categories  \\\n",
       "0  Hotels,Hotels and motels,Hotel and motel mgmt....   \n",
       "1                               Hotels,Lodging,Hotel   \n",
       "2                               Hotels,Lodging,Hotel   \n",
       "3                               Hotels,Lodging,Hotel   \n",
       "4                               Hotels,Lodging,Hotel   \n",
       "\n",
       "               primaryCategories               city country  \\\n",
       "0  Accommodation & Food Services             Goleta      US   \n",
       "1  Accommodation & Food Services  Carmel by the Sea      US   \n",
       "2  Accommodation & Food Services  Carmel by the Sea      US   \n",
       "3  Accommodation & Food Services  Carmel by the Sea      US   \n",
       "4  Accommodation & Food Services  Carmel by the Sea      US   \n",
       "\n",
       "                                                keys  latitude  ...  \\\n",
       "0             us/ca/goleta/5620callereal/-1127060008  34.44178  ...   \n",
       "1  us/ca/carmelbythesea/5thandsancarlospobox3574/...  36.55722  ...   \n",
       "2  us/ca/carmelbythesea/5thandsancarlospobox3574/...  36.55722  ...   \n",
       "3  us/ca/carmelbythesea/5thandsancarlospobox3574/...  36.55722  ...   \n",
       "4  us/ca/carmelbythesea/5thandsancarlospobox3574/...  36.55722  ...   \n",
       "\n",
       "                            reviews.dateSeen reviews.rating  \\\n",
       "0                       2018-01-03T00:00:00Z              3   \n",
       "1                       2016-10-09T00:00:00Z              4   \n",
       "2                       2016-10-09T00:00:00Z              3   \n",
       "3                       2016-10-31T00:00:00Z              5   \n",
       "4  2016-10-09T00:00:00Z,2016-03-27T00:00:00Z              2   \n",
       "\n",
       "                                  reviews.sourceURLs  \\\n",
       "0  https://www.tripadvisor.com/Hotel_Review-g3243...   \n",
       "1  https://www.tripadvisor.com/Hotel_Review-g3217...   \n",
       "2  https://www.tripadvisor.com/Hotel_Review-g3217...   \n",
       "3  https://www.tripadvisor.com/Hotel_Review-g3217...   \n",
       "4  https://www.tripadvisor.com/Hotel_Review-g3217...   \n",
       "\n",
       "                                        reviews.text  \\\n",
       "0  This hotel was nice and quiet. Did not know, t...   \n",
       "1  We stayed in the king suite with the separatio...   \n",
       "2  Parking was horrible, somebody ran into my ren...   \n",
       "3  Not cheap but excellent location. Price is som...   \n",
       "4  If you get the room that they advertised on th...   \n",
       "\n",
       "                                       reviews.title  reviews.userCity  \\\n",
       "0                            Best Western Plus Hotel          San Jose   \n",
       "1  Clean rooms at solid rates in the heart of Carmel     San Francisco   \n",
       "2                                           Business   Prescott Valley   \n",
       "3                                          Very good          Guaynabo   \n",
       "4                       Low chance to come back here              Reno   \n",
       "\n",
       "  reviews.userProvince  reviews.username  \\\n",
       "0         UnitedStates      tatsurok2018   \n",
       "1                   CA         STEPHEN N   \n",
       "2                   AZ         15Deborah   \n",
       "3                   PR        Wilfredo M   \n",
       "4                   NV             Luc D   \n",
       "\n",
       "                                          sourceURLs  \\\n",
       "0  https://www.tripadvisor.com/Hotel_Review-g3243...   \n",
       "1  http://www.tripadvisor.com/Hotel_Review-g32172...   \n",
       "2  http://www.tripadvisor.com/Hotel_Review-g32172...   \n",
       "3  http://www.tripadvisor.com/Hotel_Review-g32172...   \n",
       "4  http://www.tripadvisor.com/Hotel_Review-g32172...   \n",
       "\n",
       "                                            websites  \n",
       "0  https://www.bestwestern.com/en_US/book/hotel-r...  \n",
       "1                         http://www.bestwestern.com  \n",
       "2                         http://www.bestwestern.com  \n",
       "3                         http://www.bestwestern.com  \n",
       "4                         http://www.bestwestern.com  \n",
       "\n",
       "[5 rows x 26 columns]"
      ]
     },
     "execution_count": 894,
     "metadata": {},
     "output_type": "execute_result"
    }
   ],
   "source": [
    "data=pd.read_csv(r\"C:\\Users\\PRANAV\\Downloads\\archive (16)\\Datafiniti_Hotel_Reviews_Jun19.csv\")\n",
    "data.head()"
   ]
  },
  {
   "cell_type": "code",
   "execution_count": 16,
   "id": "5e14a080",
   "metadata": {},
   "outputs": [
    {
     "data": {
      "text/html": [
       "<div>\n",
       "<style scoped>\n",
       "    .dataframe tbody tr th:only-of-type {\n",
       "        vertical-align: middle;\n",
       "    }\n",
       "\n",
       "    .dataframe tbody tr th {\n",
       "        vertical-align: top;\n",
       "    }\n",
       "\n",
       "    .dataframe thead th {\n",
       "        text-align: right;\n",
       "    }\n",
       "</style>\n",
       "<table border=\"1\" class=\"dataframe\">\n",
       "  <thead>\n",
       "    <tr style=\"text-align: right;\">\n",
       "      <th></th>\n",
       "      <th>reviews.rating</th>\n",
       "      <th>reviews.text</th>\n",
       "    </tr>\n",
       "  </thead>\n",
       "  <tbody>\n",
       "    <tr>\n",
       "      <th>0</th>\n",
       "      <td>3</td>\n",
       "      <td>this hotel was nice and quiet. did not know, t...</td>\n",
       "    </tr>\n",
       "    <tr>\n",
       "      <th>1</th>\n",
       "      <td>4</td>\n",
       "      <td>we stayed in the king suite with the separatio...</td>\n",
       "    </tr>\n",
       "    <tr>\n",
       "      <th>2</th>\n",
       "      <td>3</td>\n",
       "      <td>parking was horrible, somebody ran into my ren...</td>\n",
       "    </tr>\n",
       "    <tr>\n",
       "      <th>3</th>\n",
       "      <td>5</td>\n",
       "      <td>not cheap but excellent location. price is som...</td>\n",
       "    </tr>\n",
       "    <tr>\n",
       "      <th>4</th>\n",
       "      <td>2</td>\n",
       "      <td>if you get the room that they advertised on th...</td>\n",
       "    </tr>\n",
       "    <tr>\n",
       "      <th>...</th>\n",
       "      <td>...</td>\n",
       "      <td>...</td>\n",
       "    </tr>\n",
       "    <tr>\n",
       "      <th>9995</th>\n",
       "      <td>4</td>\n",
       "      <td>my friends and i took a trip to hampton for th...</td>\n",
       "    </tr>\n",
       "    <tr>\n",
       "      <th>9996</th>\n",
       "      <td>5</td>\n",
       "      <td>from check in to departure, staff is friendly,...</td>\n",
       "    </tr>\n",
       "    <tr>\n",
       "      <th>9997</th>\n",
       "      <td>5</td>\n",
       "      <td>this hampton is located on a quiet street acro...</td>\n",
       "    </tr>\n",
       "    <tr>\n",
       "      <th>9998</th>\n",
       "      <td>5</td>\n",
       "      <td>awesome wings (my favorite was garlic parmesan...</td>\n",
       "    </tr>\n",
       "    <tr>\n",
       "      <th>9999</th>\n",
       "      <td>4</td>\n",
       "      <td>clean facility just off freeway ..... staff fr...</td>\n",
       "    </tr>\n",
       "  </tbody>\n",
       "</table>\n",
       "<p>10000 rows × 2 columns</p>\n",
       "</div>"
      ],
      "text/plain": [
       "      reviews.rating                                       reviews.text\n",
       "0                  3  this hotel was nice and quiet. did not know, t...\n",
       "1                  4  we stayed in the king suite with the separatio...\n",
       "2                  3  parking was horrible, somebody ran into my ren...\n",
       "3                  5  not cheap but excellent location. price is som...\n",
       "4                  2  if you get the room that they advertised on th...\n",
       "...              ...                                                ...\n",
       "9995               4  my friends and i took a trip to hampton for th...\n",
       "9996               5  from check in to departure, staff is friendly,...\n",
       "9997               5  this hampton is located on a quiet street acro...\n",
       "9998               5  awesome wings (my favorite was garlic parmesan...\n",
       "9999               4  clean facility just off freeway ..... staff fr...\n",
       "\n",
       "[10000 rows x 2 columns]"
      ]
     },
     "execution_count": 16,
     "metadata": {},
     "output_type": "execute_result"
    }
   ],
   "source": [
    "data=data.loc[::,['reviews.rating','reviews.text']]\n",
    "data"
   ]
  },
  {
   "cell_type": "code",
   "execution_count": 17,
   "id": "efe39a02",
   "metadata": {},
   "outputs": [
    {
     "data": {
      "text/plain": [
       "0       [hotel, nice, quiet, know, train, track, near,...\n",
       "1       [stayed, king, suite, separation, bedroom, liv...\n",
       "2       [parking, horrible, somebody, ran, rental, car...\n",
       "3       [cheap, excellent, location, price, somewhat, ...\n",
       "4       [get, room, advertised, website, paid, may, lu...\n",
       "                              ...                        \n",
       "9995    [friends, took, trip, hampton, basslights, sho...\n",
       "9996    [check, departure, staff, friendly, profession...\n",
       "9997    [hampton, located, quiet, street, across, hosp...\n",
       "9998    [awesome, wings, favorite, garlic, parmesan, g...\n",
       "9999    [clean, facility, freeway, staff, friendly, ef...\n",
       "Name: reviews.text, Length: 10000, dtype: object"
      ]
     },
     "execution_count": 17,
     "metadata": {},
     "output_type": "execute_result"
    }
   ],
   "source": [
    "data['reviews.text'].apply(text_process)"
   ]
  },
  {
   "cell_type": "code",
   "execution_count": 18,
   "id": "096d814b",
   "metadata": {},
   "outputs": [],
   "source": [
    "data['reviews.rating'].replace({1:0,2:0,3:1,4:2,5:2},inplace=True) "
   ]
  },
  {
   "cell_type": "code",
   "execution_count": 19,
   "id": "47d1c8d3",
   "metadata": {},
   "outputs": [],
   "source": [
    "data_x=data.iloc[:,1]\n",
    "data_y=data.iloc[:,0]\n",
    "from sklearn.model_selection import train_test_split\n",
    "x_train,x_test,y_train,y_test=train_test_split(data_x,data_y,test_size=0.2)"
   ]
  },
  {
   "cell_type": "code",
   "execution_count": 22,
   "id": "66dbfd42",
   "metadata": {},
   "outputs": [],
   "source": [
    "y_train=to_categorical(y_train)"
   ]
  },
  {
   "cell_type": "code",
   "execution_count": 23,
   "id": "e2000007",
   "metadata": {},
   "outputs": [],
   "source": [
    "max_num_words=10000        # max words to be taken from entire corpus\n",
    "seq_len=150                 # words taken from each document\n",
    "embedding_size=100          # embedding size of each word"
   ]
  },
  {
   "cell_type": "code",
   "execution_count": 24,
   "id": "aa3435c6",
   "metadata": {},
   "outputs": [],
   "source": [
    "from keras.preprocessing.text import Tokenizer # is used for tokenization assign id(num) to each word\n",
    "from keras.preprocessing.sequence import pad_sequences # used to bring all samples to same length by adding extra 0"
   ]
  },
  {
   "cell_type": "code",
   "execution_count": 25,
   "id": "dac4e25c",
   "metadata": {},
   "outputs": [],
   "source": [
    "tokenizer=Tokenizer(num_words=max_num_words)\n",
    "tokenizer.fit_on_texts(data['reviews.text'])\n",
    "x_train=tokenizer.texts_to_sequences(x_train)        # will convert text to sequences of Ids\n",
    "x_train=pad_sequences(x_train,maxlen=seq_len)\n",
    "\n",
    "x_test=tokenizer.texts_to_sequences(x_test)\n",
    "x_test=pad_sequences(x_test,maxlen=seq_len)\n",
    "\n",
    "model=Sequential()  # initilize the network\n",
    "model.add(Embedding(input_dim=max_num_words,\n",
    "                   input_length=seq_len,\n",
    "                   output_dim=embedding_size))"
   ]
  },
  {
   "cell_type": "code",
   "execution_count": 26,
   "id": "23996777",
   "metadata": {},
   "outputs": [
    {
     "name": "stderr",
     "output_type": "stream",
     "text": [
      "WARNING:absl:`lr` is deprecated in Keras optimizer, please use `learning_rate` or use the legacy optimizer, e.g.,tf.keras.optimizers.legacy.Adam.\n"
     ]
    }
   ],
   "source": [
    "model.add(LSTM(100))\n",
    "model.add(Dense(3,activation='softmax'))# this 3 bcoz u have 3 level in target variable\n",
    "from tensorflow.keras.optimizers import Adam\n",
    "adam=Adam(lr=0.0001)\n",
    "model.compile(optimizer='adam',loss='categorical_crossentropy',metrics=['accuracy'])"
   ]
  },
  {
   "cell_type": "code",
   "execution_count": 27,
   "id": "ab8702c7",
   "metadata": {},
   "outputs": [
    {
     "name": "stdout",
     "output_type": "stream",
     "text": [
      "Epoch 1/8\n",
      "200/200 [==============================] - 20s 89ms/step - loss: 0.6130 - accuracy: 0.7833 - val_loss: 0.4475 - val_accuracy: 0.8263\n",
      "Epoch 2/8\n",
      "200/200 [==============================] - 19s 95ms/step - loss: 0.4014 - accuracy: 0.8427 - val_loss: 0.4404 - val_accuracy: 0.8256\n",
      "Epoch 3/8\n",
      "200/200 [==============================] - 19s 96ms/step - loss: 0.3028 - accuracy: 0.8775 - val_loss: 0.4623 - val_accuracy: 0.8150\n",
      "Epoch 4/8\n",
      "200/200 [==============================] - 19s 93ms/step - loss: 0.2290 - accuracy: 0.9172 - val_loss: 0.5089 - val_accuracy: 0.8188\n",
      "Epoch 5/8\n",
      "200/200 [==============================] - 19s 95ms/step - loss: 0.1673 - accuracy: 0.9395 - val_loss: 0.5919 - val_accuracy: 0.8200\n",
      "Epoch 6/8\n",
      "200/200 [==============================] - 19s 94ms/step - loss: 0.1138 - accuracy: 0.9616 - val_loss: 0.6572 - val_accuracy: 0.8037\n",
      "Epoch 7/8\n",
      "200/200 [==============================] - 19s 93ms/step - loss: 0.0933 - accuracy: 0.9716 - val_loss: 0.7611 - val_accuracy: 0.8037\n",
      "Epoch 8/8\n",
      "200/200 [==============================] - 19s 95ms/step - loss: 0.0748 - accuracy: 0.9777 - val_loss: 0.8170 - val_accuracy: 0.8125\n"
     ]
    },
    {
     "data": {
      "text/plain": [
       "<keras.src.callbacks.History at 0x1d280c23fd0>"
      ]
     },
     "execution_count": 27,
     "metadata": {},
     "output_type": "execute_result"
    }
   ],
   "source": [
    "model.fit(x_train,y_train,epochs=8,batch_size=32,validation_split=.2)"
   ]
  },
  {
   "cell_type": "code",
   "execution_count": 29,
   "id": "f0c0db8d",
   "metadata": {},
   "outputs": [
    {
     "name": "stdout",
     "output_type": "stream",
     "text": [
      "63/63 [==============================] - 2s 30ms/step\n"
     ]
    }
   ],
   "source": [
    "pred=model.predict(x_test)"
   ]
  },
  {
   "cell_type": "code",
   "execution_count": 30,
   "id": "151af7fb",
   "metadata": {},
   "outputs": [
    {
     "data": {
      "text/plain": [
       "array([[4.5968805e-05, 4.2370101e-03, 9.9571699e-01],\n",
       "       [9.3290641e-05, 1.1770407e-03, 9.9872965e-01],\n",
       "       [2.2219445e-04, 5.6140567e-04, 9.9921644e-01],\n",
       "       ...,\n",
       "       [2.6612438e-04, 2.9307411e-03, 9.9680316e-01],\n",
       "       [5.5941349e-05, 1.1825296e-03, 9.9876153e-01],\n",
       "       [1.9447938e-04, 7.8670267e-04, 9.9901879e-01]], dtype=float32)"
      ]
     },
     "execution_count": 30,
     "metadata": {},
     "output_type": "execute_result"
    }
   ],
   "source": [
    "pred"
   ]
  },
  {
   "cell_type": "code",
   "execution_count": 31,
   "id": "18a8b9ca",
   "metadata": {},
   "outputs": [
    {
     "data": {
      "text/plain": [
       "array([2, 2, 2, ..., 2, 2, 2], dtype=int64)"
      ]
     },
     "execution_count": 31,
     "metadata": {},
     "output_type": "execute_result"
    }
   ],
   "source": [
    "pred_f=pred.argmax(axis=1)\n",
    "pred_f"
   ]
  },
  {
   "cell_type": "code",
   "execution_count": 32,
   "id": "bb2775c1",
   "metadata": {},
   "outputs": [],
   "source": [
    "from sklearn.metrics import *"
   ]
  },
  {
   "cell_type": "code",
   "execution_count": 33,
   "id": "bec1daa5",
   "metadata": {},
   "outputs": [
    {
     "data": {
      "text/plain": [
       "80.2"
      ]
     },
     "execution_count": 33,
     "metadata": {},
     "output_type": "execute_result"
    }
   ],
   "source": [
    "accuracy_LSTM=accuracy_score(y_test,pred_f)*100\n",
    "accuracy_LSTM"
   ]
  },
  {
   "cell_type": "code",
   "execution_count": 34,
   "id": "346376d5",
   "metadata": {},
   "outputs": [
    {
     "name": "stdout",
     "output_type": "stream",
     "text": [
      "              precision    recall  f1-score   support\n",
      "\n",
      "           0       0.57      0.57      0.57       212\n",
      "           1       0.34      0.31      0.32       237\n",
      "           2       0.90      0.91      0.90      1551\n",
      "\n",
      "    accuracy                           0.80      2000\n",
      "   macro avg       0.60      0.60      0.60      2000\n",
      "weighted avg       0.80      0.80      0.80      2000\n",
      "\n"
     ]
    }
   ],
   "source": [
    "print(classification_report(y_test,pred_f))"
   ]
  },
  {
   "cell_type": "markdown",
   "id": "a0c5e5b2",
   "metadata": {},
   "source": [
    "# Bidirectional LSTM"
   ]
  },
  {
   "cell_type": "code",
   "execution_count": 79,
   "id": "abdb3af4",
   "metadata": {},
   "outputs": [],
   "source": [
    "import numpy as np\n",
    "from tensorflow.keras.preprocessing.text import Tokenizer\n",
    "from tensorflow.keras.preprocessing.sequence import pad_sequences\n",
    "from tensorflow.keras.models import Sequential\n",
    "from tensorflow.keras.layers import Embedding, LSTM, Dense,Bidirectional\n"
   ]
  },
  {
   "cell_type": "code",
   "execution_count": 80,
   "id": "c77d1422",
   "metadata": {},
   "outputs": [
    {
     "data": {
      "text/html": [
       "<div>\n",
       "<style scoped>\n",
       "    .dataframe tbody tr th:only-of-type {\n",
       "        vertical-align: middle;\n",
       "    }\n",
       "\n",
       "    .dataframe tbody tr th {\n",
       "        vertical-align: top;\n",
       "    }\n",
       "\n",
       "    .dataframe thead th {\n",
       "        text-align: right;\n",
       "    }\n",
       "</style>\n",
       "<table border=\"1\" class=\"dataframe\">\n",
       "  <thead>\n",
       "    <tr style=\"text-align: right;\">\n",
       "      <th></th>\n",
       "      <th>id</th>\n",
       "      <th>dateAdded</th>\n",
       "      <th>dateUpdated</th>\n",
       "      <th>address</th>\n",
       "      <th>categories</th>\n",
       "      <th>primaryCategories</th>\n",
       "      <th>city</th>\n",
       "      <th>country</th>\n",
       "      <th>keys</th>\n",
       "      <th>latitude</th>\n",
       "      <th>...</th>\n",
       "      <th>reviews.dateSeen</th>\n",
       "      <th>reviews.rating</th>\n",
       "      <th>reviews.sourceURLs</th>\n",
       "      <th>reviews.text</th>\n",
       "      <th>reviews.title</th>\n",
       "      <th>reviews.userCity</th>\n",
       "      <th>reviews.userProvince</th>\n",
       "      <th>reviews.username</th>\n",
       "      <th>sourceURLs</th>\n",
       "      <th>websites</th>\n",
       "    </tr>\n",
       "  </thead>\n",
       "  <tbody>\n",
       "    <tr>\n",
       "      <th>0</th>\n",
       "      <td>AWE2FvX5RxPSIh2RscTK</td>\n",
       "      <td>2018-01-18T18:43:12Z</td>\n",
       "      <td>2019-05-20T23:55:47Z</td>\n",
       "      <td>5620 Calle Real</td>\n",
       "      <td>Hotels,Hotels and motels,Hotel and motel mgmt....</td>\n",
       "      <td>Accommodation &amp; Food Services</td>\n",
       "      <td>Goleta</td>\n",
       "      <td>US</td>\n",
       "      <td>us/ca/goleta/5620callereal/-1127060008</td>\n",
       "      <td>34.44178</td>\n",
       "      <td>...</td>\n",
       "      <td>2018-01-03T00:00:00Z</td>\n",
       "      <td>3</td>\n",
       "      <td>https://www.tripadvisor.com/Hotel_Review-g3243...</td>\n",
       "      <td>This hotel was nice and quiet. Did not know, t...</td>\n",
       "      <td>Best Western Plus Hotel</td>\n",
       "      <td>San Jose</td>\n",
       "      <td>UnitedStates</td>\n",
       "      <td>tatsurok2018</td>\n",
       "      <td>https://www.tripadvisor.com/Hotel_Review-g3243...</td>\n",
       "      <td>https://www.bestwestern.com/en_US/book/hotel-r...</td>\n",
       "    </tr>\n",
       "    <tr>\n",
       "      <th>1</th>\n",
       "      <td>AVwcj_OhkufWRAb5wi9T</td>\n",
       "      <td>2016-11-06T20:21:05Z</td>\n",
       "      <td>2019-05-20T23:31:56Z</td>\n",
       "      <td>5th And San Carlos PO Box 3574</td>\n",
       "      <td>Hotels,Lodging,Hotel</td>\n",
       "      <td>Accommodation &amp; Food Services</td>\n",
       "      <td>Carmel by the Sea</td>\n",
       "      <td>US</td>\n",
       "      <td>us/ca/carmelbythesea/5thandsancarlospobox3574/...</td>\n",
       "      <td>36.55722</td>\n",
       "      <td>...</td>\n",
       "      <td>2016-10-09T00:00:00Z</td>\n",
       "      <td>4</td>\n",
       "      <td>https://www.tripadvisor.com/Hotel_Review-g3217...</td>\n",
       "      <td>We stayed in the king suite with the separatio...</td>\n",
       "      <td>Clean rooms at solid rates in the heart of Carmel</td>\n",
       "      <td>San Francisco</td>\n",
       "      <td>CA</td>\n",
       "      <td>STEPHEN N</td>\n",
       "      <td>http://www.tripadvisor.com/Hotel_Review-g32172...</td>\n",
       "      <td>http://www.bestwestern.com</td>\n",
       "    </tr>\n",
       "    <tr>\n",
       "      <th>2</th>\n",
       "      <td>AVwcj_OhkufWRAb5wi9T</td>\n",
       "      <td>2016-11-06T20:21:05Z</td>\n",
       "      <td>2019-05-20T23:31:56Z</td>\n",
       "      <td>5th And San Carlos PO Box 3574</td>\n",
       "      <td>Hotels,Lodging,Hotel</td>\n",
       "      <td>Accommodation &amp; Food Services</td>\n",
       "      <td>Carmel by the Sea</td>\n",
       "      <td>US</td>\n",
       "      <td>us/ca/carmelbythesea/5thandsancarlospobox3574/...</td>\n",
       "      <td>36.55722</td>\n",
       "      <td>...</td>\n",
       "      <td>2016-10-09T00:00:00Z</td>\n",
       "      <td>3</td>\n",
       "      <td>https://www.tripadvisor.com/Hotel_Review-g3217...</td>\n",
       "      <td>Parking was horrible, somebody ran into my ren...</td>\n",
       "      <td>Business</td>\n",
       "      <td>Prescott Valley</td>\n",
       "      <td>AZ</td>\n",
       "      <td>15Deborah</td>\n",
       "      <td>http://www.tripadvisor.com/Hotel_Review-g32172...</td>\n",
       "      <td>http://www.bestwestern.com</td>\n",
       "    </tr>\n",
       "    <tr>\n",
       "      <th>3</th>\n",
       "      <td>AVwcj_OhkufWRAb5wi9T</td>\n",
       "      <td>2016-11-06T20:21:05Z</td>\n",
       "      <td>2019-05-20T23:31:56Z</td>\n",
       "      <td>5th And San Carlos PO Box 3574</td>\n",
       "      <td>Hotels,Lodging,Hotel</td>\n",
       "      <td>Accommodation &amp; Food Services</td>\n",
       "      <td>Carmel by the Sea</td>\n",
       "      <td>US</td>\n",
       "      <td>us/ca/carmelbythesea/5thandsancarlospobox3574/...</td>\n",
       "      <td>36.55722</td>\n",
       "      <td>...</td>\n",
       "      <td>2016-10-31T00:00:00Z</td>\n",
       "      <td>5</td>\n",
       "      <td>https://www.tripadvisor.com/Hotel_Review-g3217...</td>\n",
       "      <td>Not cheap but excellent location. Price is som...</td>\n",
       "      <td>Very good</td>\n",
       "      <td>Guaynabo</td>\n",
       "      <td>PR</td>\n",
       "      <td>Wilfredo M</td>\n",
       "      <td>http://www.tripadvisor.com/Hotel_Review-g32172...</td>\n",
       "      <td>http://www.bestwestern.com</td>\n",
       "    </tr>\n",
       "    <tr>\n",
       "      <th>4</th>\n",
       "      <td>AVwcj_OhkufWRAb5wi9T</td>\n",
       "      <td>2016-11-06T20:21:05Z</td>\n",
       "      <td>2019-05-20T23:31:56Z</td>\n",
       "      <td>5th And San Carlos PO Box 3574</td>\n",
       "      <td>Hotels,Lodging,Hotel</td>\n",
       "      <td>Accommodation &amp; Food Services</td>\n",
       "      <td>Carmel by the Sea</td>\n",
       "      <td>US</td>\n",
       "      <td>us/ca/carmelbythesea/5thandsancarlospobox3574/...</td>\n",
       "      <td>36.55722</td>\n",
       "      <td>...</td>\n",
       "      <td>2016-10-09T00:00:00Z,2016-03-27T00:00:00Z</td>\n",
       "      <td>2</td>\n",
       "      <td>https://www.tripadvisor.com/Hotel_Review-g3217...</td>\n",
       "      <td>If you get the room that they advertised on th...</td>\n",
       "      <td>Low chance to come back here</td>\n",
       "      <td>Reno</td>\n",
       "      <td>NV</td>\n",
       "      <td>Luc D</td>\n",
       "      <td>http://www.tripadvisor.com/Hotel_Review-g32172...</td>\n",
       "      <td>http://www.bestwestern.com</td>\n",
       "    </tr>\n",
       "  </tbody>\n",
       "</table>\n",
       "<p>5 rows × 26 columns</p>\n",
       "</div>"
      ],
      "text/plain": [
       "                     id             dateAdded           dateUpdated  \\\n",
       "0  AWE2FvX5RxPSIh2RscTK  2018-01-18T18:43:12Z  2019-05-20T23:55:47Z   \n",
       "1  AVwcj_OhkufWRAb5wi9T  2016-11-06T20:21:05Z  2019-05-20T23:31:56Z   \n",
       "2  AVwcj_OhkufWRAb5wi9T  2016-11-06T20:21:05Z  2019-05-20T23:31:56Z   \n",
       "3  AVwcj_OhkufWRAb5wi9T  2016-11-06T20:21:05Z  2019-05-20T23:31:56Z   \n",
       "4  AVwcj_OhkufWRAb5wi9T  2016-11-06T20:21:05Z  2019-05-20T23:31:56Z   \n",
       "\n",
       "                          address  \\\n",
       "0                 5620 Calle Real   \n",
       "1  5th And San Carlos PO Box 3574   \n",
       "2  5th And San Carlos PO Box 3574   \n",
       "3  5th And San Carlos PO Box 3574   \n",
       "4  5th And San Carlos PO Box 3574   \n",
       "\n",
       "                                          categories  \\\n",
       "0  Hotels,Hotels and motels,Hotel and motel mgmt....   \n",
       "1                               Hotels,Lodging,Hotel   \n",
       "2                               Hotels,Lodging,Hotel   \n",
       "3                               Hotels,Lodging,Hotel   \n",
       "4                               Hotels,Lodging,Hotel   \n",
       "\n",
       "               primaryCategories               city country  \\\n",
       "0  Accommodation & Food Services             Goleta      US   \n",
       "1  Accommodation & Food Services  Carmel by the Sea      US   \n",
       "2  Accommodation & Food Services  Carmel by the Sea      US   \n",
       "3  Accommodation & Food Services  Carmel by the Sea      US   \n",
       "4  Accommodation & Food Services  Carmel by the Sea      US   \n",
       "\n",
       "                                                keys  latitude  ...  \\\n",
       "0             us/ca/goleta/5620callereal/-1127060008  34.44178  ...   \n",
       "1  us/ca/carmelbythesea/5thandsancarlospobox3574/...  36.55722  ...   \n",
       "2  us/ca/carmelbythesea/5thandsancarlospobox3574/...  36.55722  ...   \n",
       "3  us/ca/carmelbythesea/5thandsancarlospobox3574/...  36.55722  ...   \n",
       "4  us/ca/carmelbythesea/5thandsancarlospobox3574/...  36.55722  ...   \n",
       "\n",
       "                            reviews.dateSeen reviews.rating  \\\n",
       "0                       2018-01-03T00:00:00Z              3   \n",
       "1                       2016-10-09T00:00:00Z              4   \n",
       "2                       2016-10-09T00:00:00Z              3   \n",
       "3                       2016-10-31T00:00:00Z              5   \n",
       "4  2016-10-09T00:00:00Z,2016-03-27T00:00:00Z              2   \n",
       "\n",
       "                                  reviews.sourceURLs  \\\n",
       "0  https://www.tripadvisor.com/Hotel_Review-g3243...   \n",
       "1  https://www.tripadvisor.com/Hotel_Review-g3217...   \n",
       "2  https://www.tripadvisor.com/Hotel_Review-g3217...   \n",
       "3  https://www.tripadvisor.com/Hotel_Review-g3217...   \n",
       "4  https://www.tripadvisor.com/Hotel_Review-g3217...   \n",
       "\n",
       "                                        reviews.text  \\\n",
       "0  This hotel was nice and quiet. Did not know, t...   \n",
       "1  We stayed in the king suite with the separatio...   \n",
       "2  Parking was horrible, somebody ran into my ren...   \n",
       "3  Not cheap but excellent location. Price is som...   \n",
       "4  If you get the room that they advertised on th...   \n",
       "\n",
       "                                       reviews.title  reviews.userCity  \\\n",
       "0                            Best Western Plus Hotel          San Jose   \n",
       "1  Clean rooms at solid rates in the heart of Carmel     San Francisco   \n",
       "2                                           Business   Prescott Valley   \n",
       "3                                          Very good          Guaynabo   \n",
       "4                       Low chance to come back here              Reno   \n",
       "\n",
       "  reviews.userProvince  reviews.username  \\\n",
       "0         UnitedStates      tatsurok2018   \n",
       "1                   CA         STEPHEN N   \n",
       "2                   AZ         15Deborah   \n",
       "3                   PR        Wilfredo M   \n",
       "4                   NV             Luc D   \n",
       "\n",
       "                                          sourceURLs  \\\n",
       "0  https://www.tripadvisor.com/Hotel_Review-g3243...   \n",
       "1  http://www.tripadvisor.com/Hotel_Review-g32172...   \n",
       "2  http://www.tripadvisor.com/Hotel_Review-g32172...   \n",
       "3  http://www.tripadvisor.com/Hotel_Review-g32172...   \n",
       "4  http://www.tripadvisor.com/Hotel_Review-g32172...   \n",
       "\n",
       "                                            websites  \n",
       "0  https://www.bestwestern.com/en_US/book/hotel-r...  \n",
       "1                         http://www.bestwestern.com  \n",
       "2                         http://www.bestwestern.com  \n",
       "3                         http://www.bestwestern.com  \n",
       "4                         http://www.bestwestern.com  \n",
       "\n",
       "[5 rows x 26 columns]"
      ]
     },
     "execution_count": 80,
     "metadata": {},
     "output_type": "execute_result"
    }
   ],
   "source": [
    "data=pd.read_csv(r\"C:\\Users\\PRANAV\\Downloads\\archive (16)\\Datafiniti_Hotel_Reviews_Jun19.csv\")\n",
    "data.head()"
   ]
  },
  {
   "cell_type": "code",
   "execution_count": 102,
   "id": "894c9416",
   "metadata": {},
   "outputs": [
    {
     "data": {
      "text/html": [
       "<div>\n",
       "<style scoped>\n",
       "    .dataframe tbody tr th:only-of-type {\n",
       "        vertical-align: middle;\n",
       "    }\n",
       "\n",
       "    .dataframe tbody tr th {\n",
       "        vertical-align: top;\n",
       "    }\n",
       "\n",
       "    .dataframe thead th {\n",
       "        text-align: right;\n",
       "    }\n",
       "</style>\n",
       "<table border=\"1\" class=\"dataframe\">\n",
       "  <thead>\n",
       "    <tr style=\"text-align: right;\">\n",
       "      <th></th>\n",
       "      <th>reviews.rating</th>\n",
       "      <th>reviews.text</th>\n",
       "    </tr>\n",
       "  </thead>\n",
       "  <tbody>\n",
       "    <tr>\n",
       "      <th>0</th>\n",
       "      <td>3</td>\n",
       "      <td>this hotel was nice and quiet. did not know, t...</td>\n",
       "    </tr>\n",
       "    <tr>\n",
       "      <th>1</th>\n",
       "      <td>4</td>\n",
       "      <td>we stayed in the king suite with the separatio...</td>\n",
       "    </tr>\n",
       "    <tr>\n",
       "      <th>2</th>\n",
       "      <td>3</td>\n",
       "      <td>parking was horrible, somebody ran into my ren...</td>\n",
       "    </tr>\n",
       "    <tr>\n",
       "      <th>3</th>\n",
       "      <td>5</td>\n",
       "      <td>not cheap but excellent location. price is som...</td>\n",
       "    </tr>\n",
       "    <tr>\n",
       "      <th>4</th>\n",
       "      <td>2</td>\n",
       "      <td>if you get the room that they advertised on th...</td>\n",
       "    </tr>\n",
       "    <tr>\n",
       "      <th>...</th>\n",
       "      <td>...</td>\n",
       "      <td>...</td>\n",
       "    </tr>\n",
       "    <tr>\n",
       "      <th>9995</th>\n",
       "      <td>4</td>\n",
       "      <td>my friends and i took a trip to hampton for th...</td>\n",
       "    </tr>\n",
       "    <tr>\n",
       "      <th>9996</th>\n",
       "      <td>5</td>\n",
       "      <td>from check in to departure, staff is friendly,...</td>\n",
       "    </tr>\n",
       "    <tr>\n",
       "      <th>9997</th>\n",
       "      <td>5</td>\n",
       "      <td>this hampton is located on a quiet street acro...</td>\n",
       "    </tr>\n",
       "    <tr>\n",
       "      <th>9998</th>\n",
       "      <td>5</td>\n",
       "      <td>awesome wings (my favorite was garlic parmesan...</td>\n",
       "    </tr>\n",
       "    <tr>\n",
       "      <th>9999</th>\n",
       "      <td>4</td>\n",
       "      <td>clean facility just off freeway ..... staff fr...</td>\n",
       "    </tr>\n",
       "  </tbody>\n",
       "</table>\n",
       "<p>10000 rows × 2 columns</p>\n",
       "</div>"
      ],
      "text/plain": [
       "      reviews.rating                                       reviews.text\n",
       "0                  3  this hotel was nice and quiet. did not know, t...\n",
       "1                  4  we stayed in the king suite with the separatio...\n",
       "2                  3  parking was horrible, somebody ran into my ren...\n",
       "3                  5  not cheap but excellent location. price is som...\n",
       "4                  2  if you get the room that they advertised on th...\n",
       "...              ...                                                ...\n",
       "9995               4  my friends and i took a trip to hampton for th...\n",
       "9996               5  from check in to departure, staff is friendly,...\n",
       "9997               5  this hampton is located on a quiet street acro...\n",
       "9998               5  awesome wings (my favorite was garlic parmesan...\n",
       "9999               4  clean facility just off freeway ..... staff fr...\n",
       "\n",
       "[10000 rows x 2 columns]"
      ]
     },
     "execution_count": 102,
     "metadata": {},
     "output_type": "execute_result"
    }
   ],
   "source": [
    "\n",
    "data=data.loc[::,['reviews.rating','reviews.text']]\n",
    "data"
   ]
  },
  {
   "cell_type": "code",
   "execution_count": 103,
   "id": "ee13017f",
   "metadata": {},
   "outputs": [
    {
     "data": {
      "text/plain": [
       "0       [hotel, nice, quiet, know, train, track, near,...\n",
       "1       [stayed, king, suite, separation, bedroom, liv...\n",
       "2       [parking, horrible, somebody, ran, rental, car...\n",
       "3       [cheap, excellent, location, price, somewhat, ...\n",
       "4       [get, room, advertised, website, paid, may, lu...\n",
       "                              ...                        \n",
       "9995    [friends, took, trip, hampton, basslights, sho...\n",
       "9996    [check, departure, staff, friendly, profession...\n",
       "9997    [hampton, located, quiet, street, across, hosp...\n",
       "9998    [awesome, wings, favorite, garlic, parmesan, g...\n",
       "9999    [clean, facility, freeway, staff, friendly, ef...\n",
       "Name: reviews.text, Length: 10000, dtype: object"
      ]
     },
     "execution_count": 103,
     "metadata": {},
     "output_type": "execute_result"
    }
   ],
   "source": [
    "data['reviews.text'].apply(text_process)"
   ]
  },
  {
   "cell_type": "code",
   "execution_count": 104,
   "id": "a4eb5c9c",
   "metadata": {},
   "outputs": [],
   "source": [
    "\n",
    "data['reviews.rating'].replace({1:0,2:0,3:1,4:2,5:2},inplace=True) "
   ]
  },
  {
   "cell_type": "code",
   "execution_count": 105,
   "id": "a689d670",
   "metadata": {},
   "outputs": [],
   "source": [
    "data_x=data.iloc[:,1]\n",
    "data_y=data.iloc[:,0]\n",
    "from sklearn.model_selection import train_test_split\n",
    "x_train,x_test,y_train,y_test=train_test_split(data_x,data_y,test_size=0.2)"
   ]
  },
  {
   "cell_type": "code",
   "execution_count": 106,
   "id": "ff4083bc",
   "metadata": {},
   "outputs": [],
   "source": [
    "\n",
    "y_train=to_categorical(y_train)"
   ]
  },
  {
   "cell_type": "code",
   "execution_count": 107,
   "id": "79c4ab0a",
   "metadata": {},
   "outputs": [],
   "source": [
    "max_num_words=10000        # max words to be taken from entire corpus\n",
    "seq_len=150                 # words taken from each document\n",
    "embedding_size=200          # embedding size of each word\n"
   ]
  },
  {
   "cell_type": "code",
   "execution_count": 108,
   "id": "f6aee9a0",
   "metadata": {},
   "outputs": [],
   "source": [
    "from keras.preprocessing.text import Tokenizer # is used for tokenization assign id(num) to each word\n",
    "from keras.preprocessing.sequence import pad_sequences # used to bring all samples to same length by adding extra 0"
   ]
  },
  {
   "cell_type": "code",
   "execution_count": 109,
   "id": "ce1a2e42",
   "metadata": {},
   "outputs": [],
   "source": [
    "\n",
    "tokenizer=Tokenizer(num_words=max_num_words)\n",
    "tokenizer.fit_on_texts(data['reviews.text'])\n",
    "x_train=tokenizer.texts_to_sequences(x_train)        # will convert text to sequences of Ids\n",
    "x_train=pad_sequences(x_train,maxlen=seq_len)\n"
   ]
  },
  {
   "cell_type": "code",
   "execution_count": 110,
   "id": "999ed24e",
   "metadata": {},
   "outputs": [],
   "source": [
    "\n",
    "x_test=tokenizer.texts_to_sequences(x_test)\n",
    "x_test=pad_sequences(x_test,maxlen=seq_len)"
   ]
  },
  {
   "cell_type": "code",
   "execution_count": 111,
   "id": "0efdf11e",
   "metadata": {},
   "outputs": [],
   "source": [
    "model=Sequential()  # initilize the network\n",
    "model.add(Embedding(input_dim=max_num_words,\n",
    "                   input_length=seq_len,\n",
    "                   output_dim=embedding_size))"
   ]
  },
  {
   "cell_type": "code",
   "execution_count": 112,
   "id": "f5ad39b6",
   "metadata": {},
   "outputs": [
    {
     "name": "stderr",
     "output_type": "stream",
     "text": [
      "WARNING:absl:`lr` is deprecated in Keras optimizer, please use `learning_rate` or use the legacy optimizer, e.g.,tf.keras.optimizers.legacy.Adam.\n"
     ]
    }
   ],
   "source": [
    "\n",
    "model.add(Bidirectional(LSTM(100)))\n",
    "model.add(Dense(3,activation='softmax'))  # this 3 bcoz u have 3 level in target variable\n",
    "from tensorflow.keras.optimizers import Adam\n",
    "adam=Adam(lr=0.001)\n",
    "model.compile(optimizer='adam',loss='categorical_crossentropy',metrics=['accuracy'])"
   ]
  },
  {
   "cell_type": "code",
   "execution_count": 113,
   "id": "60c90bb4",
   "metadata": {},
   "outputs": [
    {
     "name": "stdout",
     "output_type": "stream",
     "text": [
      "Epoch 1/8\n",
      "200/200 [==============================] - 46s 214ms/step - loss: 0.5955 - accuracy: 0.7884 - val_loss: 0.4604 - val_accuracy: 0.8219\n",
      "Epoch 2/8\n",
      "200/200 [==============================] - 45s 227ms/step - loss: 0.4208 - accuracy: 0.8364 - val_loss: 0.4324 - val_accuracy: 0.8300\n",
      "Epoch 3/8\n",
      "200/200 [==============================] - 45s 223ms/step - loss: 0.3085 - accuracy: 0.8753 - val_loss: 0.4635 - val_accuracy: 0.8200\n",
      "Epoch 4/8\n",
      "200/200 [==============================] - 45s 223ms/step - loss: 0.2207 - accuracy: 0.9181 - val_loss: 0.5105 - val_accuracy: 0.8325\n",
      "Epoch 5/8\n",
      "200/200 [==============================] - 47s 236ms/step - loss: 0.1467 - accuracy: 0.9484 - val_loss: 0.5905 - val_accuracy: 0.8163\n",
      "Epoch 6/8\n",
      "200/200 [==============================] - 46s 228ms/step - loss: 0.0971 - accuracy: 0.9652 - val_loss: 0.7457 - val_accuracy: 0.7544\n",
      "Epoch 7/8\n",
      "200/200 [==============================] - 45s 225ms/step - loss: 0.0715 - accuracy: 0.9744 - val_loss: 0.7531 - val_accuracy: 0.8106\n",
      "Epoch 8/8\n",
      "200/200 [==============================] - 50s 249ms/step - loss: 0.0488 - accuracy: 0.9848 - val_loss: 0.8605 - val_accuracy: 0.8062\n"
     ]
    },
    {
     "data": {
      "text/plain": [
       "<keras.src.callbacks.History at 0x1d29443b460>"
      ]
     },
     "execution_count": 113,
     "metadata": {},
     "output_type": "execute_result"
    }
   ],
   "source": [
    "model.fit(x_train,y_train,epochs=8,batch_size=32,validation_split=.2)"
   ]
  },
  {
   "cell_type": "code",
   "execution_count": 114,
   "id": "da36b0f2",
   "metadata": {},
   "outputs": [
    {
     "name": "stdout",
     "output_type": "stream",
     "text": [
      "63/63 [==============================] - 3s 37ms/step\n"
     ]
    }
   ],
   "source": [
    "pred=model.predict(x_test)"
   ]
  },
  {
   "cell_type": "code",
   "execution_count": 115,
   "id": "65ddda82",
   "metadata": {},
   "outputs": [
    {
     "data": {
      "text/plain": [
       "array([2, 2, 2, ..., 2, 2, 2], dtype=int64)"
      ]
     },
     "execution_count": 115,
     "metadata": {},
     "output_type": "execute_result"
    }
   ],
   "source": [
    "pred_f=pred.argmax(axis=1)\n",
    "pred_f"
   ]
  },
  {
   "cell_type": "code",
   "execution_count": 116,
   "id": "ef6038ed",
   "metadata": {},
   "outputs": [],
   "source": [
    "from sklearn.metrics import *"
   ]
  },
  {
   "cell_type": "code",
   "execution_count": 117,
   "id": "fd52b041",
   "metadata": {},
   "outputs": [
    {
     "data": {
      "text/plain": [
       "80.15"
      ]
     },
     "execution_count": 117,
     "metadata": {},
     "output_type": "execute_result"
    }
   ],
   "source": [
    "accuracy_Bidirectional_LSTM=accuracy_score(y_test,pred_f)*100\n",
    "accuracy_Bidirectional_LSTM"
   ]
  },
  {
   "cell_type": "code",
   "execution_count": 118,
   "id": "25249407",
   "metadata": {},
   "outputs": [
    {
     "name": "stdout",
     "output_type": "stream",
     "text": [
      "              precision    recall  f1-score   support\n",
      "\n",
      "           0       0.60      0.64      0.62       230\n",
      "           1       0.29      0.28      0.28       236\n",
      "           2       0.91      0.91      0.91      1534\n",
      "\n",
      "    accuracy                           0.80      2000\n",
      "   macro avg       0.60      0.61      0.60      2000\n",
      "weighted avg       0.80      0.80      0.80      2000\n",
      "\n"
     ]
    }
   ],
   "source": [
    "print(classification_report(y_test,pred_f))"
   ]
  },
  {
   "cell_type": "markdown",
   "id": "1aa0fc71",
   "metadata": {},
   "source": [
    "# OPTIMUM MODEL"
   ]
  },
  {
   "cell_type": "markdown",
   "id": "e30dd090",
   "metadata": {},
   "source": [
    "SO AFTER COMPARING ALL THE MODELS WE ARE GETTING OPTIMUM MODEL IN NAIYE BAYES\n",
    "\n",
    "\n",
    "\n",
    "\n",
    "\n",
    "\n",
    "accuracy_tdm= 80.15%                               # TDM\n",
    "\n",
    "\n",
    "\n",
    "accuracy_tf_idf= 79.25%                          # TF-IDF\n",
    "\n",
    "\n",
    "\n",
    "accuracy_Naiye_Bayes= 85%                     # NAIYE_BAYES\n",
    "\n",
    "\n",
    "\n",
    "accuracy_LSTM= 80.2%                             # LSTM\n",
    "\n",
    "\n",
    "\n",
    "accuracy_Bidirectional_LSTM= 80.1%                 # BIDIRECTIONAL-LSTM\n",
    "\n"
   ]
  },
  {
   "cell_type": "code",
   "execution_count": 437,
   "id": "aca07d2b",
   "metadata": {},
   "outputs": [],
   "source": [
    "def predict(text):\n",
    "    text = text.lower()\n",
    "    abcd = stopwords.words('english')\n",
    "    nopunc = [char for char in text if char not in string.punctuation]\n",
    "    for i in string.punctuation:\n",
    "        text = text.replace(str(i), \" \")\n",
    "    prediction = ml.predict(bow.transform([text]))[0]\n",
    "    print('Ratings got is',prediction)"
   ]
  },
  {
   "cell_type": "code",
   "execution_count": 454,
   "id": "17d0eefc",
   "metadata": {},
   "outputs": [
    {
     "data": {
      "text/plain": [
       "'hello, i have traveled a lot and abroad and by far this is the worst place i have ever booked. i paid got the key and walked in. omg the place is horrible. this place is one of those hotels they show in horror movies where they kill people. i kid you not! this place is horrible. i only stayed... more'"
      ]
     },
     "execution_count": 454,
     "metadata": {},
     "output_type": "execute_result"
    }
   ],
   "source": [
    "data['reviews.text'][9]"
   ]
  },
  {
   "cell_type": "code",
   "execution_count": 455,
   "id": "569beb08",
   "metadata": {},
   "outputs": [
    {
     "name": "stdout",
     "output_type": "stream",
     "text": [
      "Ratings got is 1\n"
     ]
    }
   ],
   "source": [
    "predict('hello, i have traveled a lot and abroad and by far this is the worst place i have ever booked. i paid got the key and walked in. omg the place is horrible. this place is one of those hotels they show in horror movies where they kill people. i kid you not! this place is horrible. i only stayed... more')"
   ]
  },
  {
   "cell_type": "markdown",
   "id": "8f780524",
   "metadata": {},
   "source": [
    "# Conclusion"
   ]
  },
  {
   "cell_type": "markdown",
   "id": "ba31a67d",
   "metadata": {},
   "source": [
    "THIS SENTIMENT ANALYSIS  ON HOTEL REVIEWS WILL HELP PROVIDE VALUABLE INSIGHTS TO BUSINESSES IN THE HOSPITALITY INDUSTRY.IN FOLLOWING WAYS:\n",
    "\n",
    "\n",
    "\n",
    "1>  IT CAN HIGHLIGHT SPECIFIC AREAS WHERE CUSTOMERS ARE DISSATISFIED, SUCH AS POOR SERVICE,CLEANLINESS,ISSUES OR OUTDATES FACILITIES.\n",
    "\n",
    "\n",
    "\n",
    "\n",
    "2>  BY ANALYZING SENTIMENTS BUSINESSES CAN PRIORITIZE IMPROVEMENTS BASED ON WHAT MATTERS MOST TO CUSTOMERS.THIS CAN LEAD TO TARGETED INVESTMENTS IN AREAS THAT HAVE THE MOST SIGNIFICANT IMPACT ON CUSTOMER SATISFACTION\n",
    "\n",
    "\n",
    "\n",
    "\n",
    "\n",
    "3> POSITIVE SENTIMENTS EXPRESSED BY GUESTS CAN BE USED IN MARKETING MATERIALS TO SHOWCASE THE STRENGTHS AND UNIQUE SELLING POINTS OF THE HOTEL. THIS POSITIVE REINFORCEMENT CAN ATTRACT NEW CUSTOMERS.\n",
    "\n",
    "    \n",
    "    \n",
    " \n",
    "\n"
   ]
  }
 ],
 "metadata": {
  "kernelspec": {
   "display_name": "Python 3 (ipykernel)",
   "language": "python",
   "name": "python3"
  },
  "language_info": {
   "codemirror_mode": {
    "name": "ipython",
    "version": 3
   },
   "file_extension": ".py",
   "mimetype": "text/x-python",
   "name": "python",
   "nbconvert_exporter": "python",
   "pygments_lexer": "ipython3",
   "version": "3.10.9"
  }
 },
 "nbformat": 4,
 "nbformat_minor": 5
}
